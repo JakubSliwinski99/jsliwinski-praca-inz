{
 "cells": [
  {
   "cell_type": "code",
   "execution_count": 92,
   "metadata": {
    "pycharm": {
     "name": "#%%\n"
    }
   },
   "outputs": [],
   "source": [
    "import main\n",
    "import re\n",
    "import spacy\n",
    "from spacytextblob.spacytextblob import SpacyTextBlob\n",
    "from sklearn.model_selection import train_test_split\n",
    "from sklearn.feature_extraction.text import CountVectorizer\n",
    "from sklearn.naive_bayes import MultinomialNB"
   ]
  },
  {
   "cell_type": "code",
   "execution_count": 93,
   "metadata": {
    "pycharm": {
     "name": "#%%\n"
    }
   },
   "outputs": [],
   "source": [
    "from scripts import scripts_box\n",
    "\n",
    "nlp = spacy.load(\"pl_core_news_lg\")\n",
    "nlp.add_pipe('spacytextblob')\n",
    "\n",
    "file1 = open(\"data_facebook/facebook_chlopaki_data.txt\", \"r\", encoding=\"utf-8\")\n",
    "text1 = file1.read()\n",
    "\n",
    "file2 = open(\"data_facebook/facebook_test.txt\", \"r\", encoding=\"utf-8\")\n",
    "text2 = file2.read()\n",
    "\n",
    "file3 = open(\"data_facebook/facebook_chlopaki_zwiazek.txt\", \"r\", encoding=\"utf-8\")\n",
    "text3 = file3.read()\n",
    "\n",
    "file4 = open(\"data_facebook/chlopaki2.txt\", \"r\", encoding=\"utf-8\")\n",
    "text4 = file4.read()\n",
    "\n",
    "file5 = open(\"data_facebook/chlopaki3.txt\", \"r\", encoding=\"utf-8\")\n",
    "text5 = file5.read()\n",
    "\n",
    "found1 = re.findall(r'<div class=\"kvgmc6g5 cxmmr5t8 oygrvhab hcukyx3x c1et5uql ii04i59q\">(.*?)</div></div></span>|label=\"Lubię to!:(.*?)class|label=\"Super:(.*?)class|label=\"Trzymaj się:(.*?)class|label=\"Ha ha:(.*?)class|label=\"Wow:(.*?)class|label=\"Przykro mi:(.*?)class|label=\"Wrr:(.*?)class|<span class=\"pcp91wgn\">(.*?)</span>|fe6kdd0r mau55g9w c8b282yb d3f4x2em iv3no6db jq4qci2q a3bd9o3v b1v8xokw m9osqain\" dir=\"auto\">(.*?)</span>', text1)\n",
    "# for line in found:\n",
    "#     print(line)\n",
    "\n",
    "found2 = re.findall(r'<div class=\"kvgmc6g5 cxmmr5t8 oygrvhab hcukyx3x c1et5uql ii04i59q\">(.*?)</div></div></span>|label=\"Lubię to!:(.*?)class|label=\"Super:(.*?)class|label=\"Trzymaj się:(.*?)class|label=\"Ha ha:(.*?)class|label=\"Wow:(.*?)class|label=\"Przykro mi:(.*?)class|label=\"Wrr:(.*?)class|<span class=\"pcp91wgn\">(.*?)</span>|fe6kdd0r mau55g9w c8b282yb d3f4x2em iv3no6db jq4qci2q a3bd9o3v b1v8xokw m9osqain\" dir=\"auto\">(.*?)</span>', text2)\n",
    "\n",
    "found3 = re.findall(r'<div class=\"kvgmc6g5 cxmmr5t8 oygrvhab hcukyx3x c1et5uql ii04i59q\">(.*?)</div></div></span>|label=\"Lubię to!:(.*?)class|label=\"Super:(.*?)class|label=\"Trzymaj się:(.*?)class|label=\"Ha ha:(.*?)class|label=\"Wow:(.*?)class|label=\"Przykro mi:(.*?)class|label=\"Wrr:(.*?)class|<span class=\"pcp91wgn\">(.*?)</span>|fe6kdd0r mau55g9w c8b282yb d3f4x2em iv3no6db jq4qci2q a3bd9o3v b1v8xokw m9osqain\" dir=\"auto\">(.*?)</span>', text3)\n",
    "\n",
    "found4 = re.findall(r'<div class=\"kvgmc6g5 cxmmr5t8 oygrvhab hcukyx3x c1et5uql ii04i59q\">(.*?)</div></div></span>|label=\"Lubię to!:(.*?)class|label=\"Super:(.*?)class|label=\"Trzymaj się:(.*?)class|label=\"Ha ha:(.*?)class|label=\"Wow:(.*?)class|label=\"Przykro mi:(.*?)class|label=\"Wrr:(.*?)class|<span class=\"pcp91wgn\">(.*?)</span>|fe6kdd0r mau55g9w c8b282yb d3f4x2em iv3no6db jq4qci2q a3bd9o3v b1v8xokw m9osqain\" dir=\"auto\">(.*?)</span>', text4)\n",
    "\n",
    "found5 = re.findall(r'<div class=\"kvgmc6g5 cxmmr5t8 oygrvhab hcukyx3x c1et5uql ii04i59q\">(.*?)</div></div></span>|label=\"Lubię to!:(.*?)class|label=\"Super:(.*?)class|label=\"Trzymaj się:(.*?)class|label=\"Ha ha:(.*?)class|label=\"Wow:(.*?)class|label=\"Przykro mi:(.*?)class|label=\"Wrr:(.*?)class|<span class=\"pcp91wgn\">(.*?)</span>|fe6kdd0r mau55g9w c8b282yb d3f4x2em iv3no6db jq4qci2q a3bd9o3v b1v8xokw m9osqain\" dir=\"auto\">(.*?)</span>', text5)\n",
    "\n",
    "found = found1 + found2 + found3 + found4 + found5\n",
    "\n",
    "list_posts = []\n",
    "list_lubie_to = []\n",
    "list_super = []\n",
    "list_trzymaj_sie = []\n",
    "list_haha = []\n",
    "list_wow = []\n",
    "list_przykro_mi = []\n",
    "list_wrr = []\n",
    "list_all_reactions = []\n",
    "list_comments = []\n",
    "\n",
    "whole_list = []\n",
    "for i in range(len(found)):\n",
    "    if found[i][0] != '':\n",
    "        post = scripts_box.clean_post(found[i][0])\n",
    "        lubie_to = '0'\n",
    "        superr = '0'\n",
    "        trzymaj_sie = '0'\n",
    "        haha = '0'\n",
    "        wow = '0'\n",
    "        przykro_mi = '0'\n",
    "        wrr = '0'\n",
    "        all_reactions = '0'\n",
    "        comments = '0'\n",
    "        j = 1\n",
    "        while comments == '0':\n",
    "            this_row = found[i + j]\n",
    "            if this_row[1] != '':\n",
    "                lubie_to = this_row[1]\n",
    "            elif this_row[2] != '':\n",
    "                superr = this_row[2]\n",
    "            elif this_row[3] != '':\n",
    "                trzymaj_sie = this_row[3]\n",
    "            elif this_row[4] != '':\n",
    "                haha = this_row[4]\n",
    "            elif this_row[5] != '':\n",
    "                wow = this_row[5]\n",
    "            elif this_row[6] != '':\n",
    "                przykro_mi = this_row[6]\n",
    "            elif this_row[7] != '':\n",
    "                wrr = this_row[7]\n",
    "            elif this_row[8] != '':\n",
    "                all_reactions = this_row[8]\n",
    "            elif this_row[9] != '':\n",
    "                comments = this_row[9]\n",
    "            j += 1\n",
    "\n",
    "        list_posts.append(post)\n",
    "        list_lubie_to.append(scripts_box.clean_string_to_int(lubie_to))\n",
    "        list_super.append(scripts_box.clean_string_to_int(superr))\n",
    "        list_trzymaj_sie.append(scripts_box.clean_string_to_int(trzymaj_sie))\n",
    "        list_haha.append(scripts_box.clean_string_to_int(haha))\n",
    "        list_wow.append(scripts_box.clean_string_to_int(wow))\n",
    "        list_przykro_mi.append(scripts_box.clean_string_to_int(przykro_mi))\n",
    "        list_wrr.append(scripts_box.clean_string_to_int(wrr))\n",
    "        list_all_reactions.append(scripts_box.clean_string_to_int(all_reactions))\n",
    "        list_comments.append(scripts_box.clean_string_to_int(comments))\n"
   ]
  },
  {
   "cell_type": "code",
   "execution_count": 94,
   "metadata": {
    "pycharm": {
     "name": "#%%\n"
    }
   },
   "outputs": [],
   "source": [
    "list_preprocessed_posts = []\n",
    "\n",
    "for post in list_posts:\n",
    "    doc = nlp(post)\n",
    "\n",
    "    clean_text = \" \".join(token.lemma_ for token in nlp(doc) if token.lemma_.lower() not in nlp.Defaults.stop_words and token.is_alpha)\n",
    "    list_preprocessed_posts.append(clean_text)"
   ]
  },
  {
   "cell_type": "code",
   "execution_count": 95,
   "metadata": {
    "pycharm": {
     "name": "#%%\n"
    }
   },
   "outputs": [
    {
     "name": "stdout",
     "output_type": "stream",
     "text": [
      "0.0\n",
      "0.0\n"
     ]
    }
   ],
   "source": [
    "from spacy import Language\n",
    "\n",
    "\n",
    "list_all_polarity = []\n",
    "\n",
    "for post in list_posts:\n",
    "    doc = nlp(post)\n",
    "    list_all_polarity.append(doc._.polarity)\n",
    "\n",
    "print(list_all_polarity[10])\n",
    "\n",
    "list_all_subjectivity = []\n",
    "\n",
    "for post in list_posts:\n",
    "    doc = nlp(post)\n",
    "    list_all_subjectivity.append(doc._.subjectivity)\n",
    "\n",
    "print(list_all_polarity[10])"
   ]
  },
  {
   "cell_type": "code",
   "execution_count": 96,
   "metadata": {
    "pycharm": {
     "name": "#%%\n"
    }
   },
   "outputs": [
    {
     "name": "stdout",
     "output_type": "stream",
     "text": [
      " Wiecie co? Nie ma to jak usłyszeć od laski że popełniła błąd, a mogła być szczęśliwa, usłyszeć po 5 latach związku po 2msc po urodzinach córki. Usłyszeć po tym jak wybaczyłem wpadkę na studnoiwce kiedy byłem za granicą(niby typ się poczuł sytuacja nie jasna) wybaczeniu że nie mogła się rozstać z przyjacielem co chcial z nią być, wybaczeniu(to jest hit) że poszła pijana po imprezie firmowej do kierownika pić wódę a ten się dobierał.. Ktoś określi jakim kretynem jestem? Jak można tak się samemu ubiczować a teraz czuć żal? Bo przed sobą mi wstyd że wogóle mi przykro, jestem rozjebany emocjonalnie przyda się dobry psycholog w lubelskim\n",
      "0.8785702858366498\n"
     ]
    }
   ],
   "source": [
    "list_all_similarity_to_best = []\n",
    "\n",
    "max_reactions = 0\n",
    "best_index = 0\n",
    "for i in range(len(list_all_reactions)):\n",
    "    if list_all_reactions[i] > max_reactions:\n",
    "        max_reactions = list_all_reactions[i]\n",
    "        best_index = i\n",
    "\n",
    "print(list_posts[best_index])\n",
    "\n",
    "most_popular_post_doc = nlp(list_posts[i])\n",
    "\n",
    "for post in list_posts:\n",
    "    doc = nlp(post)\n",
    "    list_all_similarity_to_best.append(doc.similarity(most_popular_post_doc))\n",
    "\n",
    "print(list_all_similarity_to_best[10])"
   ]
  },
  {
   "cell_type": "code",
   "execution_count": 97,
   "metadata": {
    "pycharm": {
     "name": "#%%\n"
    }
   },
   "outputs": [],
   "source": [
    "list_all_sentiment = []\n",
    "\n",
    "for i in range(len(list_posts)):\n",
    "    if list_all_reactions[i] != 0:\n",
    "        sad_factor = 1 - (int(list_przykro_mi[i]) + int(list_trzymaj_sie[i])) / int(list_all_reactions[i])\n",
    "        sentiment = (sad_factor - 0.5) * 2\n",
    "        list_all_sentiment.append(abs(sentiment))\n",
    "    else:\n",
    "        list_all_sentiment.append(0)\n"
   ]
  },
  {
   "cell_type": "code",
   "execution_count": 98,
   "metadata": {
    "pycharm": {
     "name": "#%%\n"
    }
   },
   "outputs": [],
   "source": [
    "list_post_length = []\n",
    "for post in list_posts:\n",
    "    doc = nlp(post)\n",
    "    list_post_length.append(len(doc))\n",
    "\n",
    "# print(list_post_length)\n",
    "\n",
    "list_more_than_20_reacts = []\n",
    "list_more_than_50_reacts = []\n",
    "list_more_than_100_reacts = []\n",
    "list_more_than_200_reacts = []\n",
    "\n",
    "for reacts in list_all_reactions:\n",
    "    if reacts > 20:\n",
    "        list_more_than_20_reacts.append(1)\n",
    "    else:\n",
    "        list_more_than_20_reacts.append(0)\n",
    "\n",
    "for reacts in list_all_reactions:\n",
    "    if reacts > 50:\n",
    "        list_more_than_50_reacts.append(1)\n",
    "    else:\n",
    "        list_more_than_50_reacts.append(0)\n",
    "\n",
    "\n",
    "for reacts in list_all_reactions:\n",
    "    if reacts > 100:\n",
    "        list_more_than_100_reacts.append(1)\n",
    "    else:\n",
    "        list_more_than_100_reacts.append(0)\n",
    "\n",
    "\n",
    "for reacts in list_all_reactions:\n",
    "    if reacts > 200:\n",
    "        list_more_than_200_reacts.append(1)\n",
    "    else:\n",
    "        list_more_than_200_reacts.append(0)\n",
    "\n"
   ]
  },
  {
   "cell_type": "code",
   "execution_count": 99,
   "metadata": {
    "pycharm": {
     "name": "#%%\n"
    }
   },
   "outputs": [
    {
     "name": "stdout",
     "output_type": "stream",
     "text": [
      "0.9703703703703703\n",
      "0.8296296296296296\n",
      "0.8518518518518519\n",
      "0.9703703703703703\n"
     ]
    }
   ],
   "source": [
    "#TRAIN BAYES 200 REACTIONS\n",
    "vec = CountVectorizer()\n",
    "\n",
    "x20 = list_preprocessed_posts\n",
    "y20 = list_more_than_200_reacts\n",
    "\n",
    "x20, x_test20, y20, y_test20 = train_test_split(x20, y20, stratify=y20, test_size=0.25, random_state=42)\n",
    "\n",
    "x20 = vec.fit_transform(x20).toarray()\n",
    "x_test20 = vec.transform(x_test20).toarray()\n",
    "\n",
    "model20 = MultinomialNB()\n",
    "\n",
    "model20.fit(x20, y20)\n",
    "\n",
    "print(model20.score(x_test20, y_test20))\n",
    "\n",
    "list_more_than_20_reacts_bayes = model20.predict(vec.transform(list_posts))\n",
    "\n",
    "#TRAIN BAYES 50 REACTIONS\n",
    "\n",
    "x50 = list_preprocessed_posts\n",
    "y50 = list_more_than_50_reacts\n",
    "\n",
    "x50, x_test50, y50, y_test50 = train_test_split(x50, y50, stratify=y50, test_size=0.25, random_state=42)\n",
    "\n",
    "x50 = vec.fit_transform(x50).toarray()\n",
    "x_test50 = vec.transform(x_test50).toarray()\n",
    "\n",
    "model50 = MultinomialNB()\n",
    "model50.fit(x50, y50)\n",
    "\n",
    "print(model50.score(x_test50, y_test50))\n",
    "\n",
    "list_more_than_50_reacts_bayes = model50.predict(vec.transform(list_posts))\n",
    "\n",
    "#TRAIN BAYES 100 REACTIONS\n",
    "\n",
    "x100 = list_preprocessed_posts\n",
    "y100 = list_more_than_100_reacts\n",
    "\n",
    "x100, x_test100, y100, y_test100 = train_test_split(x100, y100, stratify=y100, test_size=0.25, random_state=42)\n",
    "\n",
    "x100 = vec.fit_transform(x100).toarray()\n",
    "x_test100 = vec.transform(x_test100).toarray()\n",
    "\n",
    "model100 = MultinomialNB()\n",
    "model100.fit(x100, y100)\n",
    "\n",
    "print(model100.score(x_test100, y_test100))\n",
    "\n",
    "list_more_than_100_reacts_bayes = model100.predict(vec.transform(list_posts))\n",
    "\n",
    "#TRAIN BAYES 200 REACTIONS\n",
    "\n",
    "x200 = list_preprocessed_posts\n",
    "y200 = list_more_than_200_reacts\n",
    "\n",
    "x200, x_test200, y200, y_test200 = train_test_split(x200, y200, stratify=y200, test_size=0.25, random_state=42)\n",
    "\n",
    "x200 = vec.fit_transform(x200).toarray()\n",
    "x_test200 = vec.transform(x_test200).toarray()\n",
    "\n",
    "model200 = MultinomialNB()\n",
    "\n",
    "model200.fit(x200, y200)\n",
    "\n",
    "print(model200.score(x_test200, y_test200))\n",
    "\n",
    "list_more_than_200_reacts_bayes = model200.predict(vec.transform(list_posts))"
   ]
  },
  {
   "cell_type": "code",
   "execution_count": 100,
   "metadata": {
    "pycharm": {
     "name": "#%%\n"
    }
   },
   "outputs": [
    {
     "data": {
      "text/plain": "Text(0, 0.5, 'Liczba postów')"
     },
     "execution_count": 100,
     "metadata": {},
     "output_type": "execute_result"
    },
    {
     "data": {
      "text/plain": "<Figure size 432x288 with 1 Axes>",
      "image/png": "[encoded data removed]"
     },
     "metadata": {
      "needs_background": "light"
     },
     "output_type": "display_data"
    }
   ],
   "source": [
    "import pandas as pd\n",
    "import matplotlib.pyplot as plt\n",
    "\n",
    "data = {\n",
    "    'POSTS' : list_posts,\n",
    "    'PREPROCESSED_POSTS' : list_preprocessed_posts,\n",
    "    'LUBIE_TO' : list_lubie_to,\n",
    "    'SUPER' : list_super,\n",
    "    'TRZYMAJ_SIE' : list_trzymaj_sie,\n",
    "    'HAHA' : list_haha,\n",
    "    'WOW' : list_wow,\n",
    "    'PRZYKRO_MI' : list_przykro_mi,\n",
    "    'WRR' : list_wrr,\n",
    "    'ALL_REACTIONS' : list_all_reactions,\n",
    "    'COMMENTS' : list_comments,\n",
    "    'POLARITY' : list_all_polarity,\n",
    "    'SUBJECTIVITY' : list_all_subjectivity,\n",
    "    'SIMILARITY_TO_BEST' : list_all_similarity_to_best,\n",
    "    'POSTS_LENGTH' : list_post_length,\n",
    "    'POSTS_SENTIMENT' : list_all_sentiment,\n",
    "    'TWENTY_REACTS_BAYES': list_more_than_20_reacts_bayes,\n",
    "    'FIFTY_REACTS_BAYES': list_more_than_50_reacts_bayes,\n",
    "    'HUNDRED_REACTS_BAYES': list_more_than_100_reacts_bayes,\n",
    "    'TWO_HUNDRED_REACTS_BAYES': list_more_than_200_reacts_bayes\n",
    "}\n",
    "\n",
    "df_facebook = pd.DataFrame(data)\n",
    "\n",
    "# print(df_facebook)\n",
    "df_facebook.to_csv('data_facebook/facebook_data.csv')\n",
    "\n",
    "hist_list = []\n",
    "for reactions in list_all_reactions:\n",
    "    hist_list.append(reactions)\n",
    "\n",
    "\n",
    "fig = plt.figure()\n",
    "plt.hist(hist_list, 1000)\n",
    "plt.title('Histogram reakcji Facebook')\n",
    "plt.xlabel('Liczba reakcji')\n",
    "plt.ylabel('Liczba postów')\n",
    "# plt.plot(list_all_sentiment, list_all_reactions, 'b.')\n",
    "# plt.show()"
   ]
  },
  {
   "cell_type": "code",
   "execution_count": 101,
   "outputs": [
    {
     "data": {
      "text/plain": "Text(0, 0.5, 'Liczba postów')"
     },
     "execution_count": 101,
     "metadata": {},
     "output_type": "execute_result"
    },
    {
     "data": {
      "text/plain": "<Figure size 432x288 with 1 Axes>",
      "image/png": "[encoded data removed]"
     },
     "metadata": {
      "needs_background": "light"
     },
     "output_type": "display_data"
    }
   ],
   "source": [
    "hist_list = []\n",
    "for reactions in list_all_reactions:\n",
    "    hist_list.append(reactions)\n",
    "\n",
    "\n",
    "fig = plt.figure()\n",
    "plt.hist(hist_list, 1000)\n",
    "plt.title('Histogram reakcji Facebook')\n",
    "plt.xlabel('Liczba reakcji')\n",
    "plt.ylabel('Liczba postów')"
   ],
   "metadata": {
    "collapsed": false,
    "pycharm": {
     "name": "#%%\n"
    }
   }
  },
  {
   "cell_type": "code",
   "execution_count": 102,
   "metadata": {
    "pycharm": {
     "name": "#%%\n"
    }
   },
   "outputs": [
    {
     "name": "stdout",
     "output_type": "stream",
     "text": [
      "     Intercept  POLARITY  SUBJECTIVITY  POSTS_LENGTH  SIMILARITY_TO_BEST  \\\n",
      "2          1.0       0.0         0.000          33.0            0.802757   \n",
      "3          1.0       0.0         0.000          92.0            0.905727   \n",
      "4          1.0       0.0         0.000          22.0            0.580254   \n",
      "7          1.0       0.0         0.125          21.0            0.813336   \n",
      "12         1.0       0.0         0.000          49.0            0.852278   \n",
      "..         ...       ...           ...           ...                 ...   \n",
      "525        1.0       0.0         0.000          34.0            0.903517   \n",
      "532        1.0       0.0         0.000         104.0            0.907979   \n",
      "533        1.0       0.0         0.000          62.0            0.870139   \n",
      "534        1.0       0.7         0.600          43.0            0.884433   \n",
      "538        1.0       0.0         0.000          69.0            1.000000   \n",
      "\n",
      "     TWENTY_REACTS_BAYES  FIFTY_REACTS_BAYES  HUNDRED_REACTS_BAYES  \\\n",
      "2                    0.0                 0.0                   0.0   \n",
      "3                    0.0                 0.0                   0.0   \n",
      "4                    0.0                 0.0                   0.0   \n",
      "7                    0.0                 0.0                   0.0   \n",
      "12                   0.0                 0.0                   0.0   \n",
      "..                   ...                 ...                   ...   \n",
      "525                  0.0                 0.0                   0.0   \n",
      "532                  0.0                 0.0                   0.0   \n",
      "533                  0.0                 0.0                   0.0   \n",
      "534                  0.0                 0.0                   0.0   \n",
      "538                  0.0                 0.0                   0.0   \n",
      "\n",
      "     TWO_HUNDRED_REACTS_BAYES  \n",
      "2                         0.0  \n",
      "3                         0.0  \n",
      "4                         0.0  \n",
      "7                         0.0  \n",
      "12                        0.0  \n",
      "..                        ...  \n",
      "525                       0.0  \n",
      "532                       0.0  \n",
      "533                       0.0  \n",
      "534                       0.0  \n",
      "538                       0.0  \n",
      "\n",
      "[80 rows x 9 columns]\n"
     ]
    },
    {
     "data": {
      "text/plain": "<Figure size 432x288 with 1 Axes>",
      "image/png": "[encoded data removed]"
     },
     "metadata": {
      "needs_background": "light"
     },
     "output_type": "display_data"
    },
    {
     "name": "stdout",
     "output_type": "stream",
     "text": [
      "                 Generalized Linear Model Regression Results                  \n",
      "==============================================================================\n",
      "Dep. Variable:          ALL_REACTIONS   No. Observations:                  459\n",
      "Model:                            GLM   Df Residuals:                      451\n",
      "Model Family:                 Poisson   Df Model:                            7\n",
      "Link Function:                    Log   Scale:                          1.0000\n",
      "Method:                          IRLS   Log-Likelihood:                -9195.9\n",
      "Date:                Sat, 08 Jan 2022   Deviance:                       16354.\n",
      "Time:                        20:32:57   Pearson chi2:                 2.85e+04\n",
      "No. Iterations:                     6   Pseudo R-squ. (CS):              1.000\n",
      "Covariance Type:            nonrobust                                         \n",
      "============================================================================================\n",
      "                               coef    std err          z      P>|z|      [0.025      0.975]\n",
      "--------------------------------------------------------------------------------------------\n",
      "Intercept                    2.4737      0.076     32.508      0.000       2.325       2.623\n",
      "POLARITY                     0.5260      0.073      7.166      0.000       0.382       0.670\n",
      "SUBJECTIVITY                -0.6385      0.041    -15.758      0.000      -0.718      -0.559\n",
      "POSTS_LENGTH             -8.368e-05   3.02e-05     -2.767      0.006      -0.000   -2.44e-05\n",
      "SIMILARITY_TO_BEST           0.6452      0.091      7.127      0.000       0.468       0.823\n",
      "TWENTY_REACTS_BAYES          0.5412      0.010     55.979      0.000       0.522       0.560\n",
      "FIFTY_REACTS_BAYES           1.3486      0.019     70.065      0.000       1.311       1.386\n",
      "HUNDRED_REACTS_BAYES         0.6276      0.020     32.047      0.000       0.589       0.666\n",
      "TWO_HUNDRED_REACTS_BAYES     0.5412      0.010     55.979      0.000       0.522       0.560\n",
      "============================================================================================\n",
      "29.161954084020106\n"
     ]
    },
    {
     "data": {
      "text/plain": "<Figure size 432x288 with 0 Axes>"
     },
     "metadata": {},
     "output_type": "display_data"
    },
    {
     "data": {
      "text/plain": "<Figure size 432x288 with 1 Axes>",
      "image/png": "[encoded data removed]"
     },
     "metadata": {
      "needs_background": "light"
     },
     "output_type": "display_data"
    },
    {
     "name": "stdout",
     "output_type": "stream",
     "text": [
      "[[1.         0.81548747]\n",
      " [0.81548747 1.        ]]\n",
      "29.161954084020106\n"
     ]
    },
    {
     "ename": "ValueError",
     "evalue": "For each axis slice, the sum of the observed frequencies must agree with the sum of the expected frequencies to a relative tolerance of 1e-08, but the percent differences are:\n0.19334359233153292",
     "output_type": "error",
     "traceback": [
      "\u001B[1;31m---------------------------------------------------------------------------\u001B[0m",
      "\u001B[1;31mValueError\u001B[0m                                Traceback (most recent call last)",
      "\u001B[1;32m~\\AppData\\Local\\Temp/ipykernel_16196/2005683717.py\u001B[0m in \u001B[0;36m<module>\u001B[1;34m\u001B[0m\n\u001B[0;32m     51\u001B[0m \u001B[0mprint\u001B[0m\u001B[1;33m(\u001B[0m\u001B[0mnp\u001B[0m\u001B[1;33m.\u001B[0m\u001B[0mcorrcoef\u001B[0m\u001B[1;33m(\u001B[0m\u001B[0mpredicted_counts\u001B[0m\u001B[1;33m,\u001B[0m \u001B[0mactual_counts\u001B[0m\u001B[1;33m)\u001B[0m\u001B[1;33m)\u001B[0m\u001B[1;33m\u001B[0m\u001B[1;33m\u001B[0m\u001B[0m\n\u001B[0;32m     52\u001B[0m \u001B[0mprint\u001B[0m\u001B[1;33m(\u001B[0m\u001B[0mmean_poisson_deviance\u001B[0m\u001B[1;33m(\u001B[0m\u001B[0mactual_counts\u001B[0m\u001B[1;33m,\u001B[0m \u001B[0mpredicted_counts\u001B[0m\u001B[1;33m)\u001B[0m\u001B[1;33m)\u001B[0m\u001B[1;33m\u001B[0m\u001B[1;33m\u001B[0m\u001B[0m\n\u001B[1;32m---> 53\u001B[1;33m \u001B[0mprint\u001B[0m\u001B[1;33m(\u001B[0m\u001B[0mchisquare\u001B[0m\u001B[1;33m(\u001B[0m\u001B[0mpredicted_counts\u001B[0m\u001B[1;33m,\u001B[0m \u001B[0mf_exp\u001B[0m\u001B[1;33m=\u001B[0m\u001B[0mactual_counts\u001B[0m\u001B[1;33m)\u001B[0m\u001B[1;33m)\u001B[0m\u001B[1;33m\u001B[0m\u001B[1;33m\u001B[0m\u001B[0m\n\u001B[0m",
      "\u001B[1;32mc:\\users\\kuba\\anaconda3\\envs\\aibd\\labagh\\lab3\\lib\\site-packages\\scipy\\stats\\stats.py\u001B[0m in \u001B[0;36mchisquare\u001B[1;34m(f_obs, f_exp, ddof, axis)\u001B[0m\n\u001B[0;32m   6850\u001B[0m \u001B[1;33m\u001B[0m\u001B[0m\n\u001B[0;32m   6851\u001B[0m     \"\"\"\n\u001B[1;32m-> 6852\u001B[1;33m     return power_divergence(f_obs, f_exp=f_exp, ddof=ddof, axis=axis,\n\u001B[0m\u001B[0;32m   6853\u001B[0m                             lambda_=\"pearson\")\n\u001B[0;32m   6854\u001B[0m \u001B[1;33m\u001B[0m\u001B[0m\n",
      "\u001B[1;32mc:\\users\\kuba\\anaconda3\\envs\\aibd\\labagh\\lab3\\lib\\site-packages\\scipy\\stats\\stats.py\u001B[0m in \u001B[0;36mpower_divergence\u001B[1;34m(f_obs, f_exp, ddof, axis, lambda_)\u001B[0m\n\u001B[0;32m   6692\u001B[0m                    \u001B[1;34mf\"of {rtol}, but the percent differences are:\\n\"\u001B[0m\u001B[1;33m\u001B[0m\u001B[1;33m\u001B[0m\u001B[0m\n\u001B[0;32m   6693\u001B[0m                    f\"{relative_diff}\")\n\u001B[1;32m-> 6694\u001B[1;33m             \u001B[1;32mraise\u001B[0m \u001B[0mValueError\u001B[0m\u001B[1;33m(\u001B[0m\u001B[0mmsg\u001B[0m\u001B[1;33m)\u001B[0m\u001B[1;33m\u001B[0m\u001B[1;33m\u001B[0m\u001B[0m\n\u001B[0m\u001B[0;32m   6695\u001B[0m \u001B[1;33m\u001B[0m\u001B[0m\n\u001B[0;32m   6696\u001B[0m     \u001B[1;32melse\u001B[0m\u001B[1;33m:\u001B[0m\u001B[1;33m\u001B[0m\u001B[1;33m\u001B[0m\u001B[0m\n",
      "\u001B[1;31mValueError\u001B[0m: For each axis slice, the sum of the observed frequencies must agree with the sum of the expected frequencies to a relative tolerance of 1e-08, but the percent differences are:\n0.19334359233153292"
     ]
    }
   ],
   "source": [
    "from sklearn.metrics import mean_poisson_deviance\n",
    "from statsmodels.formula.api import glm\n",
    "import pandas as pd\n",
    "from patsy import dmatrices\n",
    "import numpy as np\n",
    "import statsmodels.api as sm\n",
    "import matplotlib.pyplot as plt\n",
    "\n",
    "df_facebook = pd.read_csv('data_facebook/facebook_data.csv')\n",
    "\n",
    "mask = np.random.rand(len(df_facebook)) < 0.85\n",
    "df_train = df_facebook[mask]\n",
    "df_test = df_facebook[~mask]\n",
    "\n",
    "expr = \"\"\"ALL_REACTIONS ~ POLARITY + SUBJECTIVITY + POSTS_LENGTH + SIMILARITY_TO_BEST + TWENTY_REACTS_BAYES + FIFTY_REACTS_BAYES + HUNDRED_REACTS_BAYES + TWO_HUNDRED_REACTS_BAYES\"\"\"\n",
    "\n",
    "y_train, X_train = dmatrices(expr, df_train, return_type='dataframe')\n",
    "y_test, X_test = dmatrices(expr, df_test, return_type='dataframe')\n",
    "print(X_test)\n",
    "\n",
    "poisson_training_results = sm.GLM(y_train, X_train, family=sm.families.Poisson()).fit()\n",
    "\n",
    "poisson_predictions = poisson_training_results.get_prediction(X_test)\n",
    "predictions_summary_frame = poisson_predictions.summary_frame()\n",
    "\n",
    "predicted_counts=predictions_summary_frame['mean']\n",
    "actual_counts = y_test['ALL_REACTIONS']\n",
    "fig = plt.figure()\n",
    "fig.suptitle('Wykres porównawczy przewidywanej oraz rzeczzywistej liczby reakcji')\n",
    "predicted, = plt.plot(X_test.index, predicted_counts, 'go-', label='Przewidywana liczba reakcji')\n",
    "actual, = plt.plot(X_test.index, actual_counts, 'ro-', label='Rzeczywista liczba reakcji')\n",
    "plt.legend(handles=[predicted, actual])\n",
    "plt.show()\n",
    "\n",
    "#Print the training summary.\n",
    "print(poisson_training_results.summary())\n",
    "print(mean_poisson_deviance(actual_counts, predicted_counts))\n",
    "\n",
    "from scipy.stats import chisquare\n",
    "\n",
    "plt.clf()\n",
    "fig = plt.figure()\n",
    "fig.suptitle('Wykres porównawczy przewidywanej oraz rzeczzywistej liczby reakcji')\n",
    "plt.scatter(x=predicted_counts, y=actual_counts, marker='.')\n",
    "plt.xlim([0, 550])\n",
    "plt.ylim([0, 550])\n",
    "plt.xlabel('Przewidywana liczba reakcji')\n",
    "plt.ylabel('Rzeczywista liczba reakcji')\n",
    "plt.show()\n",
    "\n",
    "print(np.corrcoef(predicted_counts, actual_counts))\n",
    "print(mean_poisson_deviance(actual_counts, predicted_counts))\n",
    "print(chisquare(predicted_counts, f_exp=actual_counts))"
   ]
  },
  {
   "cell_type": "code",
   "execution_count": null,
   "metadata": {
    "pycharm": {
     "name": "#%%\n"
    }
   },
   "outputs": [],
   "source": [
    "from sklearn.model_selection import cross_val_score\n",
    "scores = cross_val_score(poisson_training_results, predicted_counts, actual_counts, cv=5)"
   ]
  },
  {
   "cell_type": "code",
   "execution_count": null,
   "metadata": {
    "pycharm": {
     "name": "#%%\n"
    }
   },
   "outputs": [],
   "source": [
    "i = 0\n",
    "max_corr = 0.4\n",
    "min_poisson_deviance = 100\n",
    "\n",
    "final_predicted = []\n",
    "final_actual = []\n",
    "\n",
    "for i in range(1000):\n",
    "    i += 1\n",
    "\n",
    "    mask = np.random.rand(len(df_facebook)) < 0.85\n",
    "    df_train = df_facebook[mask]\n",
    "    df_test = df_facebook[~mask]\n",
    "    # print('Training data set length='+str(len(df_train)))\n",
    "    # print('Testing data set length='+str(len(df_test)))\n",
    "\n",
    "    expr = \"\"\"ALL_REACTIONS ~ POLARITY + SUBJECTIVITY + POSTS_LENGTH + POSTS_SENTIMENT + SIMILARITY_TO_BEST + TWENTY_REACTS_BAYES + FIFTY_REACTS_BAYES + HUNDRED_REACTS_BAYES + TWO_HUNDRED_REACTS_BAYES\"\"\"\n",
    "\n",
    "    y_train, X_train = dmatrices(expr, df_train, return_type='dataframe')\n",
    "    y_test, X_test = dmatrices(expr, df_test, return_type='dataframe')\n",
    "\n",
    "    poisson_training_results = sm.GLM(y_train, X_train, family=sm.families.Poisson()).fit()\n",
    "\n",
    "    poisson_predictions = poisson_training_results.get_prediction(X_test)\n",
    "    #summary_frame() returns a pandas DataFrame\n",
    "    predictions_summary_frame = poisson_predictions.summary_frame()\n",
    "    #print(predictions_summary_frame)\n",
    "\n",
    "    predicted_counts=predictions_summary_frame['mean']\n",
    "    actual_counts = y_test['ALL_REACTIONS']\n",
    "\n",
    "    if np.corrcoef(actual_counts, predicted_counts)[0][1] > max_corr:\n",
    "\n",
    "        max_corr = np.corrcoef(actual_counts, predicted_counts)[0][1]\n",
    "        # print(str(min_poisson_deviance))\n",
    "        print(np.corrcoef(actual_counts, predicted_counts)[0][1])\n",
    "        final_predicted = predicted_counts\n",
    "        final_actual = actual_counts\n",
    "\n",
    "        fig = plt.figure()\n",
    "        fig.suptitle('Wykres porównawczy przewidywanej oraz rzeczywistej liczby reakcji')\n",
    "        predicted, = plt.plot(X_test.index, predicted_counts, 'go-', label='Przewidywana liczba reakcji')\n",
    "        actual, = plt.plot(X_test.index, actual_counts, 'ro-', label='Rzeczywista liczba reakcji')\n",
    "        plt.legend(handles=[predicted, actual])\n",
    "        plt.show()\n",
    "\n",
    "        #Print the training summary.\n",
    "        print(poisson_training_results.summary())\n",
    "        # print(chisquare(predicted_counts, f_exp=actual_counts))\n",
    "\n",
    "        plt.clf()\n",
    "        fig = plt.figure()\n",
    "        fig.suptitle('Wykres porównawczy przewidywanej oraz rzeczywistej liczby reakcji')\n",
    "        plt.scatter(x=predicted_counts, y=actual_counts, marker='.')\n",
    "        plt.xlim([0, 550])\n",
    "        plt.ylim([0, 550])\n",
    "        plt.xlabel('Przewidywana liczba reakcji')\n",
    "        plt.ylabel('Rzeczywista liczba reakcji')\n",
    "        plt.show()"
   ]
  },
  {
   "cell_type": "code",
   "execution_count": null,
   "metadata": {
    "pycharm": {
     "name": "#%%\n"
    }
   },
   "outputs": [],
   "source": [
    "from scipy.stats import chisquare\n",
    "print(chisquare(final_predicted, f_exp=actual_counts))"
   ]
  },
  {
   "cell_type": "code",
   "execution_count": null,
   "outputs": [],
   "source": [],
   "metadata": {
    "collapsed": false,
    "pycharm": {
     "name": "#%%\n"
    }
   }
  }
 ],
 "metadata": {
  "kernelspec": {
   "display_name": "Python 3 (ipykernel)",
   "language": "python",
   "name": "python3"
  },
  "language_info": {
   "codemirror_mode": {
    "name": "ipython",
    "version": 3
   },
   "file_extension": ".py",
   "mimetype": "text/x-python",
   "name": "python",
   "nbconvert_exporter": "python",
   "pygments_lexer": "ipython3",
   "version": "3.8.10"
  }
 },
 "nbformat": 4,
 "nbformat_minor": 4
}