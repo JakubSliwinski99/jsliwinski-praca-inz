{
 "cells": [
  {
   "cell_type": "code",
   "execution_count": 1,
   "outputs": [],
   "source": [
    "import re\n",
    "import string\n",
    "\n",
    "def clean_text_round1(text):\n",
    "    '''Make text lowercase, remove text in square brackets, remove punctuation and remove words containing numbers.'''\n",
    "    text = text.lower()\n",
    "    text = re.sub('\\[.*?\\]', '', text)\n",
    "    text = re.sub('[%s]' % re.escape(string.punctuation), '', text)\n",
    "    text = re.sub('\\w*\\d\\w*', '', text)\n",
    "    text = re.sub('[‘’“”…]', '', text)\n",
    "    text = re.sub('\\n', ' ', text)\n",
    "    return text\n",
    "\n",
    "#Nie usuwa więcej niż raz??? Nie usuwa 'w'\n",
    "\n",
    "round1 = lambda x: clean_text_round1(x)"
   ],
   "metadata": {
    "collapsed": false,
    "pycharm": {
     "name": "#%%\n"
    }
   }
  },
  {
   "cell_type": "code",
   "execution_count": 7,
   "outputs": [
    {
     "name": "stdout",
     "output_type": "stream",
     "text": [
      "277\n"
     ]
    }
   ],
   "source": [
    "import main\n",
    "import spacy\n",
    "from spacytextblob.spacytextblob import SpacyTextBlob\n",
    "\n",
    "file = open(\"facebook_chlopaki_data.txt\", \"r\", encoding=\"utf-8\")\n",
    "text = file.read()\n",
    "\n",
    "nlp = spacy.load(\"pl_core_news_sm\")\n",
    "nlp.add_pipe('spacytextblob')\n",
    "\n",
    "found = re.findall(r'<div class=\"kvgmc6g5 cxmmr5t8 oygrvhab hcukyx3x c1et5uql ii04i59q\">(.*?)</div></div></span>|<span class=\"pcp91wgn\">(.*?)</span>|fe6kdd0r mau55g9w c8b282yb d3f4x2em iv3no6db jq4qci2q a3bd9o3v b1v8xokw m9osqain\" dir=\"auto\">(.*?)</span>', text)\n",
    "# for line in found:\n",
    "#     print(line)\n",
    "\n",
    "posts_reactions_comments = []\n",
    "\n",
    "for i in range(len(found) - 2):\n",
    "    if found[i][0] != '' and found[i + 1][1] != '' and found[i + 2][2] != '':\n",
    "        posts_reactions_comments.append([main.clean_post(found[i][0]), found[i + 1][1], main.clean_comment(found[i + 2][2])])\n",
    "\n",
    "# for post in posts_reactions_comments:\n",
    "#     print(post)\n",
    "\n",
    "print(len(posts_reactions_comments))\n",
    "\n"
   ],
   "metadata": {
    "collapsed": false,
    "pycharm": {
     "name": "#%%\n"
    }
   }
  },
  {
   "cell_type": "code",
   "execution_count": 15,
   "outputs": [
    {
     "data": {
      "text/plain": "<Figure size 432x288 with 1 Axes>",
      "image/png": "[encoded data removed]"
     },
     "metadata": {
      "needs_background": "light"
     },
     "output_type": "display_data"
    },
    {
     "data": {
      "text/plain": "<Figure size 432x288 with 1 Axes>",
      "image/png": "[encoded data removed]"
     },
     "metadata": {
      "needs_background": "light"
     },
     "output_type": "display_data"
    }
   ],
   "source": [
    "import matplotlib.pyplot as plt\n",
    "import numpy as np\n",
    "\n",
    "x1 = []\n",
    "x2 = []\n",
    "y1 = []\n",
    "com = []\n",
    "\n",
    "for post in posts_reactions_comments:\n",
    "    doc = nlp(post[0])\n",
    "    if doc._.subjectivity != 0:\n",
    "        x1.append(doc._.subjectivity)\n",
    "        y1.append(int(post[1]))\n",
    "\n",
    "for post in posts_reactions_comments:\n",
    "    doc = nlp(post[0])\n",
    "    if doc._.subjectivity != 0:\n",
    "        x2.append(doc._.subjectivity)\n",
    "        com.append(int(post[2]))\n",
    "\n",
    "x_array = np.array(x1)\n",
    "y_array = np.array(y1)\n",
    "com_array = np.array(com)\n",
    "\n",
    "plt.plot(x_array, y_array, 'bo')\n",
    "plt.show()\n",
    "plt.plot(x_array, com_array, 'go')\n",
    "plt.show()"
   ],
   "metadata": {
    "collapsed": false,
    "pycharm": {
     "name": "#%%\n"
    }
   }
  },
  {
   "cell_type": "code",
   "execution_count": 2,
   "outputs": [],
   "source": [],
   "metadata": {
    "collapsed": false,
    "pycharm": {
     "name": "#%%\n"
    }
   }
  }
 ],
 "metadata": {
  "kernelspec": {
   "display_name": "Python 3 (ipykernel)",
   "language": "python",
   "name": "python3"
  },
  "language_info": {
   "codemirror_mode": {
    "name": "ipython",
    "version": 3
   },
   "file_extension": ".py",
   "mimetype": "text/x-python",
   "name": "python",
   "nbconvert_exporter": "python",
   "pygments_lexer": "ipython3",
   "version": "3.8.10"
  }
 },
 "nbformat": 4,
 "nbformat_minor": 4
}