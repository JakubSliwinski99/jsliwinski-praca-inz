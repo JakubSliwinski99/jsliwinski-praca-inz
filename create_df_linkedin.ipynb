{
 "cells": [
  {
   "cell_type": "code",
   "execution_count": 2,
   "outputs": [
    {
     "name": "stdout",
     "output_type": "stream",
     "text": [
      "('Jak idiota dałem się zrobić na 370 zł', '414')\n",
      "('CBA dostało zakaz używania Pegasusa. Co teraz?', '68')\n",
      "('Anti5G necklaces found to be radioactive', '255')\n",
      "('Odpowiadamy na pytania, które mieliście odnośnie kluczy U2F. Jak działają, jak poprawnie je skonfigurować, no i oczywiście czemu hakerzy ich nienawidzą :) Sorry za miniaturę, robimy mały test :D PS. Warto obejrzeć do końca...', '367')\n",
      "('', '144')\n",
      "('Hermetyczne, ale cudowne!', '701')\n",
      "('Jeśli zależy Ci na bezpieczeństwie bliskich, to kup im pod choinkę klucz U2F Dzięki niemu, nawet jeśli złapią się na phishing i podadzą cyberprzestępcy swoje hasło, to nic im się nie stanie Kupić można tu: https:  lnkd.in gttrE8UU ', '52')\n",
      "('Mega porada na dziś: JAK ZROBIĆ KOMUŚ DOWCIP NA LINKEDIN W 3 KROKACH! KROK PIERWSZY: A ZACZNIJ OD Zobacz więcej', '1741')\n",
      "('Męczycie nas o Black Friday. Nie planowaliśmy, ale niech będzie. Nasz bestsellerowy Kurs OSINT Praktyka. Dużo praktyki. Ciągłe aktualizacje. I wieczysty dostęp Za 500 zeta mniej z kodem BF21LI: https:  lnkd.in euw2EwPN PS. Od grudnia nie będzie już opcji z wieczystym dostępem', '31')\n",
      "(' Uwaga na groźne SMSy dotyczące przesyłek', '506')\n",
      "('Cyber Monday na Niebezpieczniku: nagrania za 50 taniej!', '33')\n",
      "(' A czy Ty jesteś już zapisany na nasze cyberalerty? Jeśli nie, możesz to zrobić tu: https:  lnkd.in eAd5QP5 ', '59')\n",
      "('Prawdziwe.', '1045')\n",
      "('Doceniamy pomysłowość, ale i tak życzymy autorom wszystkiego co najgorsze. Tego wariantu jeszcze nie widzieliśmy, ale pozostałe treści SMSów z trwającego właśnie ataku znjadziecie tu: https:  lnkd.in eXbzCzKp ', '504')\n",
      "('Dziś startuje Europejski Miesiąc Cyberbezpieczeństwa. Z tej okazji...nbsp ...dalej będziemy robić to samo, co robimy w każdym miesiącu Bo każdego dnia powinno się zwracać uwagę na bezpieczeństwo w sieci, a nie tylko od święta.', '388')\n",
      "('Z Przemkiem Jaroszewskim o CERT i bezpieczeństwie Polski', '75')\n",
      "('Dziś bardzo dużo osób podesłało nam ten artykuł red. Czuchnowskiego z Gazety Wyborczej na fotografii. Artykuł ten nie jest, niestety, rzetelny. Nie musicie wpadać w panikę. Ale to nie oznacza, że do sposobu powstania i zakresu przywilejów Operatora Narodowego nie ma zastrzeżeń. Są. Dobrze to opisuje Sylwia Czubkowska tu: https:  lnkd.in eZ9wwXkz Zachęcamy do lektury teksty Sylwii. I refleksji na weekend: dokąd zmierza ten świat? Czy Huawei dostanie bana? Co się stanie po wyciągnięciu ręki za granicę wszechświata, oraz najważniejsze dokąd nocą tupta jeż?', '193')\n",
      "('Co policja i inne służby (ale także włamywacze) mogą pozyskać od poszczególnych komunikatorów: https:  lnkd.in eCnS2dzB ', '412')\n",
      "('Cooo?! Już grudzień?! Jeśli: chciałeś pójść na nasze szkolenie ale żaden z grudniowych terminów Ci nie pasuje a budżet musisz wydać do końca 2021 To kup VOUCHER: https:  lnkd.in eAAXEWH Jest ważny przez rok. Nie jest imienny. Świetnie nadaje się też na prezent pod ', '465')\n",
      "('Co najniebezpieczniejszego, najstraszniejszego widzieliście w te wakacje? (Ceny smażonych pang w Sopocie się nie liczą)', '58')\n",
      "('Meta...', '335')\n",
      "('Nowy wymiar oszustwa na fałszywego pracownika banku. BLIK i wpłatomat zamiast aplikacji AnyDesk i TeamViewer', '335')\n",
      "('Atak ransomwarem jest jak pentest, przy czym cenę i zakres negocjujesz z wykonawcą po zleceniu a nie przed... (Rob Graham)', '251')\n",
      "('Hehe!', '727')\n",
      "('Dziś o 12:05 będziemy rozmawiać w Radio Nowy Świat o hackowaniu polityków przez Rosjan (i nie tylko). Ale już teraz włączcie, bo ktoś fajnie mówi o profilowaniu przez reklamy na Fejsie.', '64')\n",
      "('Mandiant potwierdza: to Białoruś stoi za atakami na polskich polityków', '288')\n",
      "('Po Twitterze krąży taki screen z Tindera, pokazujący że w okolicach Kuźnicy Grodna wyskakuje sporo profili żołnierzy, nie tylko polskich... Więc naszym żołnierzom, którzy dotarli pod granicę i się nudzą na Tinderze przypominamy: Niektóre profile kobiet mogą być podstawione przez wroga Wysyłane przez nie plikifotki mogą być złośliwe, a linki prowadzić na phishingi, a jeśli przekażecie im swoje nudeski to mogą one posłużyć do szantażu. (czerwona cenzura nasza, ale chłopy, ogarnijcie się, opsec przede wszystkim)', '1205')\n",
      "('Generał Pacek kolejną ofiarą włamań na konta VIPów', '124')\n",
      "('To musi być turbo tępa osoba proszę Pani powiedział złodziej do naszej Czytelniczki, kiedy zapytała go w niewybrednych słowach, kto się na to nabiera. Zobaczcie film: https:  lnkd.in eHVxjHq9 I stąd apel do banków o info o tym scamie ZARAZ OBOK numeru infolinii na WWW. Zwróćcie też uwagę, że tym razem złodziej nie ma akcentu...', '473')\n",
      "(' 211 146 Polaków z wczorajszego wycieku Facebooka jest jednocześnie pod tym samym numerem telefonu widoczna w bazie Morele, która wyciekła w 2018.    analizę wykonał tajemniczy CyberPiechociński', '112')\n",
      "('Ciekawostka: aż 15 290 Polaków, których dane wyciekły z Facebooka (a wczoraj zostały opublikowane) jako zawód podało: Szlachta nie pracuje ', '954')\n",
      "('Media Markt i Saturn zhackowane', '195')\n",
      "('W internecie od miesiąca ktoś doxuje czyli publikuje dane strażników granicznych: zdjęcia (także z rodziną) telefony adresy zamieszkania Oskarża ich przy tym o różne akty przemocy na migrantach. Ale bez żadnych wiarygodnych dowodów. Przykład: film płaczącego dziecka. Opis: To x je skrzywdził. Operacja dezinformacji trwa... Namiaru ani nawet ocenzurowanych fragmentów nie będziemy podawać. I prosimy, żebyście też ich nie linkowali. Ale warto obserwować kto to zrobi już zrobił i w jakim kontekście. Dzisiejszy dzień sponsoruje fraza: useful idiots a obrazem dnia jest Pan prezydent kraju na B przybijajacy piątkę z Panem prezydentem kraju na R. Bardzo nam się marzy, żeby każdy potrafił niezależnie i zawsze weryfikować prawdziwość źródeł oraz miał odwagę wypunktować manipulację, nawet jeśli jej obnażenie nie jest zgodne z jego własnymi poglądami. Niestety, w tak spolaryzowanym społeczeństwie jakie obecnie mamy, to bardzo ciężkie do spełnienia marzenie. A takie akcje jak ta, jeszcze bardziej nas polaryzują...', '1864')\n",
      "('No dalej, kliknij i otwórz PDFa z serwera ABW ) https:  lnkd.in ekNFN9XZ ', '79')\n",
      "('Nauczycielka kasowała uczniom gry i filmy z komputerów podczas zdalnych lekcji', '246')\n",
      "('Niebezpiecznik on Twitter', '39')\n",
      "('Czy można wysłaćnbspemaila z czyjegośnbspadresu IP?', '184')\n",
      "('(SHA1) c823092c5e7a33b1abd155b30ae6ae4a6d6fbc59 usecrypt ', '28')\n",
      "('Komiks dla dzieci o cyberbezpieczeństwie (i nie tylko)', '295')\n",
      "('Już niebawem 45 odcinek podcastu Na Podsłuchu z gościem specjalnym: Przemkiem Jaroszewskim który w zespole CERT Polska spędził 20 lat i kierował nim aż do zeszłego piątku. Jak widać po minach, będzie wesoło. Choć nie dla wszystkich... Wypatrujcie na https:  niebezpiecznik.tv ', '125')\n",
      "('Uratuj komuś życie zobacz ten wykład! ...i mamy prośbę, przekaż info jak największej liczbie osób. Wykład jest odpowiedni dla dzieci, więc jeśli macie znajomych w szkołach liceach uczelniach dajcie im znać. Tonbspwiedza, którą powinien posiadać każdy. Dla naszego wspólnego dobra.', '123')\n",
      "('Ciekawy atak z Loterią Narodowego Programu Szczepień w tle', '55')\n",
      "('Uwaga na nowy wariant oszustwa na pracownika banku. Tym razem dzwoni automat z lektorem. Podszywa sięnbsppod nr dep. cyberbezpieczeństwa KPRM. Co mówi oszust? Zobacz video poniżej. A tu szerszy opis reszty przekrętu: https:  lnkd.in eabfygb Prześlijcie powyższy link znajomym i ostrzeżcie ich, bo od kilku dni masę zgłoszeń dostajemy właśnie z tym wariantem.', '224')\n",
      "('Niebezpiecznik.pl', '2598')\n",
      "('Ależ cudownie Mirek zapętlił robota telefonicznego tych spamerów od fotowoltaiki. Płaczemy ze śmiechu. https:  lnkd.in edZPVyNw Link za HRejterzy ', '346')\n",
      "('Jeśli dostaliście takiego emaila od Citi to nie wpadajcie w panikę. Wysłali go wszystkim, nawet tym, którzy karty nie podpięli, bo podobno pomylili treść mailingu. ', '37')\n",
      "(' Uwaga! Spora akcja oszustów na Allegro Lokalnie', '142')\n",
      "('Bardzo kreatywne oszustwo z Bitcoinami w tle', '220')\n",
      "('To będzie rok Linuksa!', '129')\n",
      "('Taki cytacik na dobranoc. Wzięty stąd: https:  lnkd.in epqJddMi ', '196')\n",
      "('W nawiązaniu wrzuconego przez nas wczoraj mema, Mateusz w końcu mentarzach podesłał taką przeróbkę )', '1256')\n",
      "('Dziura w systemie eTOLL: można było pobrać dane użytkowników', '150')\n",
      "('AKTUALIZACJA Ktoś wystawił poprawny certyfikat COVID na Adolfa Hitlera i MyszkęnbspMiki', '248')\n",
      "('Adobe Flash zmarł. I dobrze.', '290')\n",
      "('Szkolenie dla dziennikarzy z cyberbezpieczeństwa, OPSEC i OSINT', '34')\n",
      "('Ktoś znowu wstrzyknął złośliwy kod do biblioteki na której opiera się internet. Współczujemy tym, którzy wczoraj użyli npm i zachęcamy do lektury aby sprawdzić czy zaciągnęło Wam tę bibliotekę :( https:  lnkd.in gt26U4iP ', '437')\n",
      "('Jak tam u Was? :)', '51')\n",
      "('Nie wymaga komentarza?', '178')\n",
      "('demagog', '157')\n",
      "('Fatalna wpadka Plusa. Każdy mógłnbsppobrać dane klientów', '284')\n",
      "('Luxmed informuje o incydencie: otwarty dostęp do danych osobowych pacjentów', '114')\n",
      "('Dziwne emaile, kryptyczne i omijające spam. Prześladują użytkowników GMaila', '97')\n",
      "('Ile kosztuje niewiedza w chmurze? Analiza 5 niepotrzebnie wysokich rachunków', '161')\n",
      "('Zapraszamy nie tylko IOD i prawników, ale również devopsów i adminów. Od nich często zależy najwięcej w tym temacie. Co do agendy: tego nie ma w podręcznikach i nie mówią o tym w szkołach.', '32')\n",
      "('Są propozycje regulacji przeciwko wyłudzeniom kart SIM', '120')\n",
      "('I to jest dla niektórych prawdziwy koszmar...', '211')\n",
      "('GUS ujawnił emaile kilkuset Polaków biorących udział w Spisie Powszechnym', '327')\n",
      "('Niebezpiecznik (@niebezpiecznik) on Twitter', '16')\n",
      "('Polscy operatorzy przy granicy z Białorusią wysyłają migrantomnbspSMSy z ostrzeżeniem', '130')\n",
      "('Warszawa, czerwiec 1979 roku. Po kolosalnym błędzie w łączności zdemaskowany zostaje wieloletni agent CIA Leszek Chróst. Na filmie widzicie, jak dla podpuchy zatrzymuje go milicjant (w rzeczywistości jest to oficer kontrwywiadu), a chwilę później do zdezorientowanego Chrósta podchodzą członkowie grupy realizacyjnej. Knebel w usta, bo było podejrzenie, że w uzębieniu może mieć truciznę! Chróst skazany został na 25 lat więzienia, a potem na karę śmierci. Ułaskawiono go i w 1985 roku wymieniono na słynnym moście szpiegów m.in . na odsiadującego wyrok w USA Mariana Zacharskiego. Potem ślad po Chróście zaginął. W 2016 roku odnalazł go Tomek Awłasewicz i opisał jego historię w swojej pierwszej książce. Ten sam Tomek, już dziś o 20:00 poprowadzi niebezpiecznikowy wykład o szpiegach, na którym opowie, jak wielki błąd w łączności popełniło CIA i zdradzi inne sekrety szpiegów. Na spotkanie możesz zarejestrować się za darmo tutaj: https:  nbzp.cz szpieg ...a jeśli już jesteś zapisany, to przekaż tego posta znajomym! Dzięki!', '585')\n",
      "(' Uwaga na SMSy o skierowaniu na kwarantannę! I o zgubionym portfelu', '325')\n",
      "('AKTUALIZACJA Kolejny wyciek danych osobowych z TAURON', '235')\n",
      "('Kiedy niebezpiecznik wejdzie za mocno )', '295')\n",
      "('Jak służby specjalne werbują Polaków?', '127')\n",
      "('Planujemy nowe szkolenie z bezpieczeństwa dla programistów, ale konkretnychnbsptechnologiach.nbsp Daj znam znać na jakim stacku pracujesz: https:  tally.so r wAqRkw Najpopularniejszymi zajmiemy się w zerowej kolejności. DziękI!', '85')\n",
      "('Wywiad z GUSem, którego tu nie ma', '193')\n",
      "('Pierwszy bank, który na swoje stronie, przy numerze infolinii, doda ostrzeżenie w stylu: jeśli dzwoni ktoś do Ciebie z naszego numeru, to jest to oszustwo dostanie od nas darmową reklamę. A od oszukiwanych metodą na pracownika banku klientów dozgonną wdzięczność i brak reklamacji. Ofiary tego scamu, które tracą nawet po kilkaset tysięcy, coraz częściej zgłaszają nam, że połączenie co prawda wydało im się podejrzane, ale odszukali na stronie banku numer i porównali z tym, który do nich dzwonił. Numery się zgadzały więc uznali, że to faktycznie prawdziwy pracownik banku. Zanim banki zaczną wyraźniej komunikować to, że KAŻDY może do każdego zadzwonić z DOWOLNEGO numeru telefonu, weźcie sprawy w swoje ręce i ostrzeżcie znajomych, żeby nie ufali numerom (i nazwom) jakie smartfon wyświetla im na ekranie rozmowy przychodzącej. Mamy filmik o tym oszustwie, warto żeby go zobaczyli, bo w ostatnich dniach liczba ofiar znów wzrosła: https:  lnkd.in eBYvjZup ', '586')\n",
      "('Zapraszamy na nasze szkolenia w Warszawie i Krakowie oraz kilku innych miastach', '14')\n",
      "('Hakera? ', '222')\n",
      "('Nikt nie jest w stanie w 100 zabezpieczyć się przed atakami. Ale lepiej być bardziej odpornym, niż mniej ) Jak szybko i prosto zwiększyć bezpieczeństwo i uchronić się przed wyciekiem danych? Które ataki są najpopularniejsze w Polsce? Jakie znaczenie ma czynnik ludzki? Dołącz do rozmowy online Jarosława Kuźniara z Piotrkiem i psychologiem Jackiem Santorskim. Zapisz się tu: http:  bit.ly 3ex9wZu Do zobaczenia we wtorek (16.03) o godz.10:00 w INGCafe ', '72')\n",
      "('Srogie piguły, Sebastianie... Link do petki: https:  bit.ly 3pizl4Z PS: Aby zmniejszyć promieniowanie swojego routera WiFi, trzeba zmienić DNS na 1.1.1.1 , bo to adres, który ma najkrótsze fale. Tak naprawdę to bzdura.', '335')\n",
      "('Uwaga na oszustwo na Orlen', '192')\n",
      "('Czasem nas pytacie, jak cyberprzestępcy rekrutują słupa, który pierze im pieniądze. A na przykład tak, jak to ukazano na tym ogłoszeniu:', '228')\n",
      "('FORCEDENTRY: NSO Group iMessage ZeroClick Exploit Captured in the Wild The Citizen Lab', '153')\n",
      "('Zadzwonił do niego robot, a on go zapętlił ', '368')\n",
      "(' Uwaga na złośliwe SMSy do poczty głosowej', '406')\n",
      "('Try harder :)', '440')\n",
      "('To on włamywał się na Profile Zaufane. Został aresztowany na 2 miesiące, ale grozi mu 8 lat', '100')\n",
      "('Fatalna decyzja Apple dotycząca ochrony dzieci naraża prywatność użytkowników iPhonów i Macbooków', '71')\n",
      "('21 października odbędzie się konferencja o cyberbezpieczeństwie, podczas której Mateusz Ossowski z Niebezpiecznika opowie, o tym, jak ukradliśmy 13 milionów PLN jednym emailem.nbsp Konferencja jest organizowana przez polskiego dystrybutora rozwiązań cyberbezpieczeństwa Bakotech Sp. z o.o. i skierowana jest do osób odpowiedzialnych za ochronę IT w firmach. Oprócz ciekawych prezentacji Mateusza i dr Maciej Kawecki , podczas konferencji będą omawiane nie mniej interesujące rozwiązania bezpieczeństwa cyberprzestrzeni m.in . od BlackBerry , Retarus , FSecure Corporation . Bliżej końca konferencji odbędzie się również dyskusja panelowa pod tematem Wyzwania gospodarki cyfrowej a transformacja koncepcji cyberbezpieczeństwa prowadzona przez kilku ekspertów z branży. nbsp Zapraszamy do rejestracji i pamiętajcie, żeby się rejestrować z firmowej skrzynki pocztowej!nbsp https:  www.secdays.pl  ', '46')\n",
      "('Za 5 minut start premiery naszego 36 odcinka podcastu Na Podsłuchu, LIVE na YouTube! https:  lnkd.in eTgw5Er Tematy: 1. fake news o złamaniu WhatsAppa i Signala przez polskie służby 2. oszust, który od 8 lat wyłudzał kredyty i dostał 400 zarzutów 3. drama z Audacity Zapraszamy!', '47')\n",
      "('Właśnie minął rok od wypuszczenia przez nas niebezpiecznikowego rapu. Przypomnijcie sobie te tłuste, mroczne bity z edukacyjnym przesłaniem, joł! https:  lnkd.in enZcT7j PS. Ministerstwo Cyfryzacji nie odpowiedziało na nasze zaproszenie. I co? I przestało istnieć ', '46')\n",
      "('Rosyjski najemnik zgubił tablet, a BBC pozyskało z niego sekrety i zdeanonimizowało żołnierzy do wynajęcia', '162')\n",
      "('Zaklej taśmą diodę zasilania bo Cię podsłuchają!', '144')\n",
      "('To on pobrał dane klientów Taurona. Bo serwer Taurona go zaatakował', '483')\n",
      "('Edison zatrzymany przez policję', '177')\n",
      "('Wydarzenia: Podają się za pracowników banków. Nowy, zuchwały sposób oszustów', '116')\n",
      "('Poważne dziury w milionach routerów, kamer i innym sprzęcie IoT. Winny chip WiFi od Realteka', '164')\n",
      "('Wykradziono dane osobowe klientów Taurona, w tym nagrania rozmów', '181')\n",
      "('Centralne Biuro Zwalczania Cyberprzestępczości', '234')\n",
      "('Poświęć 12 minut, aby nie zostać drugim Dwoeczykiem... A potem podeślij link do filmiku znajomym, niech też się zabezpieczą, bo jeśli z nimi korespondujesz, to przecież Twoje emaile mogą wyciec także z ich skrzynek...', '159')\n",
      "('Jak zabezpieczyćnbspswoje konto na Instagramie?', '38')\n",
      "('Świetny materiał. Była agentka FBI odpowiedzialna za zwalczanie prania brudnych pieniędzy ogląda i ocenia seriale i patenty bohaterów na przepranie kasiory. Jest Breaking Bad, Narcos i Ozark :) https:  lnkd.in exz93RD ', '107')\n",
      "('Wyciekła lista 50 000 ofiar Pegasusa', '277')\n",
      "('Przed kilkoma chwilami poszła kolejna fala SMSów skierowanych do migrantów. Tym razem otrzymali ją także właściciele polskich numerów telefonów.', '77')\n",
      "('Naszemu czytelnikowi zaginął kolega. Miał iPhona i Garmina. Pomóż go odnaleźć', '74')\n",
      "('Cobalt Strike, a Defenders Guide', '67')\n",
      "('KPRM wymusiło na Telegramie usunięcie kanału ośmieszającego ministra Dworczyka, ale kanał po chwili zmartwychwstał', '132')\n",
      "('Bezpieczeństwo danych na Windows 10 (urządzenia Surface)', '25')\n",
      "('Nie, polskie służby nie złamały Signala i WhatsAppa. Ziobro tego nie powiedział.', '95')\n",
      "('Niebezpiecznik.pl', '2454')\n",
      "('Wpadka prokuratury: prezentację dotyczącą Sławomira N. da się odcenzurować', '130')\n",
      "('Posłom i senatorom PiS radzimy jak najszybciej odpiąć z serwisów internetowych swoje numery telefonów, jeśli podali te, które właśnie ujawnili ludzie stojący za aferą Dworczyka. Chociaż lepszą radą będzie je całkiem wyłączyć, bo pewnie zaraz się zacznie.', '601')\n",
      "('A gdyby tak zadzwonić na wszystkie możliwe numery telefonów i nagrać 60 sekund każdego połączenia?', '64')\n",
      "('Firma Dorsum dostarczająca usługi bankom (także polskim) zhackowana', '53')\n",
      "('Sejmowa skrzynka Dworczyka też zhackowana?', '149')\n",
      "('Uwaga na nowe warianty oszustwa na pracownika infolinii banku!', '253')\n",
      "('NP 034 ten, w którym wracamy po pandemii. Chyba...', '44')\n",
      "('Włamywacze opublikowali treść emaila ze skrzynki ministra Dworczyka', '194')\n",
      "('Co czuje ofiara oszustwa na OLX?', '138')\n",
      "('Niebezpiecznik', '471')\n",
      "('Szanowni Państwo. Niektórym z Państwa nie działa WhatsApp i Facebook. Nam działają. Jeśli chcą Państwo odebrać swoje wiadomości, służymy pomocą. Wystarczy podesłać nam nr telefonu na priv. Hasło już mamy. Wiadomości z WhatsAppa i Fejsa odeślemy tą samą drogą.', '753')\n",
      "('ABW i SKW potwierdza: to Rosjanie zhackowali Dworczyka i resztę polskich polityków', '211')\n",
      "('Zobacz jak rządowi hackerzy atakują polityków i ich rodziny', '71')\n",
      "('Pozytywne efekty afery emailowej. Posłowie otrzymają klucze U2F do uwierzytelniania poczty', '238')\n",
      "('Jak przejąć czyjś numer telefonu w TMobile? Zbyt prosto...', '710')\n",
      "('Minister Dworczyk zhackowany? Ktoś od 4 dni publikuje dokumenty rzekomo z jego skrzynki na Telegramie', '131')\n",
      "('Premier wyznaje że całą polską klasę polityczną zaatakowano', '177')\n",
      "('Bezpieczeństwo końcówki, czyli rozwiązania EDR', '76')\n",
      "('Włamywacze publikują email od premiera Morawieckiego, ale z ciekawym błędem w znaczniku czasowym. Czy to dowód na manipulację?', '88')\n",
      "('Zdjęcie dowodu i prawa jazdy ministra Dworczyka wykradzione i opublikowane. Razem z memem.', '25')\n",
      "('Ciekawy artykuł na Onecie rozmowa z werbownikiem CIA, Darrellem Blockerem, który przekabacał terrorystów na stronę USA ( https:  nbzp.cz 2XZN1G5 ) ...a już dziś o 20:00 nasz webinar pt. JAK WERBUJĄ SŁUŻBY?, który poprowadzinbspautor wspomnianego wyżej artykułu na Onecie, Tomek Awłasewicz. Darrell był jedną z setek osób ze świata służb, z którymi rozmawiał Tomek, aby dowiedziećnbspsię jak wygląda w praktyce wygląda proces werbunku. W ten sposób zebrał mega ciekawy materiał z pierwszej ręki. I dzisiaj przez godzinę będzie ujawniał tajniki pracy służb ) Ostatnia szansa, aby sięnbspzapisać: https:  nbzp.cz szpiedzy (jeśli dzisiejszy wieczór Wam nie pasuje, to i tak dołączcie, bo uczestnicy dostaną link do nagrania spotkania, które będzie dostępne przez 3 dni)', '59')\n",
      "('Ubezpieczyciel wysłał emaila i ujawnił dane tysięcy klientów. A potem ujawnił je jeszcze raz', '196')\n",
      "('Zagadka: czy to prawdziwy rachmistrz czy oszust? Oceń sam, jeśli potrafisz', '92')\n",
      "('Wyciek prywatnych danych polskich adwokatów', '176')\n",
      "('Webinar: Kontrola Urzędu Ochrony Danych Osobowych. Jak sięnbspprzygotować? Co Ci grozi?', '66')\n",
      "('Webinar: Kontrola UODO', '28')\n",
      "('Jak namierzono adres ministra Niedzielskiego?', '240')\n",
      "(' Uwaga na fałszywe SMSy od PGE', '169')\n",
      "('Wszystkie złośliwe SMSy, którymi ostatnio atakowano Polaków zagrażają wyłącznie smartfonom z Androidem. Wnioski? 1 Nietechnicznym znajomym lub bliskim (dziadkom?) kup iPhona. Nie zrobią sobie krzywdy nawet gdyby chcieli. 2 Albo zablokuj im na Androidzie instalację aplikacji spoza oficjalnego sklepu Google i licz na to, że nie zmienią tego ustawienia (złośliwe strony instruują jak tę blokadę wyłączyć). Opcja 1 jest bezpieczniejsza niż 2, bo nawet w oficjalnym sklepie Google zdarzają się złośliwe apki. Było sporo takich przypadków Różnicę w cenie pomiędzy iPhonem a Androidem osoby nietechniczne powinny potraktować jako ubezpieczenie. Płacą kilkaset złotych więcej za telefon, aby nie stracić oszczędności całego życia. Trzeba tylko pamiętać, że ataków jest więcej, a niektóre są niezależne od modelu smartfona, np. ten z fałszywym pracownikiem banku: https:  lnkd.in eabfygb PS. Chcesz zabezpieczyć smartfona (iPhona lub Androida)? To rzuć okiem na nasz poradnik. Dowiesz się co warto zmienić w systemie aby lepiej chronił dane i pieniądze oraz jakie apki podnoszące prywatność warto doinstalować: https:  lnkd.in eJqV64e z kodem ZLYSMS do końca dnia dajemy sporą zniżkę.', '301')\n",
      "('A jednak! Oszuści mogą wziąć pożyczkę na Twoje publicznie dostępne dane', '196')\n",
      "('Nie, nie zostałeś powołany do cyberwojska.', '118')\n",
      "('OSINT (Biały Wywiad) Kurs Internetowy', '27')\n",
      "('Interdyscyplinarny Festiwal IT dla Programistów', '26')\n",
      "('Posłuchaj rozmowy ze złodziejami, którzy od miesięcy okradająnbspPolaków', '539')\n",
      "('Wyciekły dane osobowe ponad 20 000 policjantów, strażaków, celników, pograniczników i innych', '20')\n",
      "('Polaków zalały fałszywe SMSy z literówkami', '128')\n",
      "('Masz QNAPa? Sprawdź, czy Ci się nie zaszyfrował', '152')\n",
      "('Nadchodzi jedno z większych wydarzeń tego roku! 14 kwietnia Google otwiera swoje Data Center w Polsce i w usłudze chmurowej Google Cloud Platform będzie można wybrać Region Google Cloud Warszawa. Dlaczego to ważne? O tym i o bezpieczeństwie oraz migracji do chmury rozmawiamy z Adamem Marczyńskim z Chmury Krajowej. Zobaczcie 33 odcinek Na Podsłuchu: https:  lnkd.in edHsTK6 ', '61')\n",
      "('Masz WhatsAppa? Każdy może sprawdzić kiedy jesteś online i domyślić sięnbspz kim rozmawiasz', '247')\n",
      "('Zabezpiecz dziecko przed internetowym złem. Swoje lub cudze :)', '392')\n",
      "('Jak zamazać swój dom na mapach Google?', '120')\n",
      "('Webinar: Jak bezpiecznie programować?', '91')\n",
      "('AKTUALIZACJA Wyciekły dane osobowe ponad 20 000 policjantów, strażaków, celników, pograniczników i innych', '697')\n",
      "('Dlaczego nie Ty jesteś najważniejszy w IT?', '24')\n",
      "(' Uwaga na nowy atak na mandat karny', '543')\n",
      "('Internetowa zbiórka pieniędzy miała pomóc rodzinie poszkodowanej w pożarze. Niestety okazała się fikcyjna', '217')\n",
      "('Dane 533 milionów użytkowników Facebooka wyciekły uuu', '290')\n",
      "('AKTUALIZACJA 2 (nie)Bezpieczeństwo Spisu Powszechnego', '316')\n",
      "('Polska, kraj testowany na produkcji', '540')\n",
      "(' Uwaga! Właśnie ruszył atak na błędny adres dostawy. Fałszywa strona podszywająca się pod DPD próbuje infekować użytkowników Androidow złośliwą aplikacją. Ostrzeżcie znajomych.', '348')\n",
      "('Potężny atak na użytkowników OLX setki Polaków poszkodowanych', '833')\n",
      "('Ej, Adrian, Agnieszka Cię szuka!', '471')\n",
      "('Poznajcie mistrza obsługi incydentu od strony komunikacji z mediami :) O tym jak robić to lepiej (w przyoadkach wycieków, ale danych) tutaj: https:  lnkd.in eBgmpHY Edit: okazuje się że ten rzecznik to mistrz nad mistrze, on trollował TVP, które kilka dni temu przekręciło jego wypowiedź: https:  lnkd.in e9DQw2 ', '695')\n",
      "('Niektóre dane są toksyczne i trzeba je regularnie usuwać', '77')\n",
      "('Państwowa Agencja Atomistyki zhackowana: wrzucono fałszywy komunikat o wzroście promieniowania', '220')\n",
      "('Poważne naruszenie w Pacjent.gov.pl i nic. Nie było zgłoszone do UODO, nikt nie czuł się odpowiedzialny', '220')\n",
      "('Spłonęła serwerownia OVH', '709')\n",
      "(' Uwaga! Przed kilkoma chwilami ruszyła nowa kampania wyłudzająca skany dokumentów Polaków (paszporty, dowody osobiste, prawa jazdy). Ostrzeżcie znajomych! Pretekst: odbiór przesyłki z DHL. Informacja dla ofiar: Jeśli przesłałeś skan dokumentu, jak najszybciej go unieważnij.', '460')\n",
      "('Czy to na pewno mBank wyświetla mi ten komunikat?', '178')\n",
      "('Jak bezpiecznie programować? Zapraszamy na darmowy webinar dla programistów!', '69')\n",
      "('Wyciek danych medycznych. Z receptami, danymi osobowymi i historią chorób pacjentów mógł zapoznać sięnbspkażdy', '85')\n",
      "('Oświadczenie w sprawie wymierzonej w Niebezpiecznika i inne redakcje kampanii oszczerstw', '1086')\n",
      "('Jak pozyskać czyjeś dane osobowe z serwisu podatkowego?', '31')\n",
      "('Błąd w przeglądarce Brave. Dotyczy tych, którzy korzystali z niej do Tora', '71')\n",
      "('Czy ktoś faktycznie kupił dane CD Projektu na internetowej aukcji?', '63')\n",
      "('Jak pozyskać czyjeś dane osobowe z serwisu podatkowego?', '243')\n",
      "('100 tys. zł kary za wyciek danych sędziów i prokuratorów', '92')\n",
      "('Dziwne SMSy od Google albo VERIFY', '47')\n",
      "('Sprawdź czy twój smartfon jest zhackowany!', '206')\n",
      "('GeekPrank Hacker Typer', '186')\n",
      "('Haker zatrułnbspwodę w wodociągach, przez internet', '333')\n",
      "('Policjanci odtwarzająnbspmuzykę, aby zablokować streamowanie ich interwencji w internecie', '339')\n",
      "('Weź udział w naszych szkoleniach za darmo!', '86')\n",
      "('CD Projekt informuje o ataku ransomware na swoją sieć', '174')\n",
      "('Strony Sanepidów pohackowane, emaile obywateli ujawnione', '195')\n",
      "('Najsprytniejszy atak na iPhona. Znów go ktoś wykorzystuje', '47')\n",
      "('Połącz kropki i zrób własne śledztwo w internecie. No i znajdź tęnbspstudzienkę.', '35')\n",
      "('Pracownik przez dwie godziny streamował wszystko to, co robi na komputerze', '298')\n",
      "('Rząd chce od seniorów PESELi przesłanych SMSem. Czy to bezpieczne?', '114')\n",
      "('Dlaczego PESEL to złe hasło do zipa, czyli jak nie udostępniać wyników badań na COVID19 (aninbspżadnych innych)', '244')\n",
      "('WhatsApp, Telegram czy Signal?', '519')\n",
      "('Instrukcja tworzenia haseł taka, że aż boli jak się czyta', '212')\n",
      "('Bezpieczna chmura od pierwszego wdrożenia', '28')\n",
      "('Kolejne konto polityka PiS przejęte. Suski publikuje intymne zdjęcia', '92')\n",
      "('Ktoś wlutował sprzętowy podsłuch do iPhona rosyjskiego aktywisty', '131')\n",
      "('Ktoś hackował mężczyznom penisy przez internet. I domagał się okupu za ich uwolnienie', '135')\n",
      "('Na niebezpiecznik.tv widać jużnbspnajnowszy odcinek naszego podcastu, który stał się ...vidcastem. A ponieważnbspkolejny odcinek ma magiczny numer , to oczywiście, że nagrywamy go jako QampA NA ŻYWO, w Niedzielę o 20:30. Jeśli chcesz zadać nam pytanie, wpisz je tu: https:  lnkd.in eTc8ecxi ', '40')\n",
      "('RODO: 85 tys. zł kary za maila wysłanego do złego adresata w wyniku błędu klienta', '248')\n",
      "('Jak można było pobrać nagrania rozmów tysięcy pacjentów z lekarzami różnych specjalizacji?', '151')\n",
      "('Uwaga użytkownicy poczty WP!', '215')\n",
      "('POGRZEB Polscy posiadacze kryptowalut dostali pogróżki emailem', '72')\n",
      "('Milion złotych kary za wyciek z MoneyMan.pl. Bo zgłoszenia wycieków trzeba traktować poważnie', '47')\n",
      "('Jak ograniczyć ataki phishingowe w środowisku Windows i Office 365?', '44')\n",
      "('Kolejna polska firma zaatakowana przez ransomware... Efekt: sparaliżowane salony sprzedaży. https:  lnkd.in ekdAt7j6 Dajcie znać swoim koleżankom, klientkom Monnari. Ich dane mogły się znajdować na komputerach do których dostęp uzyskali przestępcy.', '124')\n",
      "('Uwaga na fałszywe SMSy o skierowaniu na Kwarantannę Domową!', '168')\n",
      "('Niebezpiecznik.pl', '533')\n",
      "(' Operatorzy a2mobile i NAU Mobile właśnie zaczęli informować klientów o ryzyku wycieku danych (w tym PESEL i nr dowodu!) https:  lnkd.in eSC37Ast https:  lnkd.in enfMH7xf Obaj operatorzy to MVNO korzystający z infrastruktury Polkomtel Plus. Czy incydenty są powiązane? Z oświadczenia a2mobile wiadomo, że chodzi o złośliwe oprogramowanie. Ransomware?', '62')\n",
      "('Dużo, oj bardzo dużo bzdur ludzie wygadująnbspo nowej funkcji Apple o nazwie Child Safety. To ta, która pozwoli na skanowanie zdjęć i wiadomości posiadaczy iPhonów i Macbooków pod kątem m.in . treści pedofilskich (ale nie tylko). Nawet branżowe portale wypisują głupoty... Dlatego w zrobiliśmy na ten temat dedykowany podcast, w którym wyjaśniamy jak to faktycznie działa i gdzie należy upatrywać zagrożenia dla prywatności. Podsłuchajcie! Start o 20:45 na YT: https:  lnkd.in eNbXg7cF ', '83')\n",
      "('', '166')\n",
      "('Data urodzenia często jest używana w różnych systemach jako element uwierzytelniania klienta. Zły pomysł. Ryzykowne może być chwalenie się nią publicznie. Tu spora lista takich danych, przyda się nie tylko do OSINTu: https:  lnkd.in ehQB4KHg Nawet mamy ujawniają dane dzieci ', '176')\n",
      "('Udostępniono dane miliona kart płatniczych. W ramach promocji nowego marketplace który nimi handluje. Karty pozyskano 2019r. Badacze sprawdzili: 50 wciąż działa. Dane pochodzą np. od klientów sklepów internetowych Patrzcie uważnie na swoje wyciągi w najbliższych dniach!', '283')\n",
      "('Nie panikujcie! Powodem chwilowych problemów Poczty WP jest migracja skrzynek polityków i wojskowych do domeny gov.pl . Admini dali znać, że pozostało jeszcze 762548 kont i za chwilę wszystko wróci do normy )', '364')\n",
      "('Przecieramy oczy ze zdumienia... To chyba dobry przykład na to, dlaczego dział PR powinien pogadać z działem bezpieczeństwa przed takim postem... (Podesłał Szymon)', '397')\n",
      "('Białoruski reżim został zhackowany mocno: dane tajnych współpracowników, zapisy osób które donosiły, nagrania z policyjnych kamer i podsłuchów (!!!). Pełen wątek: https:  lnkd.in eMgh2w88 ', '334')\n",
      "('Czy można zmienić PESEL po wycieku danych? Można! Są dwie opcje!', '283')\n",
      "('Trzymcie nas! ', '178')\n",
      "('Cooo??? Czyżby to miał być sposób finansowania tych wysokich pensji dla nowej cyberpolicji? A poważniej, to na audytach regularnie znajdujemy u klientów prywatne koparki w firmowych serwerowniach. Prawie zawsze kończy się zwolnieniem górnika... https:  lnkd.in eb5k8hN ', '325')\n",
      "('Nas przekonał...', '1689')\n",
      "('Srogo... ', '1506')\n",
      "('Nie działa Wam internet momentami? Winna awaria DNS w Akamai: https:  lnkd.in eFzkxuU Trzeba przeczekać. Ale jak ktoś ma pilne wiadomość z maila do odczytania to dajcie znać, nam sieć śmiga, więc Wam sprawdzimy i odeślemy na priv! Nie ma za co!', '67')\n",
      "('Gdybyście chcieli posłuchać o tym jak wykorzystać inteligentny piekarnik do inwigilacji i dlaczego znakomita większość z Was nigdy nie oberwie Pegasusem, to kliknijcie najnowszy Raport o stanie świata (nasz fragment od 1h15m, ale warto przesłuchać całość, bo to zacna audycja) https:  lnkd.in ehjY76B ', '118')\n",
      "('Dworczykowy kanał spadł przed kilkoma chwilami z Getera. Reakcja zajęła 4 dni. Ale powiązane z włamywaczami osoby (albo sami włamywacze) dalej swobodnie postują w 2 innych lokalizacjach. To teraz chyba czekamy na 4 odrodzenie kanału na Telegramie? A może pójdą w darknety?', '39')\n",
      "('No i mamy winnego, który atakował od wczoraj Wasze Profile Zaufane. Zgodnie z życzeniem publikujemy jego dane. Twierdzi, że dostał się na 15 profili zaufanych, ale nie było tam niczego ciekawego (patrz zdjęcia).', '191')\n",
      "(' Uwaga! Otrzymujemy sporo zgłoszeń, że dostajecie maile z Profilu Zaufanego o nieudanej próbie logowania. Albo ktoś masowo próbuje się logować na PZ testując hasła z wycieków (zmieńcie na unikatowe) albo PZ znowu nie działa jak należy Z jednym i z drugim nic nie zrobicie', '132')\n",
      "('Pasjonująca lektura wyników tego jak zdemaskowano chińskich rządowych hakerów: https:  lnkd.in eDhvvd6 (i imponująca lista wpadek opsecowych) PS: USA, UE, NATO dziś wspólnie zbeształy Chiny. Ale czy takie grożenie palcem coś zmieni? ', '40')\n",
      "('No takiej rekrutacji to jeszcze nie widzieliśmy. Na hasło niebezpiecznik w FWC dają 5 większą pensję: https:  nbzp.cz fwc Proponujemy podczas aplikacji wpisać niebezpiecznik dwa razy. Albo dziesięć... ', '36')\n",
      "('THE. WHAT?!', '228')\n",
      "('Przestań sprawdzać czy strony na które wchodzisz mają kłódki, a zacznij sprawdzać ich domeny (to ta podświetlana przez przeglądarkę część adresu w pasku adresowym). Sprawdzenie domeny jest najważniejsze, to zrób najpierw. Bo jak tego nie zrobisz, to będzie jak u tego Pana:', '320')\n",
      "('Dmitrij wrócił po weekendzie do pracy i kanał z wykradzionymi Dworczykowi dokumentami znów nadaje. Ale już nie na Telegramie. Zobaczmy ile teraz pożyje i czy KPRM ma też kontakty w tym serwisie', '55')\n",
      "('Ponoć posłowie mają być niebawem szkoleni z Deepfakeów przez ABW i MON. Podrzucamy małą pomoc naukową na te zajęcia Na zdjęciu tzw. deep fake z Krakowa. Bo okręt jest fałszywy (ang. fake) a woda głęboka (ang. deep). Źródło: Kolega Tomasza', '979')\n",
      "('Ponieważ właśnie pod nową nazwą odradza się zabanowany wczoraj przez KPRM telegramowy kanał Poufnej Rozmowy, to rząd powinien szybko stworzyć sto (albo sto tysięcy!) takich kanałów. Wtedy nie będzie wiadomo KTÓRY to jest TEN drugi prawdziwy...', '64')\n",
      "('Wbrew niektórym (błędnym) doniesieniom, pierwszy kanał na Telegramie dalej działa (ten, który krytykuje Polskę po rosyjsku i powstał wcześniej niż drugi, dworczykowy kanał) Właśnie opublikowali lekko propagandową notkę o zamknięciu drugiego kanału ) Ciekawe czy też spadną?', '52')\n",
      "('Prawda?', '393')\n",
      "('No proszę, jednak da się ocenzurować rewolucyjny Telegram Kanał z mailami Dworczyka zmarł. Na pewno za żądaniem jego wyłączenia stoi ciekawa historia. Może kiedyś ją poznamy. PS. Ponoć z internetu nic nie ginie. Zaraz się przekonamy, czy to powiedzenie wciąż jest prawdziwe', '111')\n",
      "('Ciekawy Alert RCB. Z linkiem. I DDoSem na strone policji w prezencie via @KapiCF', '192')\n",
      "('Kiedy myślisz, że w aferze mailowej już straszniej być nie może Wtem! Szymon z Patrykiem poprzez analizę nagłówków emaili i prowokacje z byłymi pracownikami detonują https:  lnkd.in eYGaZZP Mogą logować się na posiedzenia sejmowych komisji, także te niepubliczne ', '579')\n",
      "('Uważajcie, wrócili.', '331')\n",
      "('Panie hakerze Siergieju, to co było najtrudniejsze w tym włamaniu? Najtrudniej to mieliśmy z odróżnieniem, które maile są spamem. Nawet Wasyl z Zarzadu Pierwszego, departamentu ds. Polski, którego mi przydzielili do tłumaczenia, nie dawał rady przy samorozprężalnym wężu ogrodowym i dozowniku mydła na podczerwień. Tego drugiego maila to nawet skierowaliśmy do biura szyfrów, bo myśleliśmy że to jakiś tajny kod, ale Aleksiej nas wyśmiał, bo okazało się że to zwykły spam z botnetu jego bratanka...', '239')\n",
      "('Lol, dziennikarze, którzy pytają Dworczyka o istotną (najistotniejszą?) sprawę aferę mailową są usuwani z konferencji. Serio? A gdyby byli obecni w realu to zostaliby wyprowadzeni z sali siłą? Kto moderuje te spotkania online? Ludzie z elektrody?', '872')\n",
      "('To jest najlepsza rekomendacja jaką moglibyśmy sobie wymarzyć! Polecamy artykuł Szymona, który wraz z Patrykiem wziął na celownik prezesa TVP. Link do materiału... a znajdźcie go sobie sami, w końcu chodzi o OSINT :P Namiar na nasz kurs OSINTu, o którym pisze Szymon, też sobie znajdźcie :)', '196')\n",
      "('Pod naszym poprzednim artykułem wypowiedziało się kilku rozsądnych policjantów. Warto rzucić okiem na ich punkt widzenia jak realizowane są sprawy, zanim napiszecie że policja działa wolno albo że dałem im wszystkie dowody mailem a kolesia zatrzymali po pół rokunie zatrzymali bo zdążył się wyprowadzić. Zwłaszcza w przypadku spraw z gatunku cyber czas jest kluczowy. Chyba pora na lekką zmianę procedur... Da się. Przykład? Facebook. FB ma interface dla policji gdzie można kilkoma kliknięciami szybko (a czasem bardzo szybko) pozyskać informacje na temat Waszych kont po uprzednim zweryfikowaniu się jako funkcjonariusz (mail w gov.pl )', '219')\n",
      "('Miło nam poinformować o Twojej wygranej w Loterii Narodowego Programu Szczepien. Aby wypłacić pieniądze udaj się pod bankomat, wygeneruj kod BLIK i odeslij na numer XXX W odpowiedzi otrzymasz powiadomienie, po jego akceptacji wygrana zostanie wypłacona. Ministerstwo Zdrowia ) Będą takie, czy nie będzie?', '153')\n",
      "('O, coś się jednak ruszyło w kwestii ochrony przed wyłudzeniami na Profil Zaufany, na które od pół roku zwracamy uwagę! A nie, czekaj...', '265')\n",
      "('Wasza hojność nas rozłożyła! Właśnie skończyliśmy webinar z Pierwszej Pomocy. Można było wbić za darmo, można było zapłacić dowolną kwotę. Suma wpłat pokryła koszty z górką. Za górkę kupiliśmy AED który będzie ratować życie. Dzięki! Macie pomysł komu przyda się najbardziej? PS. Padł pomysł zbierania na kolejny, jak ktoś chce, to rejestrujcie się na webinar ( https:  lnkd.in eU9CYmn ), dostaniecie od razu link do nagrania a każda wpłata zostanie przekazana na zakup tylu AED na ile wystarczy :)', '130')\n",
      "('Minister. Edukacji... Źródło: https:  lnkd.in gVBC52Z ', '764')\n",
      "('Trolling is a art. Michał Dworczyk has entered the chat Oraz wygląda na to że minister Dworczyk jednak korzystał ze skrzynki służbowej tylko, że forwardowal z niej emaile na skrzynkę prywatną. Albo to sprawka asystenta. O ile oczywiście email nie został spreparowany', '179')\n",
      "('Sprawdź się! 5 pytań weryfikujących czy potrafiłbyś poprawnie udzielić Pierwszej Pomocy: https:  tally.so r w8Lbrw Niezależnie od wyniku zapraszamy dziś na 20:00 :)', '27')\n",
      "('Nasz darmowy webinar z udzielania Pierwszej Pomocy już jutro. Mamy już 3000 osób. Te uśmiechnięte chłopaki z fotki też będą. I wiele innych ciekawostek ułatwiających zapamiętanie tego, co robić, aby komuś pomóc w przypadku wypadku samochodowego, udaru, krwotoku lub zatrzymania akcji serca. Zapisy: https:  lnkd.in e3RWu4A W webinarze mogą (i powinny) wziąć także dzieci. To one często są pierwszymi osobami, którym przyjdzie ratować rodzica babcię dziadka. Podeślijcie więc info do klas Waszych pociech i oglądajcie wspólnie z nimi!', '39')\n",
      "('Nosilibyśmy. :s Enjoy Fight', '376')\n",
      "('Naczelna Rada Adwokacka opublikowała ciekawe oświadczenie. Zapewnia że serwis adwokatura.pl i maile w tej domenie są bezpieczne. Problem w tym, że włamywacz sprzedawał dostępy do INNEGO serwisu i prywatnych emaili adwokatów... Zaktualizowaliśmy nasz artykuł w sprawie tego incydentu: https:  lnkd.in g8eTzCw PS. Serwis paneladwokata.pl (ten do którego odwoływał się włamywacz) dalej pozostaje wyłączony... ', '67')\n",
      "(' Właśnie miała miejsce kolejna (3 w ciągu tygodnia) awaria systemów komputerowych ratownictwa medycznego. Nie działał moduł map i lokalizacja dzwoniącego na 112 a niektórzy operatorzy zostali wylogowani z systemu. Sytuacja ponoć już powoli wraca do normy. Sporo tych incydentów w kluczowej infrastrukturze ostatnio: 1. 112 CPR 2. Bełchatów 3. NASK 4. ??? PS. I bez teorii spiskowych, nic nie wskazuje na to, że te padnięcia są powiązane.', '163')\n",
      "('Dzisiejsze Wiadomości wyciekły PESEL, imię i nazwisko pacjentki a nawet jej wnętrzności Dostrzegło oko naszej czytelniczki. Cenzura na fotce nasza.', '346')\n",
      "('Minister Dworczyk potwierdził: powód wycieku danych 20k funkcjonariuszy to błąd pracownika RCB. Pracownik już nie pracuje powiedział minister. Dodatkowo, RMF przytacza bardzo celną naszym zdaniem wypowiedź szefa RCB, płk Konrada Korpowskiego, który w kontekście tego incydentu podniósł to, o czym od lat piszemy na łamach Niebezpiecznika: Płace w administracji państwowych dla informatyków są na tyle niskie, że nie mamy szans, żeby konkurować o specjalistów tej branży z sektorem prywatnym źródło: https:  lnkd.in eVGpmG4 Zaktualizowaliśmy nasz artykuł na ten temat: https:  lnkd.in e9s5Dh ', '395')\n",
      "('Wiele osób narzeka na to, jak banki niezbyt czytelnie, za wolno i jednostronnie się z nimi komunikują. My też czasem za to ucieramy im trochę nosa Dlatego dziś chcielibyśmy pochwalić Klaudię z ekipy Aliora, która wczoraj zrobiła naprawdę świetną robotę odzywając się do każdego klienta Aliora pod naszym wątkiem z Twittera. Brawa za responsywność Aliorze, daj jej podwyżkę! Życzymy wszystkim bankom, żeby mieli taką Klaudię w obsłudze klienta :)', '457')\n",
      "('Dla dużej firmy i dynamicznego zespołu szukam...', '286')\n",
      "('Czytelnik pyta czy to rządowy keylogger? Żarty na bok, ministerstwo musi jeszcze trochę popracować nad komunikacją, żeby nie przerażać użytkowników prośbami o takie uprawnienia. Albo zrezygnować z takich uprawnień w ogóle...', '252')\n",
      "(' Manager haseł PasswordState został zhackowany a komputery klientów zainfekowane. Producent informuje ofiary emailem. Ten manager haseł jest korporacyjny, więc problem będzie dotyczyć przede wszystkim firm... Auć! (Informacja od Tajemniczego Pedro)', '282')\n",
      "('Ktoś z Państwa zgubił kaczkę? Uwaga! Pod linkiem jej nie ma. Jest za to koń. Trojański. ', '317')\n",
      "('Jak werbował polski kontrwywiad? Czasem także na panienki Na zdjęciach fragment z genialnej książki Tomka Awłasewicza, z którym w ten czwartek robimy webinar o szpiegach. Możecie się zapisać za darmoszkę tu: https:  nbzp.cz szpieg ...chociaż mamy nadzieję, że przesuniecie suwak trochę w prawo, bo Tomek mocno się napracował zbierając materiał do swojej książki i użerając się z Libre Office, żeby zrobić prezkę na czwartek.', '125')\n",
      "('Niektórym ponoć nie działa Facebook U nas działa, więc jeśli ktoś ma pilne wiadomości do sprawdzenia na Messengerze, dajcie login i hasło na priv sprawdzimy i odeślemy. Jesteśmy po to aby pomagać! ', '302')\n",
      "('GUS konkretnie zaadresował pytania Polaków :D testynaprodukcji ', '1467')\n",
      "('Pani z GUSu (infolinia), do czytelnika: Proszę się nie martwić bo nawet jeśli ktoś pozna Pana PESEL, to ustawa zabrania mu posługiwać się nim w sposób nieuprawniony. Czytelnik: Od razu mi lepiej Niebezpiecznik: ', '1665')\n",
      "(' Uwaga! Jeśli ktoś zna: Twój PESEL (można go czasem łatwo pozyskać) nazwisko panieńskie Twojej matki, to ...może się za Ciebie spisać w spisie powszechnym. A jeśli SKŁAMIE, to narazi Cię na: grzywnę 5 000 PLN albo nawet więzienie do lat 2 Co zrobić, żeby się przed tym uchronić? O tym i o innych poradach dot. tego jak podejść do spisu powszechnego w naszym artykule: https:  lnkd.in eh8cgbR Uświadomcie znajomych, zwłaszcza tych, których PESELe łatwo znaleźć.', '339')\n",
      "('Rozbrojona przed próbą detonacji. Ale nawet po udanym wybuchu, tej akurat Nokii nic by się pewnie nie stało... )', '159')\n",
      "('Lubicie filmy Patryka Vegi? To przeczytajcie trzeci artykuł poświęcony Usecryptowi z wczorajszego Pulsu Biznesu. Tym razem Eugeniusz Twaróg rozłożył głośne nagranie Vegi na czynniki pierwsze i ustalił, że taki sam certyfikat izraelskiego MON jak Usecrypt ma też gra w ...balony, a pozytywna opinia WAT straciła ważność ponad 2 lata temu. Jest też kilka innych ciekawostek: https:  lnkd.in ehsntzz ', '134')\n",
      "('Zapraszamy na bezpłatny webinar Skuteczna ochrona przed zaszyfrowaniem danych i zagrożeniami zeroday Na własne oczy zobaczysz BlackBerry Protect antywirus oparty na AI i uczeniu maszynowym blokuje złośliwe oprogramowanie, w tym próbki ransomware . Zapisz się, a dowiesz się jak zapobiegać i błyskawicznie reagować na incydenty pojawiające się w sieci. Na uczestników czeka live demo i sesja QampA z inżynierem VIDA IT Webinarium 31 marca 10:00 Zapisy https:  lnkd.in eZc6gfS darmowywebinar cyberbezpieczeństwo antywirus ', '69')\n",
      "('Czytelnicy donoszą nam, że na wykładach organizowanych w tym tygodniu przez Agencję Wywiadu, Niebezpiecznik był mocno cytowany. Pozdrawiamy słuchaczy i dziękujemy (oraz gratulujemy!) Panu prelegentowi, bo wykład ponoć bardzo dobry :) ', '134')\n",
      "('Na swój sposób urocze. Lewa strona łapie ofiary, które dodatkowo same w komentarzach jeszcze bardziej wystawiają się na scam...', '196')\n",
      "('Dobra, dość tego! Jesteś posłem tej kadencji? Odezwij się do nas, a damy Ci darmowy dostęp do naszych szkoleń z cyberbezpieczeństwa. Dowiesz się: jak zabezpieczyć swoje dane przed wyciekiem jak poprawnie skonfigurować laptopa i smartfona jak nie dać się zhackować w internecie (i w podróży). Pisz na sejm@niebezpiecznik.pl Przekażcie pls swoim ulubionym posłom.', '2198')\n",
      "('No raczej! Bądźmy poważni, albo spotkania w kalendarzu albo kwarantanna!', '503')\n",
      "('Czy można zjechać niżej? Można! TVP info poprawiło kod przewijający przeprosiny. Teraz nie widać nawet tego ostatniego zdania całość się chowa po załadowaniu strony. Nisamowite. ', '524')\n",
      "('Hej, O2, chyba trzeba coś zaktualizować w tym akapicie, bo się użytkownicy konfundują ', '85')\n",
      "('Telewizja TVP Info przegrała w sądzie i musiala opublikować przeprosiny na stronie głównej. Wejdźcie i zobaczcie jak zupełnie przypadkiem strona się Wam przesuwa tak, żeby przeprosin całych nie dojrzeć. Kod strony pokazuje jak bardzo przypadkowe jest to przesunięcie. Żena lvl CSS, ale Barbara Streisand lubi to!', '2900')\n",
      "('Chyba trochę zbyt publiczna odpowiedź Sanepidu na wniosek o udzielenie informacji publicznej... ', '220')\n",
      "(' Uwaga! Ruszył atak na klientów Home Zapisz się do darmowego naszego newslettera Aktywne Ataki (Polska) aby szybko dostawać powiadomienia email o istotnych atakach wymierzonych w Polaków (wraz ze szczegółami): https:  lnkd.in eYEnxEb ', '52')\n",
      "('Ponoć niektórym nie działa logowanie na podatki.gov.pl i nie mogą sobie zablokować tego mniej bezpiecznego logowania po kwocie dochodu o którym ostrzegaliśmy tu: https:  lnkd.in e8BeNDd Nam wszystko działa! Podajcie nam swój PESEL i dochód z 2019 na priv, to zablokujemy Wam odpowiednią opcję! chronmysie niebezpiecznikpomaga ', '100')\n",
      "('Hakerze Adamie, odezwij się, z chęcią z Tobą pogadamy, thx.', '133')\n",
      "('Każdy powód żeby rozmawiać z dziećmi o bezpieczeństwie jest dobry, ale co jest zagrożeniem, jakie wiąże się z tą grą to nie wiemy... (Takie pismo dostali dyrektorzy szkół)', '182')\n",
      "('Kto wie pod jakim numerem pan Sakiewicz ma wpisanego papieża w swoim telefonie? (Pytamy dla kolegi)', '244')\n",
      "('Odpalamy dla WOŚP. Na pierwszy ogień idzie nasza kultowa torba w niedostępnej (nawet na torrentach) limitowanej edycji pandemicznej, w kolorze czerwonym. Bez grzybów! Ale z możliwością ochrony przed grzybem atomowym. Nawet jak nie zamierzacie licytować to warto kliknąć dla lektury samego opisu i reszty fotek: https:  lnkd.in eSei5KW ', '37')\n",
      "('Dobra, ileż można o tej Alibici. Wróćmy na chwilę do Wolnych Słowian... Oto ich hasło do bazy danych. Jak wiecie, wolnislowianie skasowali nam konto i nie odpowiadają na maile, więc jak macie z nimi kontakt, to dajcie im znać, że cały ich kod wyciekł. Z chęcią im powiemy jak :)', '492')\n",
      "('Taka akcja... Tutaj zapisy: https:  lnkd.in e42NMQ2 PS. Obowiązuje do momentu kolejnego incydentu bezpieczeństwa w tym serwisie, więc ...śpieszcie się :)', '206')\n",
      "('Dziś to raczej oznaka kopania kryptowalut.', '292')\n",
      "('', '237')\n",
      "('Ponoć powstał polski portal bez cenzury. Założyliśmy tam konto wczoraj. A dziś... Chyba musimy poczekać na wolniejsislowianie.pl ', '188')\n",
      "('Obrazek jest zabawny, ale problem i następstwa całkiem poważne. Cenzura internetu to niełatwy temat, zwłaszcza w kontekście kwalifikacji patotreści...', '142')\n",
      "('Wygląda na to, że tym razem padło na Ubiquiti. Dostaliście już? Ponoć nie ma (jeszcze) dowodów na dostęp do danych użytkowników, ale lepiej zmienić pasełko.', '54')\n",
      "('Odpaliliśmy drugą aukcje na WOŚP Można wylicytować pandemiczną kolację z Piotrkiem :) https:  lnkd.in eH9mjWV ', '37')\n",
      "('Jak myślicie, dobry pomysł? ', '518')\n",
      "(' Niedzielny test: czy potrafisz wykryć phishing Linki do takiej strony na zapisy na szczepienia krążą po internecie. Jeśli uważasz że ta strona to phishing, kliknij serce, jeśli uważasz że jest prawdziwa, kliknij hmm.', '150')\n",
      "(' Uwaga! Przed paroma chwilami ruszył atak na Polaków przez SMS. Przestępcy podszywają się pod @PaczkomatyPL i kierują na fałszywą stronę: hxxp:  paczkomatyapp.com  Zamiast aplikacji InPostu smartfon z Androidem zostanie przejęty a konto w banku okradzione. W końcówce tygodnia (a zwłaszcza w piątek) ludzie są mniej czujni i jak wynika z naszych testów phishingowych, skuteczność wzrasta o 30, więc ostrzeżcie znajomych. Zwłaszcza tych z telefonami z Androidem. ', '896')\n",
      "('Grał w sylwestra zanim to było modne.', '730')\n",
      "('Dla większego bezpieczeństwa dodać ! na końcu.', '1957')\n",
      "('Przeklinanie nie licuje z serwisem Linkedin, ale wszyscy doskonale wiecie co chcieliśmy napisać po o w zadaniu poniżej, komentującym to nagranie. O ! Nagranie: https:  lnkd.in e6k4fFn ', '796')\n",
      "295\n"
     ]
    }
   ],
   "source": [
    "from scripts import scripts_box\n",
    "import spacy\n",
    "from spacytextblob.spacytextblob import SpacyTextBlob\n",
    "\n",
    "nlp = spacy.load(\"pl_core_news_lg\")\n",
    "nlp.add_pipe('spacytextblob')\n",
    "list_of_posts1 = scripts_box.get_ready_list_of_posts_with_reactions_linkedin(\"data_linkedin/linkedin_agh.txt\") #88k obserwujących\n",
    "list_of_posts2 = scripts_box.get_ready_list_of_posts_with_reactions_linkedin(\"data_linkedin/linkedin_uj.txt\") #100k obserwujących\n",
    "list_of_posts3 = scripts_box.get_ready_list_of_posts_with_reactions_linkedin(\"data_linkedin/linkedin_uw.txt\") #175k obserwujących\n",
    "list_of_posts4 = scripts_box.get_ready_list_of_posts_with_reactions_linkedin(\"data_linkedin/linkedin_pw.txt\") #103k obserwujących\n",
    "list_of_posts5 = scripts_box.get_ready_list_of_posts_with_reactions_linkedin(\"data_linkedin/linkedin_pg.txt\") #56k obserwujących\n",
    "list_of_posts6 = scripts_box.get_ready_list_of_posts_with_reactions_linkedin(\"data_linkedin/linkedin_uam.txt\") #60k obserwujących\n",
    "list_of_posts7 = scripts_box.get_ready_list_of_posts_with_reactions_linkedin(\"data_linkedin/linkedin_umk.txt\") #34k obserwujących\n"
   ],
   "metadata": {
    "collapsed": false,
    "pycharm": {
     "name": "#%%\n"
    }
   }
  },
  {
   "cell_type": "code",
   "execution_count": 3,
   "outputs": [],
   "source": [
    "list_org1 = scripts_box.get_ready_list_of_posts_with_reactions_linkedin(\"data_linkedin/linkedin_otwarte_klatki.txt\")\n",
    "list_org2 = scripts_box.get_ready_list_of_posts_with_reactions_linkedin(\"data_linkedin/linkedin_wedel.txt\")\n",
    "list_org3 = scripts_box.get_ready_list_of_posts_with_reactions_linkedin(\"data_linkedin/linkedin_mbank.txt\")\n",
    "list_org4 = scripts_box.get_ready_list_of_posts_with_reactions_linkedin(\"data_linkedin/linkedin_budimex.txt\")\n",
    "list_org5 = scripts_box.get_ready_list_of_posts_with_reactions_linkedin(\"data_linkedin/linkedin_santander.txt\")\n",
    "\n",
    "list_of_lists = [list_of_posts1, list_of_posts2, list_of_posts3, list_of_posts4, list_of_posts5, list_of_posts6, list_of_posts7, list_org1, list_org2, list_org3, list_org4, list_org5]"
   ],
   "metadata": {
    "collapsed": false,
    "pycharm": {
     "name": "#%%\n"
    }
   }
  },
  {
   "cell_type": "code",
   "execution_count": 4,
   "outputs": [],
   "source": [
    "import pandas as pd\n",
    "\n",
    "list_all_posts = []\n",
    "for list in list_of_lists:\n",
    "    for post in list:\n",
    "        list_all_posts.append(post[0])\n",
    "\n",
    "list_all_reactions = []\n",
    "for list in list_of_lists:\n",
    "    for post in list:\n",
    "        list_all_reactions.append(int(post[1]))\n",
    "\n",
    "list_average_reactions = []\n",
    "for list in list_of_lists:\n",
    "    count = 0\n",
    "    for post in list:\n",
    "        count += int(post[1])\n",
    "\n",
    "    reactions_average = count / len(list)\n",
    "\n",
    "    for post in list:\n",
    "        list_average_reactions.append(reactions_average)\n",
    "\n",
    "list_index_all_reactions = [] #index means all reactions / average for page\n",
    "for list in list_of_lists:\n",
    "    count = 0\n",
    "    for post in list:\n",
    "        count += int(post[1])\n",
    "\n",
    "    reactions_average = count / len(list)\n",
    "\n",
    "    for post in list:\n",
    "        list_index_all_reactions.append(int(post[1]) / reactions_average)"
   ],
   "metadata": {
    "collapsed": false,
    "pycharm": {
     "name": "#%%\n"
    }
   }
  },
  {
   "cell_type": "code",
   "execution_count": 5,
   "outputs": [
    {
     "name": "stdout",
     "output_type": "stream",
     "text": [
      "0.0\n",
      "0.0\n"
     ]
    }
   ],
   "source": [
    "import matplotlib.pyplot as plt\n",
    "list_all_polarity = []\n",
    "\n",
    "for list in list_of_lists:\n",
    "    for post in list:\n",
    "        doc = nlp(post[0])\n",
    "        list_all_polarity.append(doc._.polarity)\n",
    "\n",
    "print(list_all_polarity[1000])\n",
    "\n",
    "list_all_subjectivity = []\n",
    "\n",
    "for list in list_of_lists:\n",
    "    for post in list:\n",
    "        doc = nlp(post[0])\n",
    "        list_all_subjectivity.append(doc._.subjectivity)\n",
    "\n",
    "print(list_all_polarity[1000])\n"
   ],
   "metadata": {
    "collapsed": false,
    "pycharm": {
     "name": "#%%\n"
    }
   }
  },
  {
   "cell_type": "code",
   "execution_count": 6,
   "outputs": [
    {
     "name": "stdout",
     "output_type": "stream",
     "text": [
      "(' Michał Styczyński , doktorant na Wydziale Biologii, odkrył substancję pochodzenia naturalnego z grupy melanin, której przemysłowa produkcja mogłaby wyeliminować syntetyczny składnik kremów z filtrem UV, który przyczynia się do obumierania koralowców. Odkrycie cechuje duży potencjał komercjalizacyjny. Wprowadzenie na rynek odbędzie się przy udziale spinoffu UW Biotemist, który będzie specjalizować się w rozwoju technologii i produkcji substancji pochodzenia naturalnego wytwarzanych przez wyizolowane szczepy bakterii antarktycznych barwników z grupy melanin oraz karotenoidów, a także wielu innych związków o szerokim potencjale aplikacyjnym. Gratulujemy! biologia komercjalizacja spinoff ', '4441')\n"
     ]
    },
    {
     "name": "stderr",
     "output_type": "stream",
     "text": [
      "C:\\Users\\Kuba\\AppData\\Local\\Temp/ipykernel_13720/1185938718.py:16: UserWarning: [W008] Evaluating Doc.similarity based on empty vectors.\n",
      "  list_all_similarity_to_best.append(doc.similarity(most_popular_post_doc))\n"
     ]
    },
    {
     "name": "stdout",
     "output_type": "stream",
     "text": [
      "0.8085384848550674\n"
     ]
    }
   ],
   "source": [
    "list_all_similarity_to_best = []\n",
    "\n",
    "most_popular_post = ['text','0']\n",
    "for list in list_of_lists:\n",
    "    for post in list:\n",
    "        if int(post[1]) > int(most_popular_post[1]):\n",
    "            most_popular_post = post\n",
    "\n",
    "print(most_popular_post)\n",
    "\n",
    "most_popular_post_doc = nlp(most_popular_post[0])\n",
    "\n",
    "for list in list_of_lists:\n",
    "    for post in list:\n",
    "        doc = nlp(post[0])\n",
    "        list_all_similarity_to_best.append(doc.similarity(most_popular_post_doc))\n",
    "\n",
    "print(list_all_similarity_to_best[1000])"
   ],
   "metadata": {
    "collapsed": false,
    "pycharm": {
     "name": "#%%\n"
    }
   }
  },
  {
   "cell_type": "code",
   "execution_count": 7,
   "outputs": [
    {
     "name": "stdout",
     "output_type": "stream",
     "text": [
      "[138, 258, 193, 163, 135, 17, 271, 174, 208, 203, 277, 350, 140, 197, 110, 8, 99, 396, 246, 171, 273, 234, 57, 137, 30, 164, 224, 154, 326, 117, 11, 9, 271, 107, 11, 100, 144, 121, 377, 236, 384, 5, 2, 225, 231, 210, 453, 431, 140, 374, 260, 408, 259, 235, 128, 185, 135, 337, 385, 268, 247, 281, 318, 389, 223, 189, 179, 178, 175, 114, 194, 186, 160, 153, 172, 169, 80, 158, 197, 126, 118, 189, 180, 132, 145, 182, 131, 129, 173, 191, 172, 201, 148, 142, 192, 169, 188, 162, 168, 155, 170, 70, 189, 103, 5, 9, 11, 159, 5, 9, 8, 9, 12, 216, 7, 8, 8, 7, 95, 9, 8, 167, 11, 10, 30, 9, 11, 180, 11, 95, 9, 6, 6, 7, 11, 8, 8, 7, 83, 10, 8, 81, 8, 215, 7, 8, 8, 87, 10, 103, 155, 7, 117, 174, 7, 94, 104, 7, 8, 9, 8, 6, 6, 5, 9, 101, 11, 5, 7, 8, 6, 7, 7, 9, 5, 9, 10, 8, 10, 5, 7, 5, 10, 94, 8, 11, 5, 7, 6, 10, 9, 5, 9, 6, 9, 5, 7, 6, 7, 63, 8, 5, 9, 7, 171, 8, 8, 9, 56, 9, 8, 9, 6, 6, 8, 5, 7, 76, 10, 7, 9, 5, 5, 8, 98, 39, 109, 99, 31, 64, 10, 115, 47, 70, 60, 30, 94, 105, 88, 59, 103, 74, 177, 72, 8, 85, 90, 10, 143, 6, 198, 81, 8, 93, 102, 72, 78, 106, 7, 83, 98, 54, 31, 4, 91, 5, 9, 8, 139, 9, 10, 5, 59, 4, 7, 6, 9, 69, 5, 5, 4, 3, 6, 4, 5, 3, 51, 4, 4, 5, 4, 7, 62, 5, 8, 3, 4, 3, 6, 64, 67, 74, 7, 73, 7, 6, 67, 6, 13, 167, 6, 5, 4, 6, 3, 9, 9, 4, 84, 7, 7, 6, 4, 8, 155, 6, 130, 42, 121, 64, 55, 145, 71, 90, 84, 66, 58, 108, 51, 75, 80, 71, 52, 86, 60, 62, 55, 39, 71, 70, 4, 8, 6, 12, 10, 56, 6, 10, 6, 5, 124, 7, 4, 7, 8, 4, 6, 7, 8, 4, 8, 19, 4, 3, 6, 53, 6, 12, 3, 6, 8, 7, 14, 125, 38, 106, 77, 99, 31, 143, 18, 16, 9, 11, 172, 9, 9, 17, 62, 78, 175, 18, 51, 11, 13, 29, 15, 26, 100, 13, 12, 11, 101, 97, 13, 97, 66, 109, 85, 12, 9, 124, 21, 5, 78, 6, 10, 5, 16, 19, 7, 11, 103, 75, 50, 61, 168, 65, 79, 114, 134, 91, 157, 146, 127, 162, 84, 150, 81, 78, 114, 64, 98, 98, 101, 145, 144, 87, 118, 67, 175, 97, 81, 74, 85, 124, 102, 138, 165, 146, 127, 142, 136, 182, 48, 17, 77, 76, 14, 2, 17, 42, 13, 10, 12, 19, 37, 188, 13, 14, 6, 16, 7, 81, 14, 17, 13, 12, 48, 9, 15, 11, 16, 49, 10, 104, 6, 12, 8, 60, 7, 1, 4, 131, 83, 3, 13, 16, 17, 5, 6, 74, 66, 3, 131, 42, 162, 2, 3, 3, 67, 116, 4, 2, 47, 166, 23, 3, 5, 3, 4, 4, 4, 6, 3, 129, 5, 62, 3, 4, 109, 3, 72, 4, 4, 5, 129, 59, 74, 3, 2, 6, 3, 173, 5, 4, 4, 3, 53, 70, 4, 6, 3, 3, 6, 2, 6, 3, 5, 6, 5, 4, 7, 6, 5, 5, 7, 3, 6, 7, 2, 5, 57, 4, 4, 5, 4, 6, 7, 4, 4, 2, 34, 5, 2, 4, 2, 67, 10, 5, 4, 5, 6, 6, 3, 4, 7, 2, 4, 7, 4, 71, 3, 5, 8, 100, 136, 99, 89, 106, 106, 67, 40, 59, 144, 153, 60, 56, 2, 5, 14, 114, 95, 11, 61, 15, 13, 78, 14, 45, 64, 53, 120, 10, 51, 8, 120, 15, 55, 11, 63, 111, 36, 106, 73, 80, 53, 83, 87, 95, 74, 11, 27, 7, 7, 73, 29, 99, 16, 16, 57, 88, 12, 5, 108, 13, 10, 8, 124, 9, 10, 130, 8, 85, 11, 13, 156, 97, 200, 107, 12, 3, 12, 8, 85, 12, 9, 14, 13, 73, 80, 6, 8, 8, 7, 6, 70, 12, 123, 6, 9, 121, 13, 84, 73, 11, 105, 74, 90, 185, 83, 105, 89, 114, 237, 63, 132, 44, 38, 154, 105, 102, 61, 41, 114, 113, 65, 133, 107, 178, 44, 205, 53, 56, 98, 133, 130, 54, 82, 73, 115, 98, 81, 101, 86, 66, 117, 92, 69, 80, 112, 100, 47, 61, 63, 60, 91, 75, 74, 42, 60, 76, 91, 43, 315, 170, 299, 161, 34, 294, 215, 129, 202, 132, 340, 4, 353, 143, 187, 235, 182, 1, 194, 206, 473, 188, 10, 207, 200, 143, 258, 202, 226, 176, 205, 160, 155, 188, 303, 194, 176, 186, 368, 300, 166, 181, 128, 203, 163, 237, 194, 242, 219, 127, 174, 168, 210, 188, 202, 398, 115, 182, 220, 190, 211, 205, 205, 328, 173, 162, 166, 183, 197, 201, 181, 196, 207, 183, 180, 251, 224, 189, 174, 195, 191, 174, 205, 213, 196, 196, 213, 202, 131, 152, 194, 188, 194, 215, 158, 168, 95, 93, 205, 52, 51, 72, 57, 143, 9, 151, 9, 127, 142, 166, 73, 110, 115, 113, 157, 133, 120, 146, 131, 156, 36, 116, 105, 102, 210, 63, 159, 97, 88, 122, 65, 140, 146, 87, 180, 162, 177, 97, 68, 174, 66, 129, 129, 202, 2, 51, 155, 151, 118, 107, 171, 53, 45, 197, 146, 173, 74, 157, 116, 71, 127, 101, 66, 112, 67, 195, 113, 61, 68, 142, 98, 87, 58, 130, 99, 68, 80, 166, 146, 78, 77, 127, 73, 167, 69, 181, 71, 82, 94, 106, 180, 406, 104, 204, 61, 155, 158, 165, 95, 65, 81, 51, 118, 114, 60, 162, 106, 78, 48, 173, 59, 132, 110, 80, 116, 120, 134, 153, 102, 106, 140, 80, 104, 94, 88, 147, 122, 77, 98, 168, 138, 189, 39, 123, 187, 140, 172, 74, 117, 118, 92, 101, 107, 24, 86, 31, 67, 81, 21, 170, 122, 100, 79, 150, 48, 74, 130, 89, 105, 101, 162, 160, 118, 70, 54, 159, 85, 161, 146, 99, 76, 161, 93, 83, 206, 334, 298, 65, 85, 72, 242, 200, 267, 307, 376, 40, 285, 30, 134, 88, 208, 184, 116, 147, 327, 182, 55, 71, 236, 65, 12, 86, 96, 342, 34, 72, 120, 10, 94, 106, 84, 84, 120, 23, 80, 96, 149, 59, 78, 150, 106, 114, 78, 50, 56, 129, 3, 64, 10, 97, 74, 71, 66, 111, 8, 118, 88, 55, 51, 60, 47, 110, 66, 73, 66, 82, 95, 90, 116, 95, 80, 47, 107, 84, 61, 87, 86, 95, 80, 69, 69, 159, 87, 63, 110, 65, 112, 81, 55, 59, 54, 78, 56, 104, 72, 98, 100, 143, 99, 93, 99, 53, 129, 142, 54, 84, 33, 75, 97, 54, 79, 85, 120, 86, 67, 138, 27, 84, 81, 100, 117, 82, 107, 68, 44, 114, 95, 32, 94, 61, 151, 108, 189, 51, 79, 20, 92, 131, 94, 120, 139, 104, 96, 67, 70, 191, 159, 97, 131, 113, 78, 66, 102, 68, 83, 210, 68, 189, 59, 65, 83, 146, 85, 116, 94, 141, 55, 127, 156, 162, 139, 155, 95, 83, 122, 104, 44, 9, 107, 134, 99, 66, 86, 40, 156, 137, 102, 98, 440, 142, 178, 35, 106, 175, 167, 69, 35, 173, 82, 219, 95, 133, 46, 38, 84, 465, 31, 153, 132, 59, 117, 127, 108, 76, 180, 292, 125, 128, 51, 69, 46, 35, 164, 113, 145, 121, 85, 142, 77, 81, 67, 88, 101, 210, 110, 112, 95, 98, 68, 132, 169, 161, 340, 82, 93, 171, 243, 154, 103, 31, 179, 76, 13, 92, 4, 128, 8, 219, 167, 146, 189, 56, 61, 162, 163, 159, 274, 176, 110, 177, 125, 89, 89, 139, 70, 43, 54, 72, 64, 76, 151, 65, 89, 100, 86, 66, 75, 173, 117, 88, 119, 118, 85, 48, 72, 84, 111, 108, 53, 72, 55, 205, 85, 174, 69, 131, 91, 71, 140, 87, 107, 145, 149, 213, 65, 76, 113, 94, 97, 78, 53, 75, 194, 106, 117, 122, 69, 143, 83, 228, 196, 223, 60, 174, 84, 64, 141, 91, 113, 151, 67, 99, 191, 130, 129, 172, 58, 131, 125, 105, 88, 181, 121, 185, 65, 98, 65, 235, 95, 58, 154, 66, 113, 75, 69, 80, 145, 70, 111, 66, 87, 117, 109, 88, 86, 67, 54, 164, 53, 64, 76, 108, 102, 75, 90, 158, 93, 145, 73, 146, 188, 88, 60, 107, 142, 58, 167, 85, 91, 138, 210, 164, 160, 58, 60, 182, 69, 51, 81, 165, 123, 199, 64, 65, 120, 145, 124, 102, 125, 54, 74, 81, 133, 122, 114, 85, 133, 96, 209, 121, 72, 122, 163, 145, 65, 157, 28, 112, 178, 168, 189, 91, 126, 199, 126, 139, 99, 203, 156, 51, 162, 80, 68, 165, 126, 129, 95, 76, 111, 69, 189, 152, 52, 139, 70, 145, 111, 55, 136, 85, 179, 114, 45, 111, 165, 194, 222, 53, 178, 71, 142, 96, 39, 180, 171, 188, 181, 175, 144, 170, 45, 151, 43, 88, 112, 56, 160, 69, 71, 63]\n",
      "[5, 5, 15, 2, 6, 2, 14, 7, 19, 3, 21, 12, 5, 17, 6, 1, 2, 18, 27, 4, 7, 9, 3, 3, 3, 11, 10, 8, 32, 16, 1, 2, 20, 4, 2, 6, 4, 5, 15, 30, 15, 0, 1, 7, 19, 4, 25, 11, 9, 14, 7, 19, 15, 19, 4, 12, 11, 22, 21, 14, 13, 7, 26, 38, 2, 6, 7, 11, 13, 6, 10, 11, 11, 10, 11, 9, 10, 12, 16, 10, 4, 6, 17, 7, 10, 20, 11, 6, 15, 15, 10, 14, 4, 10, 13, 7, 7, 10, 8, 8, 9, 11, 12, 11, 2, 3, 2, 10, 1, 2, 1, 1, 2, 22, 1, 1, 1, 2, 6, 1, 1, 7, 2, 3, 5, 1, 1, 16, 1, 2, 2, 2, 2, 2, 3, 0, 2, 1, 1, 1, 3, 12, 2, 13, 2, 2, 0, 1, 1, 1, 6, 1, 5, 9, 2, 0, 3, 1, 2, 2, 1, 0, 1, 1, 2, 6, 2, 1, 2, 2, 1, 1, 1, 1, 1, 1, 1, 2, 2, 1, 1, 1, 2, 11, 1, 2, 2, 1, 1, 2, 2, 1, 2, 1, 2, 1, 2, 1, 1, 6, 2, 0, 3, 2, 10, 1, 2, 2, 4, 2, 2, 1, 0, 1, 1, 1, 1, 6, 1, 1, 2, 1, 1, 0, 2, 1, 17, 5, 4, 10, 1, 1, 4, 8, 4, 6, 7, 4, 8, 3, 2, 2, 4, 5, 0, 1, 1, 0, 8, 1, 10, 4, 0, 3, 9, 1, 3, 8, 2, 13, 14, 2, 3, 1, 2, 1, 0, 2, 11, 1, 2, 1, 4, 0, 0, 1, 2, 7, 1, 2, 0, 1, 1, 1, 0, 0, 2, 1, 0, 0, 2, 0, 4, 0, 1, 0, 0, 1, 1, 13, 4, 9, 3, 6, 1, 0, 6, 0, 2, 3, 0, 1, 1, 2, 0, 0, 2, 0, 8, 2, 0, 0, 0, 1, 7, 0, 6, 1, 10, 10, 6, 7, 3, 12, 7, 8, 2, 12, 8, 4, 8, 9, 4, 10, 0, 6, 6, 5, 1, 3, 0, 1, 1, 1, 1, 4, 2, 4, 2, 1, 7, 0, 0, 2, 1, 0, 2, 1, 1, 0, 0, 2, 1, 0, 0, 2, 2, 0, 1, 1, 2, 2, 1, 2, 3, 4, 1, 6, 0, 4, 3, 2, 2, 2, 4, 1, 0, 1, 4, 7, 13, 4, 5, 1, 0, 6, 2, 2, 5, 3, 3, 2, 3, 7, 0, 3, 7, 11, 2, 1, 0, 5, 0, 0, 11, 0, 1, 0, 1, 2, 1, 1, 2, 2, 4, 4, 16, 7, 8, 9, 4, 3, 7, 9, 11, 13, 3, 10, 3, 7, 3, 5, 4, 7, 5, 1, 10, 4, 10, 3, 17, 2, 11, 3, 4, 8, 1, 3, 17, 8, 4, 11, 3, 14, 1, 2, 2, 7, 1, 0, 1, 3, 2, 1, 1, 2, 4, 6, 2, 2, 1, 1, 1, 6, 2, 3, 2, 1, 3, 1, 2, 2, 3, 6, 1, 3, 1, 1, 1, 6, 1, 0, 1, 10, 4, 0, 0, 3, 3, 1, 1, 5, 8, 0, 11, 4, 14, 0, 0, 0, 6, 7, 0, 0, 2, 21, 2, 0, 1, 0, 0, 1, 0, 0, 0, 12, 1, 6, 1, 0, 8, 0, 14, 0, 0, 0, 7, 5, 7, 0, 0, 1, 0, 24, 2, 0, 0, 1, 7, 6, 0, 0, 0, 1, 0, 0, 0, 0, 0, 1, 1, 0, 0, 0, 0, 0, 1, 0, 1, 0, 0, 0, 7, 1, 0, 0, 0, 0, 3, 1, 0, 0, 1, 1, 0, 1, 0, 7, 2, 0, 1, 0, 0, 0, 1, 0, 0, 0, 1, 0, 1, 7, 0, 0, 1, 11, 19, 5, 10, 6, 3, 7, 9, 0, 8, 0, 1, 2, 0, 0, 1, 7, 7, 0, 0, 1, 0, 9, 1, 2, 3, 2, 1, 0, 4, 0, 5, 3, 1, 1, 2, 6, 5, 4, 2, 2, 1, 6, 4, 4, 3, 1, 1, 1, 0, 0, 0, 7, 2, 2, 6, 2, 0, 0, 2, 0, 1, 0, 6, 1, 1, 6, 0, 5, 0, 0, 12, 4, 5, 6, 0, 1, 0, 0, 1, 1, 0, 0, 1, 2, 0, 1, 1, 0, 2, 0, 2, 0, 5, 2, 0, 1, 2, 3, 2, 0, 2, 2, 2, 6, 3, 2, 4, 4, 9, 2, 10, 1, 1, 5, 7, 5, 9, 2, 4, 8, 4, 6, 8, 7, 0, 10, 2, 1, 2, 0, 7, 2, 4, 2, 8, 2, 3, 8, 6, 3, 1, 4, 9, 5, 1, 5, 2, 2, 1, 5, 7, 1, 8, 2, 0, 1, 7, 0, 30, 3, 16, 2, 0, 6, 8, 3, 14, 6, 19, 1, 35, 2, 12, 7, 3, 0, 8, 9, 6, 10, 1, 6, 14, 15, 6, 7, 5, 25, 5, 13, 8, 8, 7, 19, 9, 7, 12, 4, 6, 11, 3, 7, 6, 10, 15, 6, 14, 1, 15, 6, 7, 6, 10, 10, 10, 2, 10, 6, 5, 2, 6, 13, 4, 3, 6, 2, 14, 9, 3, 6, 3, 10, 5, 7, 12, 7, 7, 6, 3, 5, 10, 2, 6, 13, 7, 14, 3, 3, 5, 5, 15, 18, 18, 15, 3, 3, 8, 1, 1, 5, 8, 5, 0, 15, 1, 13, 13, 12, 4, 21, 14, 11, 11, 8, 4, 18, 8, 4, 1, 4, 6, 3, 21, 8, 6, 5, 9, 17, 7, 8, 21, 1, 7, 18, 4, 10, 7, 15, 6, 7, 19, 6, 0, 1, 17, 12, 6, 12, 10, 3, 1, 17, 11, 5, 1, 14, 0, 8, 8, 8, 3, 6, 4, 12, 8, 1, 3, 18, 10, 7, 7, 7, 6, 3, 5, 14, 5, 9, 6, 17, 12, 16, 7, 14, 2, 5, 12, 10, 8, 33, 6, 9, 3, 8, 7, 30, 8, 4, 3, 7, 5, 17, 5, 7, 13, 9, 5, 11, 2, 3, 7, 5, 14, 10, 8, 2, 8, 9, 12, 4, 12, 8, 2, 5, 12, 3, 11, 15, 5, 9, 1, 14, 19, 0, 14, 3, 9, 8, 2, 8, 10, 5, 4, 2, 7, 8, 0, 12, 1, 7, 8, 6, 8, 6, 12, 6, 6, 9, 2, 10, 14, 7, 5, 8, 6, 15, 8, 4, 7, 26, 4, 5, 17, 12, 12, 8, 1, 1, 24, 18, 7, 9, 8, 3, 33, 2, 17, 2, 17, 4, 12, 11, 12, 7, 3, 1, 5, 2, 3, 1, 1, 14, 3, 2, 11, 3, 4, 3, 1, 2, 6, 2, 4, 10, 11, 6, 3, 4, 13, 19, 5, 7, 4, 12, 0, 5, 4, 5, 0, 6, 5, 7, 2, 3, 12, 3, 4, 2, 4, 6, 4, 2, 0, 1, 5, 6, 8, 6, 10, 4, 1, 3, 4, 1, 3, 11, 9, 2, 2, 11, 3, 4, 6, 4, 5, 5, 5, 4, 1, 1, 1, 8, 9, 3, 7, 15, 4, 9, 12, 4, 2, 9, 2, 7, 2, 5, 3, 1, 3, 2, 22, 11, 6, 0, 2, 14, 10, 6, 6, 10, 2, 5, 0, 10, 6, 2, 2, 1, 8, 2, 12, 1, 11, 0, 0, 2, 8, 10, 12, 9, 1, 4, 4, 15, 12, 3, 7, 1, 3, 5, 6, 3, 1, 4, 4, 2, 2, 1, 5, 6, 6, 1, 1, 12, 3, 3, 7, 4, 8, 9, 6, 3, 3, 13, 2, 0, 16, 6, 5, 7, 12, 2, 4, 21, 0, 6, 36, 14, 7, 1, 13, 5, 27, 2, 2, 24, 1, 34, 6, 11, 3, 5, 7, 65, 0, 2, 3, 5, 0, 21, 7, 1, 19, 47, 5, 1, 1, 0, 2, 2, 3, 3, 18, 2, 8, 26, 3, 5, 8, 8, 4, 5, 18, 13, 13, 11, 4, 10, 6, 7, 24, 1, 4, 11, 19, 5, 4, 2, 8, 5, 1, 6, 0, 14, 1, 7, 12, 2, 6, 5, 3, 7, 4, 1, 7, 12, 1, 6, 13, 5, 0, 9, 1, 4, 0, 6, 5, 7, 7, 1, 2, 16, 1, 2, 2, 11, 1, 16, 0, 15, 2, 6, 3, 2, 11, 1, 6, 1, 5, 18, 5, 8, 1, 13, 2, 3, 1, 2, 3, 9, 2, 19, 8, 3, 3, 5, 5, 2, 2, 4, 8, 11, 8, 2, 11, 9, 4, 5, 4, 8, 3, 9, 2, 1, 12, 8, 3, 8, 3, 5, 28, 0, 1, 9, 3, 4, 7, 1, 6, 9, 7, 19, 1, 4, 8, 48, 10, 1, 9, 6, 9, 14, 4, 1, 16, 2, 7, 15, 8, 18, 9, 6, 6, 6, 1, 21, 0, 9, 0, 2, 4, 3, 2, 6, 1, 15, 6, 8, 24, 3, 0, 3, 7, 3, 13, 2, 2, 22, 8, 10, 22, 3, 1, 1, 2, 3, 1, 18, 3, 12, 4, 1, 2, 6, 13, 0, 7, 1, 5, 2, 19, 5, 13, 6, 7, 0, 24, 4, 5, 2, 12, 2, 8, 18, 3, 1, 4, 9, 10, 7, 9, 13, 4, 3, 1, 4, 15, 0, 4, 2, 6, 8, 4, 14, 12, 5, 7, 4, 11, 8, 1, 23, 7, 5, 7, 3, 11, 6, 8, 12, 2, 15, 7, 7, 17, 1, 25, 6, 17, 9, 3, 9, 15, 18, 11, 5, 6, 9, 4, 7, 2, 14, 6, 2, 7, 7, 2, 1]\n"
     ]
    }
   ],
   "source": [
    "list_post_length = []\n",
    "list_number_of_ents = []\n",
    "\n",
    "for post in list_all_posts:\n",
    "    doc = nlp(post)\n",
    "    list_post_length.append(len(doc))\n",
    "    list_number_of_ents.append(len(doc.ents))\n",
    "\n",
    "print(list_post_length)\n",
    "print(list_number_of_ents)"
   ],
   "metadata": {
    "collapsed": false,
    "pycharm": {
     "name": "#%%\n"
    }
   }
  },
  {
   "cell_type": "code",
   "execution_count": 8,
   "outputs": [],
   "source": [
    "list_preprocessed_posts = []\n",
    "\n",
    "for post in list_all_posts:\n",
    "    doc = nlp(post)\n",
    "\n",
    "    clean_text = \" \".join(token.lemma_ for token in nlp(doc) if token.lemma_.lower() not in nlp.Defaults.stop_words and token.is_alpha)\n",
    "    list_preprocessed_posts.append(clean_text)"
   ],
   "metadata": {
    "collapsed": false,
    "pycharm": {
     "name": "#%%\n"
    }
   }
  },
  {
   "cell_type": "code",
   "execution_count": 9,
   "outputs": [],
   "source": [
    "list_index_higher_than_05 = []\n",
    "list_index_higher_than_1 = []\n",
    "list_index_higher_than_3 = []\n",
    "\n",
    "for index in list_index_all_reactions:\n",
    "    if index >0.5:\n",
    "        list_index_higher_than_05.append(1)\n",
    "    else:\n",
    "        list_index_higher_than_05.append(0)\n",
    "\n",
    "for index in list_index_all_reactions:\n",
    "    if index > 1:\n",
    "        list_index_higher_than_1.append(1)\n",
    "    else:\n",
    "        list_index_higher_than_1.append(0)\n",
    "\n",
    "\n",
    "for index in list_index_all_reactions:\n",
    "    if index > 3:\n",
    "        list_index_higher_than_3.append(1)\n",
    "    else:\n",
    "        list_index_higher_than_3.append(0)"
   ],
   "metadata": {
    "collapsed": false,
    "pycharm": {
     "name": "#%%\n"
    }
   }
  },
  {
   "cell_type": "code",
   "execution_count": 10,
   "outputs": [
    {
     "name": "stdout",
     "output_type": "stream",
     "text": [
      "0.7084398976982097\n",
      "0.7084398976982097\n",
      "0.9514066496163683\n"
     ]
    }
   ],
   "source": [
    "#TRAIN BAYES 50 REACTIONS\n",
    "from sklearn.model_selection import train_test_split\n",
    "from sklearn.feature_extraction.text import CountVectorizer\n",
    "from sklearn.naive_bayes import MultinomialNB\n",
    "\n",
    "# TRAIN BAYES FOR INDEX 0.5\n",
    "\n",
    "vec = CountVectorizer()\n",
    "\n",
    "x05 = list_preprocessed_posts\n",
    "y05 = list_index_higher_than_1\n",
    "\n",
    "x05, x_test05, y05, y_test05 = train_test_split(x05, y05, stratify=y05, test_size=0.25, random_state=42)\n",
    "\n",
    "x05 = vec.fit_transform(x05).toarray()\n",
    "x_test05 = vec.transform(x_test05).toarray()\n",
    "\n",
    "model05 = MultinomialNB()\n",
    "model05.fit(x05, y05)\n",
    "\n",
    "print(model05.score(x_test05, y_test05))\n",
    "\n",
    "list_index_higher_than_05_bayes = model05.predict(vec.transform(list_all_posts))\n",
    "\n",
    "# TRAIN BAYES FOR INDEX 1\n",
    "\n",
    "x1 = list_preprocessed_posts\n",
    "y1 = list_index_higher_than_1\n",
    "\n",
    "x1, x_test1, y1, y_test1 = train_test_split(x1, y1, stratify=y1, test_size=0.25, random_state=42)\n",
    "\n",
    "x1 = vec.fit_transform(x1).toarray()\n",
    "x_test1 = vec.transform(x_test1).toarray()\n",
    "\n",
    "model1 = MultinomialNB()\n",
    "model1.fit(x1, y1)\n",
    "\n",
    "print(model1.score(x_test1, y_test1))\n",
    "\n",
    "list_index_higher_than_1_bayes = model1.predict(vec.transform(list_all_posts))\n",
    "\n",
    "#TRAIN BAYES 100 REACTIONS\n",
    "\n",
    "x3 = list_preprocessed_posts\n",
    "y3 = list_index_higher_than_3\n",
    "\n",
    "x3, x_test3, y3, y_test3 = train_test_split(x3, y3, stratify=y3, test_size=0.25, random_state=42)\n",
    "\n",
    "x3 = vec.fit_transform(x3).toarray()\n",
    "x_test3 = vec.transform(x_test3).toarray()\n",
    "\n",
    "model3 = MultinomialNB()\n",
    "model3.fit(x3, y3)\n",
    "\n",
    "print(model3.score(x_test3, y_test3))\n",
    "\n",
    "list_index_higher_than_3_bayes = model3.predict(vec.transform(list_all_posts))"
   ],
   "metadata": {
    "collapsed": false,
    "pycharm": {
     "name": "#%%\n"
    }
   }
  },
  {
   "cell_type": "code",
   "execution_count": 18,
   "outputs": [
    {
     "name": "stdout",
     "output_type": "stream",
     "text": [
      "                                                POSTS  \\\n",
      "0   Na terenie AGH rusza budowa budynku D3, w któr...   \n",
      "1   Inżynierowie z Wydziału Elektroniki, Automatyk...   \n",
      "2   Sukces naszych studentów w konkursie EKOinnowa...   \n",
      "3   Grudzień to dobry czas, aby zacząć się zastana...   \n",
      "4   Marzy Ci się przygoda życia? Chcesz zdobyć doś...   \n",
      "5   Fullstack Python Developer Job Fullstack Akade...   \n",
      "6    Maciej Skorupski , student Wydział Inżynierii...   \n",
      "7   Wraz ze spółką GAZSYSTEM po raz kolejny urucha...   \n",
      "8   Macie pomysł na swój biznes, ale nie do końca ...   \n",
      "9   Ponad 30 projektów z AGH otrzymało granty przy...   \n",
      "10  Klimatyczne ABC. Interdyscyplinarne podstawy w...   \n",
      "11  3 listopada zainaugurowaliśmy nowy cykl AGH NA...   \n",
      "12  Serdecznie pragniemy Was zaprosić na V Górnicz...   \n",
      "13  Profesor Vicentiu D. Radulescu pracujący na Wy...   \n",
      "14  W AGH otworzyliśmy dzisiaj oficjalnie nowy bud...   \n",
      "15  Adiunkt Badawczy w Katedrze Oddziaływań i Dete...   \n",
      "16  Poszukujesz stażu lub pierwszej pracy? A może ...   \n",
      "17  W AGH otworzyliśmy Laboratorium Inżynierii Cie...   \n",
      "18  28 października w AGH odbyło się po raz pierws...   \n",
      "19  Poszukujesz dodatkowego kierunku kształcenia? ...   \n",
      "20  Opracowanie technologii, która pozwoli na nisk...   \n",
      "21   AGH oraz Enea Innowacje ( Grupa Enea ) współp...   \n",
      "22  Akademia Górniczo Hutnicza to 16 wydziałów ksz...   \n",
      "23  Jesteś absolwentem lub absolwentką AGH ? Masz ...   \n",
      "24  Seminarium 16. II Krajowy raport benchmarkingo...   \n",
      "25  Poszukiwana osoby do Zespołu ds. Promocji Kszt...   \n",
      "26  Dolny Śląsk kryje wiele tajemnic. Nasi naukowc...   \n",
      "27  Aż 6 projektów z AGH zostało nagrodzonych w XI...   \n",
      "28  Jeden z najpotężniejszych superkomputerów na ś...   \n",
      "29  W Tuluzie odbywa się dziś konferencja Kosmos i...   \n",
      "\n",
      "                                   PREPROCESSED_POSTS  REACTIONS  \\\n",
      "0   teren agh ruszać budowa budynek mieścić pomies...         39   \n",
      "1   inżynier wydział elektronika automatyki inform...        130   \n",
      "2   sukces student konkurs ekoinnowatorzy grudzień...         49   \n",
      "3   grudzień dobry czas zacząć zastanawiać kierune...          7   \n",
      "4   marzyć przygoda życie chcieć zdobyć doświadcze...         35   \n",
      "5   fullstack python developer job fullstack akade...         36   \n",
      "6   Macieja skorupski student wydział inżynieria m...         47   \n",
      "7   wraz spółka gazsystem kolejny uruchamiać studi...         24   \n",
      "8   mieć pomysł swój biznes koniec wiedzieć zabrać...          9   \n",
      "9   projekt agh otrzymać grant przyznane ncn narod...        139   \n",
      "10  klimatyczny abc interdyscyplinarny podstawa ws...         51   \n",
      "11  listopad zainaugurować nowy cykl agh nauka spo...          8   \n",
      "12  serdecznie pragnąć zaprosić v górniczy forum e...         15   \n",
      "13  profesor vicentiu d radulescu pracujący wydzia...        320   \n",
      "14  agh otworzyć oficjalnie nowy budynek wydział f...        679   \n",
      "15  adiunkt badawczy katedra oddziaływań detekcja ...          8   \n",
      "16  poszukiwać staż pierwszy praca chcieć zmienić ...         14   \n",
      "17  agh otworzyć laboratorium inżynieria ciekły me...        268   \n",
      "18  październik agh odbyć pierwszy forum ombudsman...         19   \n",
      "19  poszukiwać dodatkowy kierunek kształcenie chci...         17   \n",
      "20  opracowanie technologia pozwolić niskoemisyjną...         20   \n",
      "21  agh enea innowacja grupa enea współpracować rz...         50   \n",
      "22  akademia górniczy hutniczy wydział kształcący ...         84   \n",
      "23  jesteś absolwent absolwentka agh mieć wspaniał...        155   \n",
      "24  seminarium ii krajowy raport benchmarkingowy n...         10   \n",
      "25  poszukiwany osoba zespół ds promocja kształcen...         41   \n",
      "26  dolny Śląsko kryć tajemnica naukowiec wydział ...         39   \n",
      "27  projekt agh zostało nagrodzonych konkurs ramy ...         39   \n",
      "28  potężny superkomputer świat powstać udział agh...        244   \n",
      "29  Tuluza odbywać konferencja kosmos uniwersytet ...          5   \n",
      "\n",
      "    REACTIONS_AVERAGE     INDEX  POLARITY  SUBJECTIVITY  SIMILARITY_TO_BEST  \\\n",
      "0          123.718447  0.315232  0.000000      0.000000            0.576369   \n",
      "1          123.718447  1.050773  0.000000      0.000000            0.921235   \n",
      "2          123.718447  0.396061  0.000000      0.000000            0.641733   \n",
      "3          123.718447  0.056580  0.000000      0.000000            0.923798   \n",
      "4          123.718447  0.282900  0.000000      0.000000            0.756044   \n",
      "5          123.718447  0.290983  0.050000      0.300000            0.249223   \n",
      "6          123.718447  0.379895  0.209821      0.441964            0.813521   \n",
      "7          123.718447  0.193989  0.000000      0.000000            0.891617   \n",
      "8          123.718447  0.072746  0.000000      0.000000            0.812652   \n",
      "9          123.718447  1.123519  0.000000      0.000000            0.799481   \n",
      "10         123.718447  0.412226  0.000000      0.000000            0.876941   \n",
      "11         123.718447  0.064663  0.000000      0.000000            0.941512   \n",
      "12         123.718447  0.121243  0.000000      0.000000            0.868064   \n",
      "13         123.718447  2.586518  0.330000      0.520000            0.871400   \n",
      "14         123.718447  5.488268  0.562500      0.500000            0.764492   \n",
      "15         123.718447  0.064663  0.000000      0.000000            0.603877   \n",
      "16         123.718447  0.113160  0.000000      0.000000            0.823618   \n",
      "17         123.718447  2.166209  0.000000      0.000000            0.941166   \n",
      "18         123.718447  0.153575  0.000000      0.000000            0.767378   \n",
      "19         123.718447  0.137409  0.000000      0.000000            0.872441   \n",
      "20         123.718447  0.161657  0.000000      0.000000            0.921313   \n",
      "21         123.718447  0.404143  0.214286      0.642857            0.904701   \n",
      "22         123.718447  0.678961  0.000000      0.000000            0.881655   \n",
      "23         123.718447  1.252845  0.000000      0.000000            0.761960   \n",
      "24         123.718447  0.080829  0.000000      0.000000            0.596790   \n",
      "25         123.718447  0.331398  0.041667      0.066667            0.825403   \n",
      "26         123.718447  0.315232  0.000000      0.000000            0.896454   \n",
      "27         123.718447  0.315232  0.000000      0.000000            0.850928   \n",
      "28         123.718447  1.972220  0.042857      0.185714            0.908811   \n",
      "29         123.718447  0.040414  0.000000      0.000000            0.840056   \n",
      "\n",
      "    POST_LENGTH  NUMBER_OF_ENTS  INDEX_HIGHER_THAN_HALF_BAYES  \\\n",
      "0           138               5                             0   \n",
      "1           258               5                             1   \n",
      "2           193              15                             1   \n",
      "3           163               2                             0   \n",
      "4           135               6                             0   \n",
      "5            17               2                             0   \n",
      "6           271              14                             0   \n",
      "7           174               7                             0   \n",
      "8           208              19                             0   \n",
      "9           203               3                             1   \n",
      "10          277              21                             0   \n",
      "11          350              12                             0   \n",
      "12          140               5                             0   \n",
      "13          197              17                             1   \n",
      "14          110               6                             1   \n",
      "15            8               1                             0   \n",
      "16           99               2                             0   \n",
      "17          396              18                             1   \n",
      "18          246              27                             0   \n",
      "19          171               4                             0   \n",
      "20          273               7                             0   \n",
      "21          234               9                             0   \n",
      "22           57               3                             0   \n",
      "23          137               3                             1   \n",
      "24           30               3                             0   \n",
      "25          164              11                             0   \n",
      "26          224              10                             0   \n",
      "27          154               8                             1   \n",
      "28          326              32                             1   \n",
      "29          117              16                             0   \n",
      "\n",
      "    INDEX_HIGHER_THAN_ONE_BAYES  INDEX_HIGHER_THAN_THREE_BAYES  \n",
      "0                             0                              0  \n",
      "1                             1                              0  \n",
      "2                             1                              0  \n",
      "3                             0                              0  \n",
      "4                             0                              0  \n",
      "5                             0                              0  \n",
      "6                             0                              0  \n",
      "7                             0                              0  \n",
      "8                             0                              0  \n",
      "9                             1                              0  \n",
      "10                            0                              0  \n",
      "11                            0                              0  \n",
      "12                            0                              0  \n",
      "13                            1                              0  \n",
      "14                            1                              1  \n",
      "15                            0                              0  \n",
      "16                            0                              0  \n",
      "17                            1                              0  \n",
      "18                            0                              0  \n",
      "19                            0                              0  \n",
      "20                            0                              0  \n",
      "21                            0                              0  \n",
      "22                            0                              0  \n",
      "23                            1                              0  \n",
      "24                            0                              0  \n",
      "25                            0                              0  \n",
      "26                            0                              0  \n",
      "27                            1                              0  \n",
      "28                            1                              0  \n",
      "29                            0                              0  \n"
     ]
    }
   ],
   "source": [
    "data = {\n",
    "    'POSTS' : list_all_posts,\n",
    "    'PREPROCESSED_POSTS' : list_preprocessed_posts,\n",
    "    'REACTIONS' : list_all_reactions,\n",
    "    'REACTIONS_AVERAGE' : list_average_reactions,\n",
    "    'INDEX' : list_index_all_reactions,\n",
    "    'POLARITY' : list_all_polarity,\n",
    "    'SUBJECTIVITY' : list_all_subjectivity,\n",
    "    'SIMILARITY_TO_BEST' : list_all_similarity_to_best,\n",
    "    'POST_LENGTH' : list_post_length,\n",
    "    'NUMBER_OF_ENTS' : list_number_of_ents,\n",
    "    'INDEX_HIGHER_THAN_HALF_BAYES' : list_index_higher_than_05_bayes,\n",
    "    'INDEX_HIGHER_THAN_ONE_BAYES' : list_index_higher_than_1_bayes,\n",
    "    'INDEX_HIGHER_THAN_THREE_BAYES' : list_index_higher_than_3_bayes\n",
    "}\n",
    "\n",
    "df_linkedin = pd.DataFrame(data)\n",
    "\n",
    "df_linkedin.to_csv('data_linkedin/linkedin_data.csv')\n",
    "\n",
    "print(df_linkedin.head(30))"
   ],
   "metadata": {
    "collapsed": false,
    "pycharm": {
     "name": "#%%\n"
    }
   }
  },
  {
   "cell_type": "code",
   "execution_count": 12,
   "outputs": [
    {
     "data": {
      "text/plain": "(array([204., 345., 337., 220., 126.,  80.,  61.,  42.,  36.,  23.,  19.,\n         14.,  13.,   6.,   8.,   2.,   5.,   2.,   5.,   0.,   1.,   2.,\n          0.,   1.,   0.,   1.,   1.,   0.,   1.,   2.,   0.,   0.,   0.,\n          0.,   0.,   0.,   1.,   0.,   0.,   0.,   0.,   1.,   0.,   0.,\n          1.,   0.,   0.,   0.,   0.,   0.,   2.,   0.,   0.,   0.,   0.,\n          0.,   0.,   0.,   0.,   0.,   0.,   0.,   0.,   0.,   0.,   0.,\n          0.,   0.,   0.,   0.,   0.,   0.,   0.,   0.,   0.,   0.,   1.,\n          0.,   0.,   0.,   0.,   0.,   0.,   0.,   0.,   0.,   0.,   0.,\n          0.,   0.,   0.,   0.,   0.,   0.,   0.,   0.,   0.,   0.,   0.,\n          1.]),\n array([1.59864585e-02, 2.71027436e-01, 5.26068413e-01, 7.81109391e-01,\n        1.03615037e+00, 1.29119135e+00, 1.54623232e+00, 1.80127330e+00,\n        2.05631428e+00, 2.31135526e+00, 2.56639623e+00, 2.82143721e+00,\n        3.07647819e+00, 3.33151917e+00, 3.58656014e+00, 3.84160112e+00,\n        4.09664210e+00, 4.35168308e+00, 4.60672405e+00, 4.86176503e+00,\n        5.11680601e+00, 5.37184699e+00, 5.62688796e+00, 5.88192894e+00,\n        6.13696992e+00, 6.39201090e+00, 6.64705187e+00, 6.90209285e+00,\n        7.15713383e+00, 7.41217481e+00, 7.66721578e+00, 7.92225676e+00,\n        8.17729774e+00, 8.43233872e+00, 8.68737969e+00, 8.94242067e+00,\n        9.19746165e+00, 9.45250262e+00, 9.70754360e+00, 9.96258458e+00,\n        1.02176256e+01, 1.04726665e+01, 1.07277075e+01, 1.09827485e+01,\n        1.12377895e+01, 1.14928304e+01, 1.17478714e+01, 1.20029124e+01,\n        1.22579534e+01, 1.25129944e+01, 1.27680353e+01, 1.30230763e+01,\n        1.32781173e+01, 1.35331583e+01, 1.37881992e+01, 1.40432402e+01,\n        1.42982812e+01, 1.45533222e+01, 1.48083632e+01, 1.50634041e+01,\n        1.53184451e+01, 1.55734861e+01, 1.58285271e+01, 1.60835680e+01,\n        1.63386090e+01, 1.65936500e+01, 1.68486910e+01, 1.71037319e+01,\n        1.73587729e+01, 1.76138139e+01, 1.78688549e+01, 1.81238959e+01,\n        1.83789368e+01, 1.86339778e+01, 1.88890188e+01, 1.91440598e+01,\n        1.93991007e+01, 1.96541417e+01, 1.99091827e+01, 2.01642237e+01,\n        2.04192647e+01, 2.06743056e+01, 2.09293466e+01, 2.11843876e+01,\n        2.14394286e+01, 2.16944695e+01, 2.19495105e+01, 2.22045515e+01,\n        2.24595925e+01, 2.27146335e+01, 2.29696744e+01, 2.32247154e+01,\n        2.34797564e+01, 2.37347974e+01, 2.39898383e+01, 2.42448793e+01,\n        2.44999203e+01, 2.47549613e+01, 2.50100023e+01, 2.52650432e+01,\n        2.55200842e+01]),\n <BarContainer object of 100 artists>)"
     },
     "execution_count": 12,
     "metadata": {},
     "output_type": "execute_result"
    },
    {
     "data": {
      "text/plain": "<Figure size 432x288 with 1 Axes>",
      "image/png": "[encoded data removed]"
     },
     "metadata": {
      "needs_background": "light"
     },
     "output_type": "display_data"
    }
   ],
   "source": [
    "dict = {}\n",
    "hist_list = []\n",
    "\n",
    "for reactions in df_linkedin.INDEX:\n",
    "    if reactions not in dict.keys():\n",
    "        dict[reactions] = 1\n",
    "    else:\n",
    "        dict[reactions] += 1\n",
    "    hist_list.append(reactions)\n",
    "\n",
    "# print(dict)\n",
    "\n",
    "x = dict.keys()\n",
    "y = dict.values()\n",
    "\n",
    "plt.hist(hist_list, 100)"
   ],
   "metadata": {
    "collapsed": false,
    "pycharm": {
     "name": "#%%\n"
    }
   }
  },
  {
   "cell_type": "code",
   "execution_count": 14,
   "outputs": [
    {
     "name": "stdout",
     "output_type": "stream",
     "text": [
      "Training data set length=1264\n",
      "Testing data set length=300\n"
     ]
    },
    {
     "data": {
      "text/plain": "<Figure size 432x288 with 1 Axes>",
      "image/png": "[encoded data removed]"
     },
     "metadata": {
      "needs_background": "light"
     },
     "output_type": "display_data"
    },
    {
     "name": "stdout",
     "output_type": "stream",
     "text": [
      "                 Generalized Linear Model Regression Results                  \n",
      "==============================================================================\n",
      "Dep. Variable:                  INDEX   No. Observations:                 1264\n",
      "Model:                            GLM   Df Residuals:                     1256\n",
      "Model Family:                 Poisson   Df Model:                            7\n",
      "Link Function:                    Log   Scale:                          1.0000\n",
      "Method:                          IRLS   Log-Likelihood:                -1431.2\n",
      "Date:                Fri, 07 Jan 2022   Deviance:                       659.44\n",
      "Time:                        11:44:21   Pearson chi2:                 1.06e+03\n",
      "No. Iterations:                     5   Pseudo R-squ. (CS):             0.3241\n",
      "Covariance Type:            nonrobust                                         \n",
      "=================================================================================================\n",
      "                                    coef    std err          z      P>|z|      [0.025      0.975]\n",
      "-------------------------------------------------------------------------------------------------\n",
      "Intercept                        -0.4744      0.093     -5.090      0.000      -0.657      -0.292\n",
      "POLARITY                          0.0877      0.221      0.398      0.691      -0.345       0.520\n",
      "SUBJECTIVITY                     -0.0739      0.160     -0.463      0.644      -0.387       0.239\n",
      "POST_LENGTH                      -0.0020      0.001     -3.210      0.001      -0.003      -0.001\n",
      "NUMBER_OF_ENTS                    0.0092      0.006      1.492      0.136      -0.003       0.021\n",
      "SIMILARITY_TO_BEST                0.2961      0.146      2.027      0.043       0.010       0.583\n",
      "INDEX_HIGHER_THAN_HALF_BAYES      0.4527      0.030     15.093      0.000       0.394       0.511\n",
      "INDEX_HIGHER_THAN_ONE_BAYES       0.4527      0.030     15.093      0.000       0.394       0.511\n",
      "INDEX_HIGHER_THAN_THREE_BAYES     1.2195      0.090     13.567      0.000       1.043       1.396\n",
      "=================================================================================================\n"
     ]
    }
   ],
   "source": [
    "import pandas as pd\n",
    "from patsy import dmatrices\n",
    "import numpy as np\n",
    "import statsmodels.api as sm\n",
    "import matplotlib.pyplot as plt\n",
    "\n",
    "mask = np.random.rand(len(df_linkedin)) < 0.8\n",
    "df_train = df_linkedin[mask]\n",
    "df_test = df_linkedin[~mask]\n",
    "print('Training data set length='+str(len(df_train)))\n",
    "print('Testing data set length='+str(len(df_test)))\n",
    "\n",
    "expr = \"\"\"INDEX ~ POLARITY + SUBJECTIVITY + POST_LENGTH + NUMBER_OF_ENTS + SIMILARITY_TO_BEST + INDEX_HIGHER_THAN_HALF_BAYES + INDEX_HIGHER_THAN_ONE_BAYES + INDEX_HIGHER_THAN_THREE_BAYES\"\"\"\n",
    "\n",
    "\n",
    "y_train, X_train = dmatrices(expr, df_train, return_type='dataframe')\n",
    "y_test, X_test = dmatrices(expr, df_test, return_type='dataframe')\n",
    "\n",
    "poisson_training_results = sm.GLM(y_train, X_train, family=sm.families.Poisson()).fit()\n",
    "\n",
    "poisson_predictions = poisson_training_results.get_prediction(X_test)\n",
    "#summary_frame() returns a pandas DataFrame\n",
    "predictions_summary_frame = poisson_predictions.summary_frame()\n",
    "# print(predictions_summary_frame)\n",
    "\n",
    "predicted_counts=predictions_summary_frame['mean']\n",
    "actual_counts = y_test['INDEX']\n",
    "fig = plt.figure()\n",
    "fig.suptitle('Predicted versus actual reactions under a post')\n",
    "predicted, = plt.plot(X_test.index, predicted_counts, 'go-', label='Predicted counts')\n",
    "actual, = plt.plot(X_test.index, actual_counts, 'ro-', label='Actual counts')\n",
    "plt.legend(handles=[predicted, actual])\n",
    "plt.show()\n",
    "\n",
    "print(poisson_training_results.summary())"
   ],
   "metadata": {
    "collapsed": false,
    "pycharm": {
     "name": "#%%\n"
    }
   }
  },
  {
   "cell_type": "code",
   "execution_count": 15,
   "outputs": [
    {
     "data": {
      "text/plain": "<Figure size 432x288 with 0 Axes>"
     },
     "metadata": {},
     "output_type": "display_data"
    },
    {
     "data": {
      "text/plain": "<Figure size 432x288 with 1 Axes>",
      "image/png": "[encoded data removed]"
     },
     "metadata": {
      "needs_background": "light"
     },
     "output_type": "display_data"
    }
   ],
   "source": [
    "plt.clf()\n",
    "fig = plt.figure()\n",
    "fig.suptitle('Scatter plot of Actual versus Predicted counts')\n",
    "plt.scatter(x=predicted_counts, y=actual_counts, marker='.')\n",
    "plt.xlim([0, 10])\n",
    "plt.ylim([0, 10])\n",
    "plt.xlabel('Predicted counts')\n",
    "plt.ylabel('Actual counts')\n",
    "plt.show()"
   ],
   "metadata": {
    "collapsed": false,
    "pycharm": {
     "name": "#%%\n"
    }
   }
  },
  {
   "cell_type": "code",
   "execution_count": 17,
   "outputs": [
    {
     "name": "stdout",
     "output_type": "stream",
     "text": [
      "0.3351115733762913\n"
     ]
    }
   ],
   "source": [
    "from sklearn.metrics import mean_poisson_deviance\n",
    "\n",
    "print(mean_poisson_deviance(actual_counts, predicted_counts))"
   ],
   "metadata": {
    "collapsed": false,
    "pycharm": {
     "name": "#%%\n"
    }
   }
  },
  {
   "cell_type": "code",
   "execution_count": null,
   "outputs": [],
   "source": [],
   "metadata": {
    "collapsed": false,
    "pycharm": {
     "name": "#%%\n"
    }
   }
  }
 ],
 "metadata": {
  "kernelspec": {
   "display_name": "Python 3 (ipykernel)",
   "language": "python",
   "name": "python3"
  },
  "language_info": {
   "codemirror_mode": {
    "name": "ipython",
    "version": 3
   },
   "file_extension": ".py",
   "mimetype": "text/x-python",
   "name": "python",
   "nbconvert_exporter": "python",
   "pygments_lexer": "ipython3",
   "version": "3.8.10"
  }
 },
 "nbformat": 4,
 "nbformat_minor": 4
}