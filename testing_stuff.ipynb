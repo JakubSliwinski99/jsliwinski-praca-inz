{
 "cells": [
  {
   "cell_type": "code",
   "execution_count": 3,
   "metadata": {
    "collapsed": true
   },
   "outputs": [
    {
     "name": "stdout",
     "output_type": "stream",
     "text": [
      "     Unnamed: 0                                              POSTS  LUBIE_TO  \\\n",
      "0             0   Jakieś sposoby na ból głowy? W poniedziałek m...         3   \n",
      "1             1   podcasty Siema, z racji tego, że muzyka mnie ...        14   \n",
      "2             2   Siema, luźny post, co was ostatnio denerwuje,...         6   \n",
      "3             3   siemka, przychodze z takim pytaniem. Od jakie...         1   \n",
      "4             4   Jakiego skilla chcielibyście nabyć w najbliżs...         5   \n",
      "..          ...                                                ...       ...   \n",
      "399         399   Siemanko panowie, zwracam sie do was z prośbą...        16   \n",
      "400         400   Siemanko panowie, często sam udzielam się pod...        16   \n",
      "401         401   Witajcie panowie jestem z swoją dziewczyna pó...         4   \n",
      "402         402   Czy waszym zdaniem trudno znaleść sobie partn...         0   \n",
      "403         403   Wczorajsze pytanie rozkręciło dosyć sporo dys...         3   \n",
      "\n",
      "     SUPER  TRZYMAJ_SIE  HAHA  WOW  PRZYKRO_MI  WRR  ALL_REACTIONS  COMMENTS  \\\n",
      "0        0            2     0    0           0    0              5        12   \n",
      "1        0            0     0    0           0    0             14       103   \n",
      "2        0            0     0    0           0    0              6       112   \n",
      "3        0            0     0    0           0    0              1         7   \n",
      "4        3            0     0    0           0    0              8       130   \n",
      "..     ...          ...   ...  ...         ...  ...            ...       ...   \n",
      "399      0           36     0    0          54    0            113        81   \n",
      "400      0          115     0    0           9    0            140        72   \n",
      "401      0            0     0    0           0    0              4        27   \n",
      "402      0            0     0    0           0    0              0        58   \n",
      "403      0            0     1    0           0    0              4        19   \n",
      "\n",
      "     POLARITY  SUBJECTIVITY  SIMILARITY_TO_BEST  POSTS_LENGTH  \\\n",
      "0       0.000         0.000            0.840424            39   \n",
      "1       0.000         0.000            0.917264            77   \n",
      "2       0.000         0.000            0.798893            33   \n",
      "3       0.000         0.000            0.855946            92   \n",
      "4       0.000         0.000            0.530140            22   \n",
      "..        ...           ...                 ...           ...   \n",
      "399     0.000         0.000            0.911896           450   \n",
      "400     0.175         0.325            0.926690           732   \n",
      "401     0.000         0.000            0.796946            32   \n",
      "402     0.000         0.000            0.781478            21   \n",
      "403     0.000         0.000            1.000000            59   \n",
      "\n",
      "     HUNDRED_REACTS_BAYES  \n",
      "0                       0  \n",
      "1                       0  \n",
      "2                       0  \n",
      "3                       0  \n",
      "4                       0  \n",
      "..                    ...  \n",
      "399                     1  \n",
      "400                     1  \n",
      "401                     0  \n",
      "402                     0  \n",
      "403                     0  \n",
      "\n",
      "[404 rows x 16 columns]\n"
     ]
    },
    {
     "ename": "KeyError",
     "evalue": "0",
     "output_type": "error",
     "traceback": [
      "\u001B[1;31m---------------------------------------------------------------------------\u001B[0m",
      "\u001B[1;31mKeyError\u001B[0m                                  Traceback (most recent call last)",
      "\u001B[1;32mc:\\users\\kuba\\anaconda3\\envs\\aibd\\labagh\\lab3\\lib\\site-packages\\pandas\\core\\indexes\\base.py\u001B[0m in \u001B[0;36mget_loc\u001B[1;34m(self, key, method, tolerance)\u001B[0m\n\u001B[0;32m   3360\u001B[0m             \u001B[1;32mtry\u001B[0m\u001B[1;33m:\u001B[0m\u001B[1;33m\u001B[0m\u001B[1;33m\u001B[0m\u001B[0m\n\u001B[1;32m-> 3361\u001B[1;33m                 \u001B[1;32mreturn\u001B[0m \u001B[0mself\u001B[0m\u001B[1;33m.\u001B[0m\u001B[0m_engine\u001B[0m\u001B[1;33m.\u001B[0m\u001B[0mget_loc\u001B[0m\u001B[1;33m(\u001B[0m\u001B[0mcasted_key\u001B[0m\u001B[1;33m)\u001B[0m\u001B[1;33m\u001B[0m\u001B[1;33m\u001B[0m\u001B[0m\n\u001B[0m\u001B[0;32m   3362\u001B[0m             \u001B[1;32mexcept\u001B[0m \u001B[0mKeyError\u001B[0m \u001B[1;32mas\u001B[0m \u001B[0merr\u001B[0m\u001B[1;33m:\u001B[0m\u001B[1;33m\u001B[0m\u001B[1;33m\u001B[0m\u001B[0m\n",
      "\u001B[1;32mc:\\users\\kuba\\anaconda3\\envs\\aibd\\labagh\\lab3\\lib\\site-packages\\pandas\\_libs\\index.pyx\u001B[0m in \u001B[0;36mpandas._libs.index.IndexEngine.get_loc\u001B[1;34m()\u001B[0m\n",
      "\u001B[1;32mc:\\users\\kuba\\anaconda3\\envs\\aibd\\labagh\\lab3\\lib\\site-packages\\pandas\\_libs\\index.pyx\u001B[0m in \u001B[0;36mpandas._libs.index.IndexEngine.get_loc\u001B[1;34m()\u001B[0m\n",
      "\u001B[1;32mpandas\\_libs\\hashtable_class_helper.pxi\u001B[0m in \u001B[0;36mpandas._libs.hashtable.PyObjectHashTable.get_item\u001B[1;34m()\u001B[0m\n",
      "\u001B[1;32mpandas\\_libs\\hashtable_class_helper.pxi\u001B[0m in \u001B[0;36mpandas._libs.hashtable.PyObjectHashTable.get_item\u001B[1;34m()\u001B[0m\n",
      "\u001B[1;31mKeyError\u001B[0m: 0",
      "\nThe above exception was the direct cause of the following exception:\n",
      "\u001B[1;31mKeyError\u001B[0m                                  Traceback (most recent call last)",
      "\u001B[1;32m~\\AppData\\Local\\Temp/ipykernel_11148/2159819377.py\u001B[0m in \u001B[0;36m<module>\u001B[1;34m\u001B[0m\n\u001B[0;32m      9\u001B[0m \u001B[0mnlp\u001B[0m\u001B[1;33m.\u001B[0m\u001B[0madd_pipe\u001B[0m\u001B[1;33m(\u001B[0m\u001B[1;34m'spacytextblob'\u001B[0m\u001B[1;33m)\u001B[0m\u001B[1;33m\u001B[0m\u001B[1;33m\u001B[0m\u001B[0m\n\u001B[0;32m     10\u001B[0m \u001B[1;33m\u001B[0m\u001B[0m\n\u001B[1;32m---> 11\u001B[1;33m \u001B[0mdf_facebook\u001B[0m\u001B[1;33m[\u001B[0m\u001B[1;36m0\u001B[0m\u001B[1;33m]\u001B[0m\u001B[1;33m[\u001B[0m\u001B[1;36m0\u001B[0m\u001B[1;33m]\u001B[0m\u001B[1;33m\u001B[0m\u001B[1;33m\u001B[0m\u001B[0m\n\u001B[0m",
      "\u001B[1;32mc:\\users\\kuba\\anaconda3\\envs\\aibd\\labagh\\lab3\\lib\\site-packages\\pandas\\core\\frame.py\u001B[0m in \u001B[0;36m__getitem__\u001B[1;34m(self, key)\u001B[0m\n\u001B[0;32m   3456\u001B[0m             \u001B[1;32mif\u001B[0m \u001B[0mself\u001B[0m\u001B[1;33m.\u001B[0m\u001B[0mcolumns\u001B[0m\u001B[1;33m.\u001B[0m\u001B[0mnlevels\u001B[0m \u001B[1;33m>\u001B[0m \u001B[1;36m1\u001B[0m\u001B[1;33m:\u001B[0m\u001B[1;33m\u001B[0m\u001B[1;33m\u001B[0m\u001B[0m\n\u001B[0;32m   3457\u001B[0m                 \u001B[1;32mreturn\u001B[0m \u001B[0mself\u001B[0m\u001B[1;33m.\u001B[0m\u001B[0m_getitem_multilevel\u001B[0m\u001B[1;33m(\u001B[0m\u001B[0mkey\u001B[0m\u001B[1;33m)\u001B[0m\u001B[1;33m\u001B[0m\u001B[1;33m\u001B[0m\u001B[0m\n\u001B[1;32m-> 3458\u001B[1;33m             \u001B[0mindexer\u001B[0m \u001B[1;33m=\u001B[0m \u001B[0mself\u001B[0m\u001B[1;33m.\u001B[0m\u001B[0mcolumns\u001B[0m\u001B[1;33m.\u001B[0m\u001B[0mget_loc\u001B[0m\u001B[1;33m(\u001B[0m\u001B[0mkey\u001B[0m\u001B[1;33m)\u001B[0m\u001B[1;33m\u001B[0m\u001B[1;33m\u001B[0m\u001B[0m\n\u001B[0m\u001B[0;32m   3459\u001B[0m             \u001B[1;32mif\u001B[0m \u001B[0mis_integer\u001B[0m\u001B[1;33m(\u001B[0m\u001B[0mindexer\u001B[0m\u001B[1;33m)\u001B[0m\u001B[1;33m:\u001B[0m\u001B[1;33m\u001B[0m\u001B[1;33m\u001B[0m\u001B[0m\n\u001B[0;32m   3460\u001B[0m                 \u001B[0mindexer\u001B[0m \u001B[1;33m=\u001B[0m \u001B[1;33m[\u001B[0m\u001B[0mindexer\u001B[0m\u001B[1;33m]\u001B[0m\u001B[1;33m\u001B[0m\u001B[1;33m\u001B[0m\u001B[0m\n",
      "\u001B[1;32mc:\\users\\kuba\\anaconda3\\envs\\aibd\\labagh\\lab3\\lib\\site-packages\\pandas\\core\\indexes\\base.py\u001B[0m in \u001B[0;36mget_loc\u001B[1;34m(self, key, method, tolerance)\u001B[0m\n\u001B[0;32m   3361\u001B[0m                 \u001B[1;32mreturn\u001B[0m \u001B[0mself\u001B[0m\u001B[1;33m.\u001B[0m\u001B[0m_engine\u001B[0m\u001B[1;33m.\u001B[0m\u001B[0mget_loc\u001B[0m\u001B[1;33m(\u001B[0m\u001B[0mcasted_key\u001B[0m\u001B[1;33m)\u001B[0m\u001B[1;33m\u001B[0m\u001B[1;33m\u001B[0m\u001B[0m\n\u001B[0;32m   3362\u001B[0m             \u001B[1;32mexcept\u001B[0m \u001B[0mKeyError\u001B[0m \u001B[1;32mas\u001B[0m \u001B[0merr\u001B[0m\u001B[1;33m:\u001B[0m\u001B[1;33m\u001B[0m\u001B[1;33m\u001B[0m\u001B[0m\n\u001B[1;32m-> 3363\u001B[1;33m                 \u001B[1;32mraise\u001B[0m \u001B[0mKeyError\u001B[0m\u001B[1;33m(\u001B[0m\u001B[0mkey\u001B[0m\u001B[1;33m)\u001B[0m \u001B[1;32mfrom\u001B[0m \u001B[0merr\u001B[0m\u001B[1;33m\u001B[0m\u001B[1;33m\u001B[0m\u001B[0m\n\u001B[0m\u001B[0;32m   3364\u001B[0m \u001B[1;33m\u001B[0m\u001B[0m\n\u001B[0;32m   3365\u001B[0m         \u001B[1;32mif\u001B[0m \u001B[0mis_scalar\u001B[0m\u001B[1;33m(\u001B[0m\u001B[0mkey\u001B[0m\u001B[1;33m)\u001B[0m \u001B[1;32mand\u001B[0m \u001B[0misna\u001B[0m\u001B[1;33m(\u001B[0m\u001B[0mkey\u001B[0m\u001B[1;33m)\u001B[0m \u001B[1;32mand\u001B[0m \u001B[1;32mnot\u001B[0m \u001B[0mself\u001B[0m\u001B[1;33m.\u001B[0m\u001B[0mhasnans\u001B[0m\u001B[1;33m:\u001B[0m\u001B[1;33m\u001B[0m\u001B[1;33m\u001B[0m\u001B[0m\n",
      "\u001B[1;31mKeyError\u001B[0m: 0"
     ]
    }
   ],
   "source": [
    "import spacy\n",
    "import pandas as pd\n",
    "from spacytextblob.spacytextblob import SpacyTextBlob\n",
    "\n",
    "df_facebook = pd.read_csv('data_facebook/facebook_data.csv')\n",
    "print(df_facebook)\n",
    "\n",
    "nlp = spacy.load(\"pl_core_news_lg\")\n",
    "nlp.add_pipe('spacytextblob')"
   ]
  },
  {
   "cell_type": "code",
   "execution_count": 31,
   "outputs": [
    {
     "name": "stdout",
     "output_type": "stream",
     "text": [
      "[-1.22707093e+00 -2.98310727e-01 -5.52671134e-01 -2.38939926e-01\n",
      "  1.39525366e+00 -7.09420264e-01 -1.35786965e-01  9.04689670e-01\n",
      " -2.82682832e-02  3.98223773e-02 -8.79156649e-01  1.07870340e+00\n",
      " -1.80764282e+00  1.67485940e+00  2.60051012e-01  8.28388214e-01\n",
      "  1.50198781e+00  2.67950654e-01 -3.41818362e-01 -8.20862412e-01\n",
      " -3.25516403e-01 -1.13759232e+00  1.78038031e-01  3.23758006e-01\n",
      " -7.24059582e-01  3.04689199e-01  6.53726220e-01  5.67428589e-01\n",
      " -2.31093884e-01 -5.84242940e-01 -6.21939480e-01 -8.49395573e-01\n",
      " -5.43661356e-01 -5.55981576e-01  4.00317401e-01 -3.56838495e-01\n",
      " -1.07945681e+00  8.54178011e-01  1.60604823e+00  5.21099687e-01\n",
      " -6.90343082e-02  4.59738314e-01 -6.95548058e-01  9.17648733e-01\n",
      " -1.23815060e+00 -2.03334093e-02  3.32863092e-01 -6.93875074e-01\n",
      "  3.15528721e-01 -8.85555923e-01 -1.09819400e+00 -5.57784140e-01\n",
      " -6.32141292e-01 -1.22914195e+00 -3.20389360e-01  9.99593139e-02\n",
      " -1.75678885e+00 -1.02309954e+00 -1.14362322e-01 -1.60719967e+00\n",
      " -1.31344533e+00  1.28506768e+00 -9.95539963e-01  1.82961076e-01\n",
      " -9.53286171e-01 -8.52499843e-01 -4.78871465e-01 -1.61900306e+00\n",
      "  2.63387769e-01  1.93484165e-02 -6.50512993e-01  1.27719152e+00\n",
      " -1.27143294e-01  4.74941015e-01  2.11509570e-01  3.31321657e-01\n",
      " -1.10075498e+00  4.24728304e-01  4.46151823e-01 -2.90199697e-01\n",
      " -1.13292605e-01 -3.75645995e-01 -3.75083059e-01  1.52641571e+00\n",
      "  3.85577291e-01  1.44365489e+00  1.20671797e+00 -1.32353917e-01\n",
      " -1.24709928e+00  7.10037410e-01 -8.89955819e-01  3.32454205e-01\n",
      "  2.91914970e-01  6.45302907e-02  3.87229890e-01 -1.51646805e+00\n",
      " -7.09564447e-01  5.61259091e-01 -1.74136996e-01  3.26376408e-01\n",
      " -7.08573163e-01  2.10975504e+00  1.50831783e+00 -7.97987878e-01\n",
      " -2.40214571e-01 -4.77482110e-01  1.41341496e+00  1.11879408e+00\n",
      " -3.32082689e-01  4.38231915e-01 -1.48911667e+00  1.08728433e+00\n",
      "  6.81226179e-02  1.11276351e-01  3.17255259e-01 -3.57415497e-01\n",
      "  1.08654416e+00 -8.12442899e-01  4.12158258e-02 -3.32114398e-01\n",
      " -1.28529668e-01  1.39113915e+00 -9.74941850e-01 -9.00368512e-01\n",
      " -2.95584798e-01  1.19180405e+00  2.97392726e-01 -1.09070860e-01\n",
      "  7.39009917e-01  2.89733738e-01 -3.02009106e-01  1.19800663e+00\n",
      "  1.53400874e+00  1.36973724e-01 -1.96202517e-01  8.86751473e-01\n",
      " -1.63329911e+00 -9.33317363e-01  1.62242174e+00 -2.04607272e+00\n",
      "  1.59812480e-01 -1.94558397e-01  1.65645212e-01 -1.07624781e+00\n",
      " -3.78949463e-01 -2.42269095e-02 -1.07084608e+00  3.45165014e-01\n",
      "  1.64870596e+00  4.37525302e-01 -6.84830472e-02 -9.23528448e-02\n",
      " -4.28287983e-01 -4.98377353e-01 -1.86372593e-01  9.48143244e-01\n",
      " -1.32517368e-01 -1.06881678e+00  5.36383927e-01 -9.90150943e-02\n",
      " -5.91918111e-01 -6.95718408e-01 -1.44310987e+00 -1.27169937e-01\n",
      " -6.13649189e-01  4.30955946e-01 -1.07778132e-01 -8.20650935e-01\n",
      " -1.01697528e+00  1.52838707e+00 -4.15407628e-01 -4.80092674e-01\n",
      "  3.56532633e-01  1.09601462e+00  1.31316745e+00  7.38872588e-02\n",
      "  2.86784500e-01  4.32904422e-01  7.28699923e-01  4.44749326e-01\n",
      "  1.11685582e-01  1.12382531e+00  1.80170596e-01 -8.61995280e-01\n",
      " -1.01154017e+00  2.28018928e+00  5.35649657e-01  8.35759521e-01\n",
      " -1.06937461e-01  1.07516557e-01  4.96998094e-02  1.45473146e+00\n",
      "  7.34444082e-01 -1.69243228e+00 -1.20728660e+00  8.48693967e-01\n",
      " -3.44761789e-01 -2.45409027e-01 -1.37998164e+00 -5.55468537e-02\n",
      "  3.20420235e-01 -4.26106453e-02  1.56521571e+00  8.81192744e-01\n",
      " -4.30147439e-01 -6.08753800e-01  1.81414858e-01 -2.34224811e-01\n",
      " -3.34828854e-01  3.22187126e-01 -7.14804888e-01  4.90674049e-01\n",
      " -5.70228875e-01  6.08117998e-01  2.35682562e-01  2.93867618e-01\n",
      " -4.77923416e-02 -9.99276698e-01 -9.66755152e-01  9.25568223e-01\n",
      "  1.70893058e-01  6.15866959e-01 -3.10670197e-01  9.39545155e-01\n",
      " -3.23075294e-01  8.26256394e-01  1.33109546e+00 -4.13245052e-01\n",
      "  2.16012876e-02  1.04837132e+00  6.80744241e-04  9.44997847e-01\n",
      " -6.83613956e-01  4.33264613e-01  3.48574370e-01 -7.64412403e-01\n",
      "  3.44471961e-01 -2.11114168e+00 -8.74588430e-01  1.27309883e+00\n",
      "  1.88798308e-01 -1.21823215e+00 -1.01996922e+00 -3.12243283e-01\n",
      " -2.43985966e-01 -2.93744057e-01  9.33043242e-01 -2.02967688e-01\n",
      "  1.46794021e+00 -6.48118615e-01 -1.88925490e-01  9.47607100e-01\n",
      "  3.84928249e-02  9.72489715e-02  2.88128823e-01 -6.35813534e-01\n",
      " -9.81014132e-01 -4.54300135e-01  2.20960930e-01  6.15242779e-01\n",
      "  2.33549953e+00  3.51312533e-02 -6.58602238e-01 -9.86090004e-02\n",
      "  8.57243121e-01 -1.51580048e+00 -4.47892696e-01 -6.57328904e-01\n",
      " -1.57607496e+00 -2.42351890e-01  9.99815166e-01 -1.23223996e+00\n",
      "  8.14016104e-01 -6.69399083e-01  9.38493013e-01  1.41681910e+00\n",
      " -1.41625559e+00  1.21460819e+00 -5.64543962e-01  2.20586255e-01\n",
      " -7.24008977e-01  1.32642254e-01  2.21216035e+00  1.49406219e+00\n",
      " -1.19866908e+00 -1.08731711e+00  5.45304060e-01 -6.14241660e-01\n",
      "  8.82055104e-01 -4.58290815e-01  1.23955503e-01 -1.34756017e+00\n",
      " -5.52758813e-01  1.11058153e-01 -5.95153987e-01  5.77043116e-01\n",
      " -1.17124355e+00  1.30523801e+00 -9.79291677e-01  1.18590929e-01]\n",
      "siema związka wpaść rutyna ogólny robienie wiedza swoją kobieta kiedyś słyszeć takim plakata zdrapka różny pomysł spędzenie czas swoją partnerka allegro kosztować móc zrobić takiego darmo chcieć wykorzystać posta łatwo chłopak mieć podobny problem problem mieć stworzyć wzór plakat sypnąby pomysł uzbierać naprawdę sporo rzecz urozmaicić swój związka stylo wspólny zjedzenie kebab piwo droga szybki rucho popatrzyć samochód posłuchanie szum móc pomysł zapraszać zabawa buziak pa\n"
     ]
    }
   ],
   "source": [
    "post = df_facebook['POSTS'][40]\n",
    "\n",
    "doc = nlp(post)\n",
    "\n",
    "print(doc.vector)\n",
    "\n",
    "clean_text = \" \".join(token.lemma_ for token in nlp(doc) if token.lemma_.lower() not in nlp.Defaults.stop_words and token.is_alpha)\n",
    "print(clean_text)\n"
   ],
   "metadata": {
    "collapsed": false,
    "pycharm": {
     "name": "#%%\n"
    }
   }
  },
  {
   "cell_type": "code",
   "execution_count": 28,
   "outputs": [
    {
     "name": "stdout",
     "output_type": "stream",
     "text": [
      "[[1. 1.]\n",
      " [1. 1.]]\n"
     ]
    }
   ],
   "source": [
    "import numpy as np\n",
    "\n",
    "xtest = [1,2,3,4,5]\n",
    "ytest = [2,4,6,8,10]\n",
    "\n",
    "print(np.corrcoef(xtest, ytest))"
   ],
   "metadata": {
    "collapsed": false,
    "pycharm": {
     "name": "#%%\n"
    }
   }
  },
  {
   "cell_type": "code",
   "execution_count": null,
   "outputs": [],
   "source": [],
   "metadata": {
    "collapsed": false,
    "pycharm": {
     "name": "#%%\n"
    }
   }
  }
 ],
 "metadata": {
  "kernelspec": {
   "display_name": "Python 3",
   "language": "python",
   "name": "python3"
  },
  "language_info": {
   "codemirror_mode": {
    "name": "ipython",
    "version": 2
   },
   "file_extension": ".py",
   "mimetype": "text/x-python",
   "name": "python",
   "nbconvert_exporter": "python",
   "pygments_lexer": "ipython2",
   "version": "2.7.6"
  }
 },
 "nbformat": 4,
 "nbformat_minor": 0
}