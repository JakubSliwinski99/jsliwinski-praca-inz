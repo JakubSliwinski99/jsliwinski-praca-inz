{
 "cells": [
  {
   "cell_type": "code",
   "execution_count": 4,
   "outputs": [],
   "source": [
    "import spacy\n",
    "from spacytextblob.spacytextblob import SpacyTextBlob\n",
    "import main\n",
    "\n",
    "nlp = spacy.load(\"pl_core_news_lg\")\n",
    "nlp.add_pipe('spacytextblob')\n",
    "list_of_posts1 = main.get_ready_list_of_posts_with_reactions_linkedin(\"data_linkedin/linkedin_agh.txt\") #88k obserwujących\n",
    "list_of_posts2 = main.get_ready_list_of_posts_with_reactions_linkedin(\"data_linkedin/linkedin_uj.txt\") #100k obserwujących\n",
    "list_of_posts3 = main.get_ready_list_of_posts_with_reactions_linkedin(\"data_linkedin/linkedin_uw.txt\") #175k obserwujących\n",
    "list_of_posts4 = main.get_ready_list_of_posts_with_reactions_linkedin(\"data_linkedin/linkedin_pw.txt\") #103k obserwujących\n",
    "list_of_posts5 = main.get_ready_list_of_posts_with_reactions_linkedin(\"data_linkedin/linkedin_pg.txt\") #56k obserwujących\n",
    "list_of_posts6 = main.get_ready_list_of_posts_with_reactions_linkedin(\"data_linkedin/linkedin_uam.txt\") #60k obserwujących\n",
    "list_of_posts7 = main.get_ready_list_of_posts_with_reactions_linkedin(\"data_linkedin/linkedin_umk.txt\") #34k obserwujących\n",
    "\n",
    "list_of_lists = [list_of_posts1, list_of_posts2, list_of_posts3, list_of_posts4, list_of_posts5, list_of_posts6, list_of_posts7]\n"
   ],
   "metadata": {
    "collapsed": false,
    "pycharm": {
     "name": "#%%\n"
    }
   }
  },
  {
   "cell_type": "code",
   "execution_count": 14,
   "outputs": [],
   "source": [
    "list_org1 = main.get_ready_list_of_posts_with_reactions_linkedin(\"data_linkedin/linkedin_otwarte_klatki.txt\")\n",
    "list_org2 = main.get_ready_list_of_posts_with_reactions_linkedin(\"data_linkedin/linkedin_niebezpiecznik.txt\")\n",
    "list_org3 = main.get_ready_list_of_posts_with_reactions_linkedin(\"data_linkedin/linkedin_wedel.txt\")\n",
    "list_org4 = main.get_ready_list_of_posts_with_reactions_linkedin(\"data_linkedin/linkedin_mbank.txt\")\n",
    "list_org5 = main.get_ready_list_of_posts_with_reactions_linkedin(\"data_linkedin/linkedin_budimex.txt\")\n",
    "list_org6 = main.get_ready_list_of_posts_with_reactions_linkedin(\"data_linkedin/linkedin_santander.txt\")\n",
    "\n",
    "list_organizations = [list_org1, list_org2, list_org3, list_org4, list_org5, list_org6]"
   ],
   "metadata": {
    "collapsed": false,
    "pycharm": {
     "name": "#%%\n"
    }
   }
  },
  {
   "cell_type": "code",
   "execution_count": 6,
   "outputs": [
    {
     "name": "stdout",
     "output_type": "stream",
     "text": [
      "103\n",
      "123.71844660194175\n",
      "146\n",
      "142.85616438356163\n",
      "101\n",
      "174.01980198019803\n",
      "39\n",
      "110.05128205128206\n",
      "85\n",
      "125.10588235294118\n",
      "49\n",
      "84.6734693877551\n",
      "111\n",
      "46.891891891891895\n",
      "18\n"
     ]
    }
   ],
   "source": [
    "import matplotlib.pyplot as plt\n",
    "import numpy as np\n",
    "\n",
    "x = []\n",
    "y = []\n",
    "\n",
    "for list in list_of_lists:\n",
    "    print(len(list))\n",
    "    reacts_count = 0\n",
    "\n",
    "    for post in list:\n",
    "        reacts_count += int(post[1])\n",
    "\n",
    "    reacts_average = reacts_count / len(list)\n",
    "    print(reacts_average)\n",
    "\n",
    "    for post in list:\n",
    "        doc = nlp(post[0])\n",
    "        if doc._.polarity != 0 and int(post[1]) / reacts_average > 1:\n",
    "            x.append(doc._.polarity)\n",
    "            y.append(int(post[1]) / reacts_average)\n",
    "\n",
    "x_array = np.array(x)\n",
    "y_array = np.array(y)\n",
    "\n",
    "print(len(x_array))"
   ],
   "metadata": {
    "collapsed": false,
    "pycharm": {
     "name": "#%%\n"
    }
   }
  },
  {
   "cell_type": "code",
   "execution_count": 7,
   "outputs": [
    {
     "name": "stdout",
     "output_type": "stream",
     "text": [
      "149\n",
      "32.14093959731544\n",
      "295\n",
      "305.27457627118645\n",
      "95\n",
      "83.25263157894737\n",
      "180\n",
      "128.9611111111111\n",
      "102\n",
      "67.94117647058823\n",
      "404\n",
      "45.60891089108911\n",
      "53\n"
     ]
    },
    {
     "data": {
      "text/plain": "<Figure size 432x288 with 1 Axes>",
      "image/png": "[encoded data removed]"
     },
     "metadata": {
      "needs_background": "light"
     },
     "output_type": "display_data"
    }
   ],
   "source": [
    "x_org = []\n",
    "y_org = []\n",
    "\n",
    "for list in list_organizations:\n",
    "    print(len(list))\n",
    "    reacts_count = 0\n",
    "\n",
    "    for post in list:\n",
    "        reacts_count += int(post[1])\n",
    "\n",
    "    reacts_average = reacts_count / len(list)\n",
    "    print(reacts_average)\n",
    "\n",
    "    for post in list:\n",
    "        doc = nlp(post[0])\n",
    "        if doc._.polarity != 0 and (int(post[1]) / reacts_average > 1 and int(post[1]) > 99): # Dodać ograniczenie górne\n",
    "            x_org.append(doc._.polarity)\n",
    "            y_org.append(int(post[1]) / reacts_average)\n",
    "\n",
    "x_org_array = np.array(x_org)\n",
    "y_org_array = np.array(y_org)\n",
    "\n",
    "print(len(x_org_array))\n",
    "\n",
    "plt.plot(x_array, y_array, 'bo')\n",
    "plt.plot(x_org_array, y_org_array, 'go')\n",
    "plt.show()"
   ],
   "metadata": {
    "collapsed": false,
    "pycharm": {
     "name": "#%%\n"
    }
   }
  },
  {
   "cell_type": "code",
   "execution_count": 8,
   "outputs": [
    {
     "name": "stdout",
     "output_type": "stream",
     "text": [
      "123.71844660194175\n",
      "142.85616438356163\n",
      "174.01980198019803\n",
      "110.05128205128206\n",
      "125.10588235294118\n",
      "84.6734693877551\n",
      "46.891891891891895\n",
      "32.14093959731544\n",
      "305.27457627118645\n",
      "83.25263157894737\n",
      "128.9611111111111\n",
      "67.94117647058823\n",
      "45.60891089108911\n"
     ]
    },
    {
     "data": {
      "text/plain": "<Figure size 432x288 with 1 Axes>",
      "image/png": "[encoded data removed]"
     },
     "metadata": {
      "needs_background": "light"
     },
     "output_type": "display_data"
    }
   ],
   "source": [
    "import matplotlib.pyplot as plt\n",
    "import numpy as np\n",
    "\n",
    "x = []\n",
    "y = []\n",
    "\n",
    "x_org = []\n",
    "y_org = []\n",
    "\n",
    "for list in list_of_lists:\n",
    "\n",
    "    reacts_count = 0\n",
    "    for post in list:\n",
    "        reacts_count += int(post[1])\n",
    "\n",
    "    reacts_average = reacts_count / len(list)\n",
    "    print(reacts_average)\n",
    "\n",
    "    for post in list:\n",
    "        if int(post[1]) / reacts_average > 0:\n",
    "            doc = nlp(post[0])\n",
    "            x.append(len(doc.ents))\n",
    "            y.append(int(post[1]) / reacts_average)\n",
    "\n",
    "for list in list_organizations:\n",
    "\n",
    "    reacts_count = 0\n",
    "    for post in list:\n",
    "        reacts_count += int(post[1])\n",
    "\n",
    "    reacts_average = reacts_count / len(list)\n",
    "    print(reacts_average)\n",
    "\n",
    "    for post in list:\n",
    "        if int(post[1]) / reacts_average > 0:\n",
    "            doc = nlp(post[0])\n",
    "            x.append(len(doc.ents))\n",
    "            y.append(int(post[1]) / reacts_average)\n",
    "\n",
    "\n",
    "x_array = np.array(x)\n",
    "y_array = np.array(y)\n",
    "\n",
    "x_org_array = np.array(x_org)\n",
    "y_org_array = np.array(y_org)\n",
    "\n",
    "plt.plot(x_array, y_array, 'bo')\n",
    "plt.plot(x_org_array, y_org_array, 'go')\n",
    "plt.show()"
   ],
   "metadata": {
    "collapsed": false,
    "pycharm": {
     "name": "#%%\n"
    }
   }
  },
  {
   "cell_type": "code",
   "execution_count": 19,
   "outputs": [
    {
     "name": "stdout",
     "output_type": "stream",
     "text": [
      "('Telewizja TVP Info przegrała w sądzie i musiala opublikować przeprosiny na stronie głównej. Wejdźcie i zobaczcie jak zupełnie przypadkiem strona się Wam przesuwa tak, żeby przeprosin całych nie dojrzeć. Kod strony pokazuje jak bardzo przypadkowe jest to przesunięcie. Żena lvl CSS, ale Barbara Streisand lubi to!', '2900')\n",
      "32.14093959731544\n",
      "305.27457627118645\n"
     ]
    },
    {
     "name": "stderr",
     "output_type": "stream",
     "text": [
      "C:\\Users\\Kuba\\AppData\\Local\\Temp/ipykernel_15388/1750095291.py:26: UserWarning: [W008] Evaluating Doc.similarity based on empty vectors.\n",
      "  x_similarity.append(doc.similarity(most_popular_post_doc))\n"
     ]
    },
    {
     "name": "stdout",
     "output_type": "stream",
     "text": [
      "83.25263157894737\n",
      "128.9611111111111\n",
      "67.94117647058823\n",
      "45.60891089108911\n"
     ]
    },
    {
     "data": {
      "text/plain": "<Figure size 432x288 with 1 Axes>",
      "image/png": "[encoded data removed]"
     },
     "metadata": {
      "needs_background": "light"
     },
     "output_type": "display_data"
    },
    {
     "data": {
      "text/plain": "<Figure size 432x288 with 1 Axes>",
      "image/png": "[encoded data removed]"
     },
     "metadata": {
      "needs_background": "light"
     },
     "output_type": "display_data"
    }
   ],
   "source": [
    "x_similarity = []\n",
    "y_similarity_react = []\n",
    "y_similarity_index = []\n",
    "\n",
    "most_popular_post = ['text','0']\n",
    "for list in list_organizations:\n",
    "    for post in list:\n",
    "        if int(post[1]) > int(most_popular_post[1]):\n",
    "            most_popular_post = post\n",
    "\n",
    "print(most_popular_post)\n",
    "\n",
    "most_popular_post_doc = nlp(most_popular_post[0])\n",
    "\n",
    "for list in list_organizations:\n",
    "\n",
    "    reacts_count = 0\n",
    "    for post in list:\n",
    "        reacts_count += int(post[1])\n",
    "\n",
    "    reacts_average = reacts_count / len(list)\n",
    "    print(reacts_average)\n",
    "\n",
    "    for post in list:\n",
    "        doc = nlp(post[0])\n",
    "        x_similarity.append(doc.similarity(most_popular_post_doc))\n",
    "        y_similarity_react.append(int(post[1]))\n",
    "        y_similarity_index.append(int(post[1]) / reacts_average)\n",
    "\n",
    "plt.plot(x_similarity, y_similarity_react, 'b.')\n",
    "plt.show()\n",
    "plt.plot(x_similarity, y_similarity_index, 'g.')\n",
    "plt.show()"
   ],
   "metadata": {
    "collapsed": false,
    "pycharm": {
     "name": "#%%\n"
    }
   }
  },
  {
   "cell_type": "code",
   "execution_count": 23,
   "outputs": [
    {
     "name": "stderr",
     "output_type": "stream",
     "text": [
      "100%|██████████| 149/149 [00:03<00:00, 39.54it/s]\n",
      "100%|██████████| 295/295 [00:04<00:00, 62.61it/s]\n",
      "100%|██████████| 95/95 [00:05<00:00, 18.12it/s]\n",
      "100%|██████████| 180/180 [00:05<00:00, 30.68it/s]\n",
      "100%|██████████| 102/102 [00:03<00:00, 31.76it/s]\n",
      "100%|██████████| 404/404 [00:12<00:00, 31.13it/s]\n"
     ]
    },
    {
     "data": {
      "text/plain": "['wspaniały',\n 'wiadomość',\n '2022',\n 'Włochy',\n 'zginąć',\n 'zwierzę',\n 'hodowane',\n 'futro',\n 'dzięki',\n 'wieloletni',\n 'działanie',\n 'organizacja',\n 'lav',\n 'udać',\n 'zakazać',\n 'hodowla',\n 'zwierzę',\n 'futro',\n 'kraj',\n 'organizacja',\n 'działać',\n 'zakaz',\n '2011',\n '10',\n 'działanie',\n 'udać',\n 'musić',\n 'położyć',\n 'kresa',\n 'okrutny',\n 'anachroniczny',\n 'hodowla',\n 'istnieć',\n 'cywilizowanym',\n 'społeczeństwo',\n 'troszczącym',\n 'czujące',\n 'istota',\n 'skomentować',\n 'aktywista',\n 'lav',\n 'włoski',\n 'ferma',\n 'rocznie',\n 'ginąć',\n '60',\n '000',\n 'zwierzę',\n 'niestety',\n 'polski',\n 'ferma',\n 'rocznie',\n 'ginąć',\n '5',\n 'milion',\n 'niedawno',\n 'razem',\n 'małgorzata',\n 'tracz',\n 'zapowiedzieć',\n 'złożenie',\n 'projekt',\n 'zakaz',\n 'hodowla',\n 'zwierzę',\n 'futro',\n '10',\n 'prowadzenie',\n 'kampania',\n 'udać',\n 'przyszły',\n 'zakazać',\n 'okrucieństwo',\n 'trzymać',\n 'kciuk',\n 'podpisać',\n 'apel',\n 'polityk',\n 'cenafutra.info']"
     },
     "execution_count": 23,
     "metadata": {},
     "output_type": "execute_result"
    }
   ],
   "source": [
    "# TOPIC MODELING\n",
    "\n",
    "from spacy.lang.pl import STOP_WORDS\n",
    "from tqdm import tqdm\n",
    "from spacy import Language\n",
    "import numpy as np\n",
    "\n",
    "import gensim\n",
    "import gensim.corpora as corpora\n",
    "from gensim.models import CoherenceModel\n",
    "\n",
    "import spacy\n",
    "\n",
    "\n",
    "nlp= spacy.load(\"pl_core_news_lg\")\n",
    "\n",
    "# My list of stop words.\n",
    "stop_list = [\"móc\", \"mieć\", \"  \", \"   \", \"    \", \"     \", \"      \", \"       \", \"chcieć\", \"problem\", \"xd\", \"jakieś\", \"siema\", \"wiedzieć\", \"robić\", \"zrobić\", \"mówić\", \"pytanie\", \"rok\", \"czas\", \"dziewczyna\", \"nbsp\", \"https\", \"http\", \"the\", \"of\", \"in\", \"and\"]\n",
    "\n",
    "#rok, dziewczyna\n",
    "\n",
    "# Updates spaCy's default stop words list with my additional words.\n",
    "nlp.Defaults.stop_words.update(stop_list)\n",
    "\n",
    "# Iterates over the words in the stop words list and resets the \"is_stop\" flag.\n",
    "for word in STOP_WORDS:\n",
    "    lexeme = nlp.vocab[word]\n",
    "    lexeme.is_stop = True\n",
    "\n",
    "@Language.component(\"my_lemmatizer\")\n",
    "def lemmatizer(doc):\n",
    "    # This takes in a doc of tokens from the NER and lemmatizes them.\n",
    "    # Pronouns (like \"I\" and \"you\" get lemmatized to '-PRON-', so I'm removing those.\n",
    "    doc = [token.lemma_ for token in doc if token.lemma_ != '-PRON-']\n",
    "    doc = u' '.join(doc)\n",
    "    return nlp.make_doc(doc)\n",
    "\n",
    "@Language.component(\"my_stopwords\")\n",
    "def remove_stopwords(doc):\n",
    "    # This will remove stopwords and punctuation.\n",
    "    # Use token.text to return strings, which we'll need for Gensim.\n",
    "    doc = [token.text for token in doc if token.is_stop != True and token.is_punct != True]\n",
    "    return doc\n",
    "\n",
    "# The add_pipe function appends our functions to the default pipeline.\n",
    "nlp.add_pipe(\"my_lemmatizer\",after='ner')\n",
    "nlp.add_pipe(\"my_stopwords\", last=True)\n",
    "\n",
    "\n",
    "doc_list = []\n",
    "# Iterates through each article in the corpus.\n",
    "for list in list_organizations:\n",
    "    for doc in tqdm(list):\n",
    "        # Passes that article through the pipeline and adds to a new list.\n",
    "        pr = nlp(doc[0])\n",
    "        doc_list.append(pr)\n",
    "\n",
    "doc_list[0]"
   ],
   "metadata": {
    "collapsed": false,
    "pycharm": {
     "name": "#%%\n"
    }
   }
  },
  {
   "cell_type": "code",
   "execution_count": 25,
   "outputs": [
    {
     "name": "stdout",
     "output_type": "stream",
     "text": [
      "[(0, '0.007*\"santander\" + 0.006*\"bank\" + 0.004*\"firma\" + 0.004*\"polski\" + 0.004*\"polska\" + 0.004*\"strona\" + 0.003*\"bankowość\" + 0.003*\"zapraszać\" + 0.003*\"kolejny\" + 0.003*\"klient\"'), (1, '0.005*\"bank\" + 0.004*\"polska\" + 0.004*\"santander\" + 0.004*\"pracownik\" + 0.004*\"s\" + 0.003*\"Polska\" + 0.003*\"dziękować\" + 0.003*\"Wedel\" + 0.003*\"polski\" + 0.003*\"firma\"'), (2, '0.004*\"nowy\" + 0.004*\"praca\" + 0.004*\"dobry\" + 0.003*\"bank\" + 0.003*\"budimex\" + 0.003*\"klient\" + 0.003*\"pasja\" + 0.003*\"zapraszać\" + 0.002*\"dzięki\" + 0.002*\"wielki\"'), (3, '0.005*\"nowy\" + 0.004*\"pracownik\" + 0.004*\"firma\" + 0.004*\"bank\" + 0.003*\"praca\" + 0.003*\"polski\" + 0.003*\"dziecko\" + 0.003*\"osoba\" + 0.003*\"santander\" + 0.003*\"ważny\"'), (4, '0.007*\"bank\" + 0.005*\"santander\" + 0.004*\"polski\" + 0.004*\"zwierzę\" + 0.003*\"pierwszy\" + 0.003*\"s\" + 0.003*\"wielki\" + 0.002*\"Polska\" + 0.002*\"2021\" + 0.002*\"konkurs\"'), (5, '0.009*\"bank\" + 0.008*\"praca\" + 0.006*\"pracownik\" + 0.006*\"zwierzę\" + 0.005*\"santander\" + 0.005*\"program\" + 0.004*\"klient\" + 0.004*\"nowy\" + 0.004*\"działanie\" + 0.004*\"polska\"')]\n"
     ]
    }
   ],
   "source": [
    "words = corpora.Dictionary(doc_list)\n",
    "\n",
    "# Turns each document into a bag of words.\n",
    "corpus = [words.doc2bow(doc) for doc in doc_list]\n",
    "\n",
    "lda_model = gensim.models.ldamodel.LdaModel(corpus=corpus,\n",
    "                                            id2word=words,\n",
    "                                            num_topics=6,\n",
    "                                            random_state=2,\n",
    "                                            update_every=1,\n",
    "                                            passes=10,\n",
    "                                            alpha='auto',\n",
    "                                            per_word_topics=True)\n",
    "\n",
    "print(lda_model.print_topics(num_words=10))"
   ],
   "metadata": {
    "collapsed": false,
    "pycharm": {
     "name": "#%%\n"
    }
   }
  },
  {
   "cell_type": "code",
   "execution_count": 26,
   "outputs": [
    {
     "data": {
      "text/plain": "<Figure size 432x288 with 1 Axes>",
      "image/png": "[encoded data removed]"
     },
     "metadata": {
      "needs_background": "light"
     },
     "output_type": "display_data"
    }
   ],
   "source": [
    "corpus_transformed = lda_model[corpus]\n",
    "\n",
    "x_topic = []\n",
    "y_topic_react = []\n",
    "\n",
    "i = 0\n",
    "for list in list_organizations:\n",
    "    for post in list:\n",
    "        x_topic.append(corpus_transformed[i][0][0][0])\n",
    "        y_topic_react.append(int(post[1]))\n",
    "        i+=1\n",
    "\n",
    "x_topic_array = np.array(x_topic)\n",
    "y_topic_react_array = np.array(y_topic_react)\n",
    "plt.plot(x_topic_array, y_topic_react_array, 'bo')\n",
    "plt.show()"
   ],
   "metadata": {
    "collapsed": false,
    "pycharm": {
     "name": "#%%\n"
    }
   }
  },
  {
   "cell_type": "code",
   "execution_count": null,
   "outputs": [],
   "source": [],
   "metadata": {
    "collapsed": false,
    "pycharm": {
     "name": "#%%\n"
    }
   }
  }
 ],
 "metadata": {
  "kernelspec": {
   "display_name": "Python 3 (ipykernel)",
   "language": "python",
   "name": "python3"
  },
  "language_info": {
   "codemirror_mode": {
    "name": "ipython",
    "version": 3
   },
   "file_extension": ".py",
   "mimetype": "text/x-python",
   "name": "python",
   "nbconvert_exporter": "python",
   "pygments_lexer": "ipython3",
   "version": "3.8.10"
  }
 },
 "nbformat": 4,
 "nbformat_minor": 4
}